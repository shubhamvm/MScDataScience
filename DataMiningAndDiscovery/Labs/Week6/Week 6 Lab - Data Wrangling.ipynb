{
 "cells": [
  {
   "cell_type": "markdown",
   "metadata": {},
   "source": [
    "# Week 6 Lab: Data Wrangling\n",
    "\n",
    "This week we will conclude our work on data preprocessing by considering data wrangling, which is the process of collecting and modifying raw data into some other form for subsequent analysing and decision-making. Recall, last week we saw many ways to 'fix up' our data, e.g. by removing/replacing missing or duplicate data, performing discretisation or PCA. This week we will now add to this by exploring hierarchical indexing, and merging and reshaping of data. We will then conclude with some exercises which should hopefully give us plenty of practice in using pandas to work with data. Next week, we will then start to extract useful information from data by looking at linear regression.\n",
    "\n",
    "As ever, more detail on today's topics can be found in Mckinney's _Python for Data Analysis_, _Introduction to Data Mining_, or by looking for notebooks by Jose Portilla.\n",
    "\n",
    "To execute the code, click on the corresponding cell and press the SHIFT-ENTER keys simultaneously."
   ]
  },
  {
   "cell_type": "markdown",
   "metadata": {},
   "source": [
    "## 6.1 Hierarchical Indexing\n",
    "\n",
    "Hierarchical indexing allows us to use multiple index levels on an axis. This provides a way for us to work with higher dimensional data in a lower dimensional form. It is also known as multiple indexing."
   ]
  },
  {
   "cell_type": "code",
   "execution_count": 1,
   "metadata": {},
   "outputs": [
    {
     "name": "stdout",
     "output_type": "stream",
     "text": [
      "a  1    0.303163\n",
      "   2   -0.790910\n",
      "   3   -0.113731\n",
      "b  1    0.072670\n",
      "   2    1.329320\n",
      "   3    0.407109\n",
      "c  1    0.485772\n",
      "   2   -1.127561\n",
      "dtype: float64\n"
     ]
    }
   ],
   "source": [
    "import pandas as pd\n",
    "import numpy as np\n",
    "\n",
    "outside = ['a','a','a','b','b','b','c','c']\n",
    "inside = [1,2,3,1,2,3,1,2]\n",
    "data = pd.Series(np.random.randn(8),index=[outside,inside])\n",
    "\n",
    "print(data)"
   ]
  },
  {
   "cell_type": "markdown",
   "metadata": {},
   "source": [
    "This is a Series with a `MultiIndex` as its index. `MultiIndex` allows us to select more than one row and column in our index."
   ]
  },
  {
   "cell_type": "code",
   "execution_count": 2,
   "metadata": {},
   "outputs": [
    {
     "data": {
      "text/plain": [
       "MultiIndex([('a', 1),\n",
       "            ('a', 2),\n",
       "            ('a', 3),\n",
       "            ('b', 1),\n",
       "            ('b', 2),\n",
       "            ('b', 3),\n",
       "            ('c', 1),\n",
       "            ('c', 2)],\n",
       "           )"
      ]
     },
     "execution_count": 2,
     "metadata": {},
     "output_type": "execute_result"
    }
   ],
   "source": [
    "data.index"
   ]
  },
  {
   "cell_type": "markdown",
   "metadata": {},
   "source": [
    "So, `MultiIndex` is an advanced indexing technique for DataFrames that shows the multiple levels of the indexes. Our dataset has two levels. As expected, we can obtain subsets of the data using the indexes, can slice the data and see more than one index."
   ]
  },
  {
   "cell_type": "code",
   "execution_count": 3,
   "metadata": {},
   "outputs": [
    {
     "name": "stdout",
     "output_type": "stream",
     "text": [
      "1    0.303163\n",
      "2   -0.790910\n",
      "3   -0.113731\n",
      "dtype: float64 \n",
      "\n",
      "b  1    0.072670\n",
      "   2    1.329320\n",
      "   3    0.407109\n",
      "c  1    0.485772\n",
      "   2   -1.127561\n",
      "dtype: float64 \n",
      "\n",
      "a  1    0.303163\n",
      "   2   -0.790910\n",
      "   3   -0.113731\n",
      "c  1    0.485772\n",
      "   2   -1.127561\n",
      "dtype: float64\n"
     ]
    }
   ],
   "source": [
    "print(data['a'],\"\\n\",)\n",
    "\n",
    "print(data['b':'c'],\"\\n\")\n",
    "\n",
    "print(data.loc[['a','c']])"
   ]
  },
  {
   "cell_type": "markdown",
   "metadata": {},
   "source": [
    "We can also select values from the inner index."
   ]
  },
  {
   "cell_type": "code",
   "execution_count": 4,
   "metadata": {},
   "outputs": [
    {
     "data": {
      "text/plain": [
       "a    0.303163\n",
       "b    0.072670\n",
       "c    0.485772\n",
       "dtype: float64"
      ]
     },
     "execution_count": 4,
     "metadata": {},
     "output_type": "execute_result"
    }
   ],
   "source": [
    "data.loc[:,1]"
   ]
  },
  {
   "cell_type": "markdown",
   "metadata": {},
   "source": [
    "### 6.1.1 Unstack\n",
    "\n",
    "Hierarchical indexing plays an important role in reshaping data and group-based operations like forming a pivot table. For instance, the stack method turns column names into index values, and the unstack method turns index values into column names."
   ]
  },
  {
   "cell_type": "code",
   "execution_count": 5,
   "metadata": {},
   "outputs": [
    {
     "data": {
      "text/html": [
       "<div>\n",
       "<style scoped>\n",
       "    .dataframe tbody tr th:only-of-type {\n",
       "        vertical-align: middle;\n",
       "    }\n",
       "\n",
       "    .dataframe tbody tr th {\n",
       "        vertical-align: top;\n",
       "    }\n",
       "\n",
       "    .dataframe thead th {\n",
       "        text-align: right;\n",
       "    }\n",
       "</style>\n",
       "<table border=\"1\" class=\"dataframe\">\n",
       "  <thead>\n",
       "    <tr style=\"text-align: right;\">\n",
       "      <th></th>\n",
       "      <th>1</th>\n",
       "      <th>2</th>\n",
       "      <th>3</th>\n",
       "    </tr>\n",
       "  </thead>\n",
       "  <tbody>\n",
       "    <tr>\n",
       "      <th>a</th>\n",
       "      <td>0.303163</td>\n",
       "      <td>-0.790910</td>\n",
       "      <td>-0.113731</td>\n",
       "    </tr>\n",
       "    <tr>\n",
       "      <th>b</th>\n",
       "      <td>0.072670</td>\n",
       "      <td>1.329320</td>\n",
       "      <td>0.407109</td>\n",
       "    </tr>\n",
       "    <tr>\n",
       "      <th>c</th>\n",
       "      <td>0.485772</td>\n",
       "      <td>-1.127561</td>\n",
       "      <td>NaN</td>\n",
       "    </tr>\n",
       "  </tbody>\n",
       "</table>\n",
       "</div>"
      ],
      "text/plain": [
       "          1         2         3\n",
       "a  0.303163 -0.790910 -0.113731\n",
       "b  0.072670  1.329320  0.407109\n",
       "c  0.485772 -1.127561       NaN"
      ]
     },
     "execution_count": 5,
     "metadata": {},
     "output_type": "execute_result"
    }
   ],
   "source": [
    "data.unstack()"
   ]
  },
  {
   "cell_type": "markdown",
   "metadata": {},
   "source": [
    "To restore the dataset, we can use the stack method."
   ]
  },
  {
   "cell_type": "code",
   "execution_count": 6,
   "metadata": {},
   "outputs": [
    {
     "data": {
      "text/plain": [
       "a  1    0.303163\n",
       "   2   -0.790910\n",
       "   3   -0.113731\n",
       "b  1    0.072670\n",
       "   2    1.329320\n",
       "   3    0.407109\n",
       "c  1    0.485772\n",
       "   2   -1.127561\n",
       "dtype: float64"
      ]
     },
     "execution_count": 6,
     "metadata": {},
     "output_type": "execute_result"
    }
   ],
   "source": [
    "data.unstack().stack()"
   ]
  },
  {
   "cell_type": "markdown",
   "metadata": {},
   "source": [
    "## 6.1.2 Indexing\n",
    "\n",
    "With a DataFrame, either axis can have a hierarchical index."
   ]
  },
  {
   "cell_type": "code",
   "execution_count": 7,
   "metadata": {},
   "outputs": [
    {
     "name": "stdout",
     "output_type": "stream",
     "text": [
      "     Theropod               Sauropoda\n",
      "    Feathered Unfeathered Unfeathered\n",
      "a 1         0           1           2\n",
      "  2         3           4           5\n",
      "b 1         6           7           8\n",
      "  2         9          10          11\n"
     ]
    }
   ],
   "source": [
    "frame=pd.DataFrame(np.arange(12).reshape((4,3)),\n",
    "                  index=[['a','a','b','b'],[1,2,1,2]],\n",
    "                  columns=[['Theropod','Theropod','Sauropoda'],\n",
    "                          ['Feathered','Unfeathered','Unfeathered']])\n",
    "print(frame)"
   ]
  },
  {
   "cell_type": "markdown",
   "metadata": {},
   "source": [
    "Notice that both row and columns have hierarchical indexes. We can also name hierarchical levels."
   ]
  },
  {
   "cell_type": "code",
   "execution_count": 8,
   "metadata": {},
   "outputs": [
    {
     "name": "stdout",
     "output_type": "stream",
     "text": [
      "Clade          Theropod               Sauropoda\n",
      "Type          Feathered Unfeathered Unfeathered\n",
      "Genus Species                                  \n",
      "a     1               0           1           2\n",
      "      2               3           4           5\n",
      "b     1               6           7           8\n",
      "      2               9          10          11\n"
     ]
    }
   ],
   "source": [
    "frame.index.names = ['Genus', 'Species']\n",
    "\n",
    "frame.columns.names=['Clade','Type']\n",
    "\n",
    "print(frame)"
   ]
  },
  {
   "cell_type": "markdown",
   "metadata": {},
   "source": [
    "We can then select subgroups of data."
   ]
  },
  {
   "cell_type": "code",
   "execution_count": 9,
   "metadata": {},
   "outputs": [
    {
     "data": {
      "text/html": [
       "<div>\n",
       "<style scoped>\n",
       "    .dataframe tbody tr th:only-of-type {\n",
       "        vertical-align: middle;\n",
       "    }\n",
       "\n",
       "    .dataframe tbody tr th {\n",
       "        vertical-align: top;\n",
       "    }\n",
       "\n",
       "    .dataframe thead th {\n",
       "        text-align: right;\n",
       "    }\n",
       "</style>\n",
       "<table border=\"1\" class=\"dataframe\">\n",
       "  <thead>\n",
       "    <tr style=\"text-align: right;\">\n",
       "      <th></th>\n",
       "      <th>Type</th>\n",
       "      <th>Feathered</th>\n",
       "      <th>Unfeathered</th>\n",
       "    </tr>\n",
       "    <tr>\n",
       "      <th>Genus</th>\n",
       "      <th>Species</th>\n",
       "      <th></th>\n",
       "      <th></th>\n",
       "    </tr>\n",
       "  </thead>\n",
       "  <tbody>\n",
       "    <tr>\n",
       "      <th rowspan=\"2\" valign=\"top\">a</th>\n",
       "      <th>1</th>\n",
       "      <td>0</td>\n",
       "      <td>1</td>\n",
       "    </tr>\n",
       "    <tr>\n",
       "      <th>2</th>\n",
       "      <td>3</td>\n",
       "      <td>4</td>\n",
       "    </tr>\n",
       "    <tr>\n",
       "      <th rowspan=\"2\" valign=\"top\">b</th>\n",
       "      <th>1</th>\n",
       "      <td>6</td>\n",
       "      <td>7</td>\n",
       "    </tr>\n",
       "    <tr>\n",
       "      <th>2</th>\n",
       "      <td>9</td>\n",
       "      <td>10</td>\n",
       "    </tr>\n",
       "  </tbody>\n",
       "</table>\n",
       "</div>"
      ],
      "text/plain": [
       "Type           Feathered  Unfeathered\n",
       "Genus Species                        \n",
       "a     1                0            1\n",
       "      2                3            4\n",
       "b     1                6            7\n",
       "      2                9           10"
      ]
     },
     "execution_count": 9,
     "metadata": {},
     "output_type": "execute_result"
    }
   ],
   "source": [
    "frame['Theropod']"
   ]
  },
  {
   "cell_type": "markdown",
   "metadata": {},
   "source": [
    "### 6.1.3 Swaplevel and Sorting\n",
    "\n",
    "Sometimes we may want to swap the level of the indexes. This is where `swaplevel` comes in. This method takes two levels and returns a new object. For example we can swap the Genus and Species indexes in the dataset."
   ]
  },
  {
   "cell_type": "code",
   "execution_count": 10,
   "metadata": {},
   "outputs": [
    {
     "data": {
      "text/html": [
       "<div>\n",
       "<style scoped>\n",
       "    .dataframe tbody tr th:only-of-type {\n",
       "        vertical-align: middle;\n",
       "    }\n",
       "\n",
       "    .dataframe tbody tr th {\n",
       "        vertical-align: top;\n",
       "    }\n",
       "\n",
       "    .dataframe thead tr th {\n",
       "        text-align: left;\n",
       "    }\n",
       "\n",
       "    .dataframe thead tr:last-of-type th {\n",
       "        text-align: right;\n",
       "    }\n",
       "</style>\n",
       "<table border=\"1\" class=\"dataframe\">\n",
       "  <thead>\n",
       "    <tr>\n",
       "      <th></th>\n",
       "      <th>Clade</th>\n",
       "      <th colspan=\"2\" halign=\"left\">Theropod</th>\n",
       "      <th>Sauropoda</th>\n",
       "    </tr>\n",
       "    <tr>\n",
       "      <th></th>\n",
       "      <th>Type</th>\n",
       "      <th>Feathered</th>\n",
       "      <th>Unfeathered</th>\n",
       "      <th>Unfeathered</th>\n",
       "    </tr>\n",
       "    <tr>\n",
       "      <th>Species</th>\n",
       "      <th>Genus</th>\n",
       "      <th></th>\n",
       "      <th></th>\n",
       "      <th></th>\n",
       "    </tr>\n",
       "  </thead>\n",
       "  <tbody>\n",
       "    <tr>\n",
       "      <th>1</th>\n",
       "      <th>a</th>\n",
       "      <td>0</td>\n",
       "      <td>1</td>\n",
       "      <td>2</td>\n",
       "    </tr>\n",
       "    <tr>\n",
       "      <th>2</th>\n",
       "      <th>a</th>\n",
       "      <td>3</td>\n",
       "      <td>4</td>\n",
       "      <td>5</td>\n",
       "    </tr>\n",
       "    <tr>\n",
       "      <th>1</th>\n",
       "      <th>b</th>\n",
       "      <td>6</td>\n",
       "      <td>7</td>\n",
       "      <td>8</td>\n",
       "    </tr>\n",
       "    <tr>\n",
       "      <th>2</th>\n",
       "      <th>b</th>\n",
       "      <td>9</td>\n",
       "      <td>10</td>\n",
       "      <td>11</td>\n",
       "    </tr>\n",
       "  </tbody>\n",
       "</table>\n",
       "</div>"
      ],
      "text/plain": [
       "Clade          Theropod               Sauropoda\n",
       "Type          Feathered Unfeathered Unfeathered\n",
       "Species Genus                                  \n",
       "1       a             0           1           2\n",
       "2       a             3           4           5\n",
       "1       b             6           7           8\n",
       "2       b             9          10          11"
      ]
     },
     "execution_count": 10,
     "metadata": {},
     "output_type": "execute_result"
    }
   ],
   "source": [
    "frame.swaplevel('Genus','Species')"
   ]
  },
  {
   "cell_type": "markdown",
   "metadata": {},
   "source": [
    "To sort the indexes by level, we can use the `sort_index` method. For instance, we can sort the dataset by Level 1."
   ]
  },
  {
   "cell_type": "code",
   "execution_count": 11,
   "metadata": {},
   "outputs": [
    {
     "data": {
      "text/html": [
       "<div>\n",
       "<style scoped>\n",
       "    .dataframe tbody tr th:only-of-type {\n",
       "        vertical-align: middle;\n",
       "    }\n",
       "\n",
       "    .dataframe tbody tr th {\n",
       "        vertical-align: top;\n",
       "    }\n",
       "\n",
       "    .dataframe thead tr th {\n",
       "        text-align: left;\n",
       "    }\n",
       "\n",
       "    .dataframe thead tr:last-of-type th {\n",
       "        text-align: right;\n",
       "    }\n",
       "</style>\n",
       "<table border=\"1\" class=\"dataframe\">\n",
       "  <thead>\n",
       "    <tr>\n",
       "      <th></th>\n",
       "      <th>Clade</th>\n",
       "      <th colspan=\"2\" halign=\"left\">Theropod</th>\n",
       "      <th>Sauropoda</th>\n",
       "    </tr>\n",
       "    <tr>\n",
       "      <th></th>\n",
       "      <th>Type</th>\n",
       "      <th>Feathered</th>\n",
       "      <th>Unfeathered</th>\n",
       "      <th>Unfeathered</th>\n",
       "    </tr>\n",
       "    <tr>\n",
       "      <th>Genus</th>\n",
       "      <th>Species</th>\n",
       "      <th></th>\n",
       "      <th></th>\n",
       "      <th></th>\n",
       "    </tr>\n",
       "  </thead>\n",
       "  <tbody>\n",
       "    <tr>\n",
       "      <th>a</th>\n",
       "      <th>1</th>\n",
       "      <td>0</td>\n",
       "      <td>1</td>\n",
       "      <td>2</td>\n",
       "    </tr>\n",
       "    <tr>\n",
       "      <th>b</th>\n",
       "      <th>1</th>\n",
       "      <td>6</td>\n",
       "      <td>7</td>\n",
       "      <td>8</td>\n",
       "    </tr>\n",
       "    <tr>\n",
       "      <th>a</th>\n",
       "      <th>2</th>\n",
       "      <td>3</td>\n",
       "      <td>4</td>\n",
       "      <td>5</td>\n",
       "    </tr>\n",
       "    <tr>\n",
       "      <th>b</th>\n",
       "      <th>2</th>\n",
       "      <td>9</td>\n",
       "      <td>10</td>\n",
       "      <td>11</td>\n",
       "    </tr>\n",
       "  </tbody>\n",
       "</table>\n",
       "</div>"
      ],
      "text/plain": [
       "Clade          Theropod               Sauropoda\n",
       "Type          Feathered Unfeathered Unfeathered\n",
       "Genus Species                                  \n",
       "a     1               0           1           2\n",
       "b     1               6           7           8\n",
       "a     2               3           4           5\n",
       "b     2               9          10          11"
      ]
     },
     "execution_count": 11,
     "metadata": {},
     "output_type": "execute_result"
    }
   ],
   "source": [
    "frame.sort_index(level=1)"
   ]
  },
  {
   "cell_type": "markdown",
   "metadata": {},
   "source": [
    "### 6.1.4 Summary Statistics\n",
    "\n",
    "Many descriptive and summary statistics on Series and DataFrame have a level option in which we can specify the level we want to aggregate by on a particular axis. So, on the above we can aggregate by level on either the rows or the columns."
   ]
  },
  {
   "cell_type": "code",
   "execution_count": 12,
   "metadata": {},
   "outputs": [
    {
     "data": {
      "text/html": [
       "<div>\n",
       "<style scoped>\n",
       "    .dataframe tbody tr th:only-of-type {\n",
       "        vertical-align: middle;\n",
       "    }\n",
       "\n",
       "    .dataframe tbody tr th {\n",
       "        vertical-align: top;\n",
       "    }\n",
       "\n",
       "    .dataframe thead tr th {\n",
       "        text-align: left;\n",
       "    }\n",
       "\n",
       "    .dataframe thead tr:last-of-type th {\n",
       "        text-align: right;\n",
       "    }\n",
       "</style>\n",
       "<table border=\"1\" class=\"dataframe\">\n",
       "  <thead>\n",
       "    <tr>\n",
       "      <th>Clade</th>\n",
       "      <th colspan=\"2\" halign=\"left\">Theropod</th>\n",
       "      <th>Sauropoda</th>\n",
       "    </tr>\n",
       "    <tr>\n",
       "      <th>Type</th>\n",
       "      <th>Feathered</th>\n",
       "      <th>Unfeathered</th>\n",
       "      <th>Unfeathered</th>\n",
       "    </tr>\n",
       "    <tr>\n",
       "      <th>Species</th>\n",
       "      <th></th>\n",
       "      <th></th>\n",
       "      <th></th>\n",
       "    </tr>\n",
       "  </thead>\n",
       "  <tbody>\n",
       "    <tr>\n",
       "      <th>1</th>\n",
       "      <td>6</td>\n",
       "      <td>8</td>\n",
       "      <td>10</td>\n",
       "    </tr>\n",
       "    <tr>\n",
       "      <th>2</th>\n",
       "      <td>12</td>\n",
       "      <td>14</td>\n",
       "      <td>16</td>\n",
       "    </tr>\n",
       "  </tbody>\n",
       "</table>\n",
       "</div>"
      ],
      "text/plain": [
       "Clade    Theropod               Sauropoda\n",
       "Type    Feathered Unfeathered Unfeathered\n",
       "Species                                  \n",
       "1               6           8          10\n",
       "2              12          14          16"
      ]
     },
     "execution_count": 12,
     "metadata": {},
     "output_type": "execute_result"
    }
   ],
   "source": [
    "frame.groupby(level=1).sum()"
   ]
  },
  {
   "cell_type": "markdown",
   "metadata": {},
   "source": [
    "We can see the total values according to the Clade level."
   ]
  },
  {
   "cell_type": "code",
   "execution_count": 13,
   "metadata": {},
   "outputs": [
    {
     "data": {
      "text/html": [
       "<div>\n",
       "<style scoped>\n",
       "    .dataframe tbody tr th:only-of-type {\n",
       "        vertical-align: middle;\n",
       "    }\n",
       "\n",
       "    .dataframe tbody tr th {\n",
       "        vertical-align: top;\n",
       "    }\n",
       "\n",
       "    .dataframe thead th {\n",
       "        text-align: right;\n",
       "    }\n",
       "</style>\n",
       "<table border=\"1\" class=\"dataframe\">\n",
       "  <thead>\n",
       "    <tr style=\"text-align: right;\">\n",
       "      <th></th>\n",
       "      <th>Clade</th>\n",
       "      <th>Sauropoda</th>\n",
       "      <th>Theropod</th>\n",
       "    </tr>\n",
       "    <tr>\n",
       "      <th>Genus</th>\n",
       "      <th>Species</th>\n",
       "      <th></th>\n",
       "      <th></th>\n",
       "    </tr>\n",
       "  </thead>\n",
       "  <tbody>\n",
       "    <tr>\n",
       "      <th rowspan=\"2\" valign=\"top\">a</th>\n",
       "      <th>1</th>\n",
       "      <td>2</td>\n",
       "      <td>1</td>\n",
       "    </tr>\n",
       "    <tr>\n",
       "      <th>2</th>\n",
       "      <td>5</td>\n",
       "      <td>7</td>\n",
       "    </tr>\n",
       "    <tr>\n",
       "      <th rowspan=\"2\" valign=\"top\">b</th>\n",
       "      <th>1</th>\n",
       "      <td>8</td>\n",
       "      <td>13</td>\n",
       "    </tr>\n",
       "    <tr>\n",
       "      <th>2</th>\n",
       "      <td>11</td>\n",
       "      <td>19</td>\n",
       "    </tr>\n",
       "  </tbody>\n",
       "</table>\n",
       "</div>"
      ],
      "text/plain": [
       "Clade          Sauropoda  Theropod\n",
       "Genus Species                     \n",
       "a     1                2         1\n",
       "      2                5         7\n",
       "b     1                8        13\n",
       "      2               11        19"
      ]
     },
     "execution_count": 13,
     "metadata": {},
     "output_type": "execute_result"
    }
   ],
   "source": [
    "frame.groupby(level='Clade',axis=1).sum()"
   ]
  },
  {
   "cell_type": "markdown",
   "metadata": {},
   "source": [
    "## 6.2 Reshaping, Filtering and Grouping Data\n",
    "\n",
    "For this, create a .csv file with 6 entries and 4 columns. You can tailor this in any way that you want."
   ]
  },
  {
   "cell_type": "code",
   "execution_count": 14,
   "metadata": {
    "scrolled": true
   },
   "outputs": [
    {
     "name": "stdout",
     "output_type": "stream",
     "text": [
      "    Forename     Surname     First Appearance Site Gender\n",
      "0     Granny  Weatherwax          Equal Ritea    B      F\n",
      "1   Eskarina       Smith          Equal Rites    B      F\n",
      "2        Sam       Vimes      Guards! Guards!    A      M\n",
      "3  Rincewind         NaN  The Colour of Magic    A      M\n",
      "4     Horace   Worblehat  The Light Fantastic    B      M\n",
      "5     Magrat     Garlick         Wyrd Sisters    B      F\n"
     ]
    }
   ],
   "source": [
    "frame2 = pd.read_csv('Week6Data.csv')\n",
    "print(frame2)"
   ]
  },
  {
   "cell_type": "markdown",
   "metadata": {},
   "source": [
    "We can reshape the data by replacing strings with numbers."
   ]
  },
  {
   "cell_type": "code",
   "execution_count": 15,
   "metadata": {},
   "outputs": [
    {
     "data": {
      "text/html": [
       "<div>\n",
       "<style scoped>\n",
       "    .dataframe tbody tr th:only-of-type {\n",
       "        vertical-align: middle;\n",
       "    }\n",
       "\n",
       "    .dataframe tbody tr th {\n",
       "        vertical-align: top;\n",
       "    }\n",
       "\n",
       "    .dataframe thead th {\n",
       "        text-align: right;\n",
       "    }\n",
       "</style>\n",
       "<table border=\"1\" class=\"dataframe\">\n",
       "  <thead>\n",
       "    <tr style=\"text-align: right;\">\n",
       "      <th></th>\n",
       "      <th>Forename</th>\n",
       "      <th>Surname</th>\n",
       "      <th>First Appearance</th>\n",
       "      <th>Site</th>\n",
       "      <th>Gender</th>\n",
       "    </tr>\n",
       "  </thead>\n",
       "  <tbody>\n",
       "    <tr>\n",
       "      <th>0</th>\n",
       "      <td>Granny</td>\n",
       "      <td>Weatherwax</td>\n",
       "      <td>Equal Ritea</td>\n",
       "      <td>B</td>\n",
       "      <td>1</td>\n",
       "    </tr>\n",
       "    <tr>\n",
       "      <th>1</th>\n",
       "      <td>Eskarina</td>\n",
       "      <td>Smith</td>\n",
       "      <td>Equal Rites</td>\n",
       "      <td>B</td>\n",
       "      <td>1</td>\n",
       "    </tr>\n",
       "    <tr>\n",
       "      <th>2</th>\n",
       "      <td>Sam</td>\n",
       "      <td>Vimes</td>\n",
       "      <td>Guards! Guards!</td>\n",
       "      <td>A</td>\n",
       "      <td>0</td>\n",
       "    </tr>\n",
       "    <tr>\n",
       "      <th>3</th>\n",
       "      <td>Rincewind</td>\n",
       "      <td>NaN</td>\n",
       "      <td>The Colour of Magic</td>\n",
       "      <td>A</td>\n",
       "      <td>0</td>\n",
       "    </tr>\n",
       "    <tr>\n",
       "      <th>4</th>\n",
       "      <td>Horace</td>\n",
       "      <td>Worblehat</td>\n",
       "      <td>The Light Fantastic</td>\n",
       "      <td>B</td>\n",
       "      <td>0</td>\n",
       "    </tr>\n",
       "    <tr>\n",
       "      <th>5</th>\n",
       "      <td>Magrat</td>\n",
       "      <td>Garlick</td>\n",
       "      <td>Wyrd Sisters</td>\n",
       "      <td>B</td>\n",
       "      <td>1</td>\n",
       "    </tr>\n",
       "  </tbody>\n",
       "</table>\n",
       "</div>"
      ],
      "text/plain": [
       "    Forename     Surname     First Appearance Site  Gender\n",
       "0     Granny  Weatherwax          Equal Ritea    B       1\n",
       "1   Eskarina       Smith          Equal Rites    B       1\n",
       "2        Sam       Vimes      Guards! Guards!    A       0\n",
       "3  Rincewind         NaN  The Colour of Magic    A       0\n",
       "4     Horace   Worblehat  The Light Fantastic    B       0\n",
       "5     Magrat     Garlick         Wyrd Sisters    B       1"
      ]
     },
     "execution_count": 15,
     "metadata": {},
     "output_type": "execute_result"
    }
   ],
   "source": [
    "gender = {'M': 0,'F': 1}\n",
    "frame2['Gender'] = [gender[item] for item in frame2['Gender']]\n",
    "frame2"
   ]
  },
  {
   "cell_type": "markdown",
   "metadata": {},
   "source": [
    "We can use the `groupby()` method that returns a DataFrameGroupBy object. By calling a method such as `value_counts()` on the object obtained, we can get the number of occurrences for each unique value in the specified column."
   ]
  },
  {
   "cell_type": "code",
   "execution_count": 16,
   "metadata": {},
   "outputs": [
    {
     "data": {
      "text/plain": [
       "Site  Gender\n",
       "A     0         2\n",
       "B     1         3\n",
       "      0         1\n",
       "Name: Gender, dtype: int64"
      ]
     },
     "execution_count": 16,
     "metadata": {},
     "output_type": "execute_result"
    }
   ],
   "source": [
    "frame2.groupby('Site').Gender.value_counts()"
   ]
  },
  {
   "cell_type": "markdown",
   "metadata": {},
   "source": [
    "This shows the correlation between the coloumns _Gender_ and _Site_. We can also find the unique values."
   ]
  },
  {
   "cell_type": "code",
   "execution_count": 17,
   "metadata": {},
   "outputs": [
    {
     "data": {
      "text/plain": [
       "array(['B', 'A'], dtype=object)"
      ]
     },
     "execution_count": 17,
     "metadata": {},
     "output_type": "execute_result"
    }
   ],
   "source": [
    "frame2.Site.unique()"
   ]
  },
  {
   "cell_type": "markdown",
   "metadata": {},
   "source": [
    "We can fiter the data by specifying different conditions. This can include mathematical operations such as > or <, or Boolean operations such as ==."
   ]
  },
  {
   "cell_type": "code",
   "execution_count": 18,
   "metadata": {},
   "outputs": [
    {
     "data": {
      "text/html": [
       "<div>\n",
       "<style scoped>\n",
       "    .dataframe tbody tr th:only-of-type {\n",
       "        vertical-align: middle;\n",
       "    }\n",
       "\n",
       "    .dataframe tbody tr th {\n",
       "        vertical-align: top;\n",
       "    }\n",
       "\n",
       "    .dataframe thead th {\n",
       "        text-align: right;\n",
       "    }\n",
       "</style>\n",
       "<table border=\"1\" class=\"dataframe\">\n",
       "  <thead>\n",
       "    <tr style=\"text-align: right;\">\n",
       "      <th></th>\n",
       "      <th>Forename</th>\n",
       "      <th>Surname</th>\n",
       "      <th>First Appearance</th>\n",
       "      <th>Site</th>\n",
       "      <th>Gender</th>\n",
       "    </tr>\n",
       "  </thead>\n",
       "  <tbody>\n",
       "    <tr>\n",
       "      <th>2</th>\n",
       "      <td>Sam</td>\n",
       "      <td>Vimes</td>\n",
       "      <td>Guards! Guards!</td>\n",
       "      <td>A</td>\n",
       "      <td>0</td>\n",
       "    </tr>\n",
       "    <tr>\n",
       "      <th>3</th>\n",
       "      <td>Rincewind</td>\n",
       "      <td>NaN</td>\n",
       "      <td>The Colour of Magic</td>\n",
       "      <td>A</td>\n",
       "      <td>0</td>\n",
       "    </tr>\n",
       "  </tbody>\n",
       "</table>\n",
       "</div>"
      ],
      "text/plain": [
       "    Forename Surname     First Appearance Site  Gender\n",
       "2        Sam   Vimes      Guards! Guards!    A       0\n",
       "3  Rincewind     NaN  The Colour of Magic    A       0"
      ]
     },
     "execution_count": 18,
     "metadata": {},
     "output_type": "execute_result"
    }
   ],
   "source": [
    "frame2[frame2['Site']=='A']"
   ]
  },
  {
   "cell_type": "markdown",
   "metadata": {},
   "source": [
    "## 6.3 Merging and Pivoting Data\n",
    "\n",
    "We can merge two data sets based on a column using the `merge()` function. This uses similar logic as merging SQL tables. First create another data frame."
   ]
  },
  {
   "cell_type": "code",
   "execution_count": 19,
   "metadata": {},
   "outputs": [
    {
     "name": "stdout",
     "output_type": "stream",
     "text": [
      "    Forename Multiple Appearances\n",
      "0     Granny                    Y\n",
      "1   Eskarina                    Y\n",
      "2        Sam                    Y\n",
      "3  Rincewind                    Y\n",
      "4     Horace                    Y\n",
      "5    Margrat                    Y\n",
      "\n",
      "Now we can merge this with our earlier data\n",
      "     Forename     Surname     First Appearance Site  Gender  \\\n",
      "0     Granny  Weatherwax          Equal Ritea    B       1   \n",
      "1   Eskarina       Smith          Equal Rites    B       1   \n",
      "2        Sam       Vimes      Guards! Guards!    A       0   \n",
      "3  Rincewind         NaN  The Colour of Magic    A       0   \n",
      "4     Horace   Worblehat  The Light Fantastic    B       0   \n",
      "\n",
      "  Multiple Appearances  \n",
      "0                    Y  \n",
      "1                    Y  \n",
      "2                    Y  \n",
      "3                    Y  \n",
      "4                    Y  \n"
     ]
    }
   ],
   "source": [
    "frame3=pd.DataFrame(\n",
    "        {'Forename':['Granny','Eskarina','Sam','Rincewind','Horace','Margrat'],\n",
    "        'Multiple Appearances':['Y','Y','Y','Y','Y','Y']})\n",
    "\n",
    "print(frame3)\n",
    "\n",
    "print(\"\\nNow we can merge this with our earlier data\\n\",pd.merge(frame2,frame3,on='Forename'))"
   ]
  },
  {
   "cell_type": "markdown",
   "metadata": {},
   "source": [
    "We can pivot the table where we can correlate columns."
   ]
  },
  {
   "cell_type": "code",
   "execution_count": 20,
   "metadata": {},
   "outputs": [
    {
     "data": {
      "text/html": [
       "<div>\n",
       "<style scoped>\n",
       "    .dataframe tbody tr th:only-of-type {\n",
       "        vertical-align: middle;\n",
       "    }\n",
       "\n",
       "    .dataframe tbody tr th {\n",
       "        vertical-align: top;\n",
       "    }\n",
       "\n",
       "    .dataframe thead th {\n",
       "        text-align: right;\n",
       "    }\n",
       "</style>\n",
       "<table border=\"1\" class=\"dataframe\">\n",
       "  <thead>\n",
       "    <tr style=\"text-align: right;\">\n",
       "      <th>Site</th>\n",
       "      <th>A</th>\n",
       "      <th>B</th>\n",
       "    </tr>\n",
       "    <tr>\n",
       "      <th>First Appearance</th>\n",
       "      <th></th>\n",
       "      <th></th>\n",
       "    </tr>\n",
       "  </thead>\n",
       "  <tbody>\n",
       "    <tr>\n",
       "      <th>Equal Ritea</th>\n",
       "      <td>NaN</td>\n",
       "      <td>1.0</td>\n",
       "    </tr>\n",
       "    <tr>\n",
       "      <th>Equal Rites</th>\n",
       "      <td>NaN</td>\n",
       "      <td>1.0</td>\n",
       "    </tr>\n",
       "    <tr>\n",
       "      <th>Guards! Guards!</th>\n",
       "      <td>0.0</td>\n",
       "      <td>NaN</td>\n",
       "    </tr>\n",
       "    <tr>\n",
       "      <th>The Colour of Magic</th>\n",
       "      <td>0.0</td>\n",
       "      <td>NaN</td>\n",
       "    </tr>\n",
       "    <tr>\n",
       "      <th>The Light Fantastic</th>\n",
       "      <td>NaN</td>\n",
       "      <td>0.0</td>\n",
       "    </tr>\n",
       "    <tr>\n",
       "      <th>Wyrd Sisters</th>\n",
       "      <td>NaN</td>\n",
       "      <td>1.0</td>\n",
       "    </tr>\n",
       "  </tbody>\n",
       "</table>\n",
       "</div>"
      ],
      "text/plain": [
       "Site                   A    B\n",
       "First Appearance             \n",
       "Equal Ritea          NaN  1.0\n",
       "Equal Rites          NaN  1.0\n",
       "Guards! Guards!      0.0  NaN\n",
       "The Colour of Magic  0.0  NaN\n",
       "The Light Fantastic  NaN  0.0\n",
       "Wyrd Sisters         NaN  1.0"
      ]
     },
     "execution_count": 20,
     "metadata": {},
     "output_type": "execute_result"
    }
   ],
   "source": [
    "frame2.pivot(index='First Appearance',columns='Site',values='Gender')"
   ]
  },
  {
   "cell_type": "markdown",
   "metadata": {},
   "source": [
    "## 6.4 Concatenating the DataFrames\n",
    "\n",
    "We now create another data frame and finally concatenate. Note that when concatenating, the dimensions should match along the axis we are concatenating on."
   ]
  },
  {
   "cell_type": "code",
   "execution_count": 21,
   "metadata": {},
   "outputs": [
    {
     "name": "stdout",
     "output_type": "stream",
     "text": [
      "   Appearances Misc\n",
      "0           12    1\n",
      "1            2   11\n",
      "2           10    6\n",
      "3           10    9\n",
      "4           16  NIL\n",
      "5            7    4\n",
      "\n",
      " Now we concatenate:\n",
      "     Forename     Surname     First Appearance Site  Gender  Appearances Misc\n",
      "0     Granny  Weatherwax          Equal Ritea    B       1           12    1\n",
      "1   Eskarina       Smith          Equal Rites    B       1            2   11\n",
      "2        Sam       Vimes      Guards! Guards!    A       0           10    6\n",
      "3  Rincewind         NaN  The Colour of Magic    A       0           10    9\n",
      "4     Horace   Worblehat  The Light Fantastic    B       0           16  NIL\n",
      "5     Magrat     Garlick         Wyrd Sisters    B       1            7    4\n"
     ]
    }
   ],
   "source": [
    "df=pd.DataFrame(\n",
    "    {'Appearances':[12, 2, 10, 10, 16, 7],\n",
    "    'Misc':[1,11,6,9,'NIL',4]})\n",
    "print(df)\n",
    "\n",
    "print(\"\\n Now we concatenate:\\n\",pd.concat([frame2,df],axis=1))"
   ]
  },
  {
   "cell_type": "markdown",
   "metadata": {},
   "source": [
    "# 6.5 Exercises\n",
    "\n",
    "## Exercise 1\n",
    "\n",
    "Consider the following three DataFrames:"
   ]
  },
  {
   "cell_type": "code",
   "execution_count": 22,
   "metadata": {},
   "outputs": [],
   "source": [
    "df1 = pd.DataFrame({'A': ['A0', 'A1', 'A2', 'A3'],\n",
    "                        'B': ['B0', 'B1', 'B2', 'B3'],\n",
    "                        'C': ['C0', 'C1', 'C2', 'C3'],\n",
    "                        'D': ['D0', 'D1', 'D2', 'D3']},\n",
    "                        index=[0, 1, 2, 3])"
   ]
  },
  {
   "cell_type": "code",
   "execution_count": 23,
   "metadata": {},
   "outputs": [],
   "source": [
    "df2 = pd.DataFrame({'A': ['A4', 'A5', 'A6', 'A7'],\n",
    "                        'B': ['B4', 'B5', 'B6', 'B7'],\n",
    "                        'C': ['C4', 'C5', 'C6', 'C7'],\n",
    "                        'D': ['D4', 'D5', 'D6', 'D7']},\n",
    "                         index=[4, 5, 6, 7]) "
   ]
  },
  {
   "cell_type": "code",
   "execution_count": 24,
   "metadata": {},
   "outputs": [],
   "source": [
    "df3 = pd.DataFrame({'A': ['A8', 'A9', 'A10', 'A11'],\n",
    "                        'B': ['B8', 'B9', 'B10', 'B11'],\n",
    "                        'C': ['C8', 'C9', 'C10', 'C11'],\n",
    "                        'D': ['D8', 'D9', 'D10', 'D11']},\n",
    "                        index=[8, 9, 10, 11])"
   ]
  },
  {
   "cell_type": "markdown",
   "metadata": {},
   "source": [
    "Use concatenation to glue these DataFrames together. First, concatenate along rows, then columns."
   ]
  },
  {
   "cell_type": "markdown",
   "metadata": {},
   "source": [
    "## Exercise 2\n",
    "\n",
    "Consider the following two data frames:"
   ]
  },
  {
   "cell_type": "code",
   "execution_count": 25,
   "metadata": {},
   "outputs": [],
   "source": [
    "left = pd.DataFrame({'key1': ['K0', 'K0', 'K1', 'K2'],\n",
    "                     'key2': ['K0', 'K1', 'K0', 'K1'],\n",
    "                        'A': ['A0', 'A1', 'A2', 'A3'],\n",
    "                        'B': ['B0', 'B1', 'B2', 'B3']})\n",
    "    \n",
    "right = pd.DataFrame({'key1': ['K0', 'K1', 'K1', 'K2'],\n",
    "                               'key2': ['K0', 'K0', 'K0', 'K0'],\n",
    "                                  'C': ['C0', 'C1', 'C2', 'C3'],\n",
    "                                  'D': ['D0', 'D1', 'D2', 'D3']})  "
   ]
  },
  {
   "cell_type": "markdown",
   "metadata": {},
   "source": [
    "Merge these two DataFrames on the keys 'key1' and 'key2'. First merge with an inner join, then outer. Next, merge using only keys from right frame, then from the left. Disucss how these differ."
   ]
  },
  {
   "cell_type": "markdown",
   "metadata": {},
   "source": [
    "## Exercise 3\n",
    "\n",
    "Consider the following two DataFrames:"
   ]
  },
  {
   "cell_type": "code",
   "execution_count": 26,
   "metadata": {},
   "outputs": [],
   "source": [
    "left = pd.DataFrame({'A': ['A0', 'A1', 'A2'],\n",
    "                     'B': ['B0', 'B1', 'B2']},\n",
    "                      index=['K0', 'K1', 'K2']) \n",
    "\n",
    "right = pd.DataFrame({'C': ['C0', 'C2', 'C3'],\n",
    "                    'D': ['D0', 'D2', 'D3']},\n",
    "                      index=['K0', 'K2', 'K3'])"
   ]
  },
  {
   "cell_type": "markdown",
   "metadata": {},
   "source": [
    "Explore and use the `.join()` method to combine these DataFrames into a single DataFrame. Again, explore how 'outer' changes things."
   ]
  },
  {
   "cell_type": "markdown",
   "metadata": {},
   "source": [
    "## Exercise 4\n",
    "\n",
    "Load the SF Salaries Dataset from Kaggle (you'll find it on Canvas). Then do the following:\n",
    "1. Check the head of the DataFrame and use the `.info()` method to find out how many entries there are.\n",
    "2. What is the average base pay?\n",
    "3. What is the highest amount of overtime pay in the dataset?\n",
    "4. What is JOE DRISCOLL's job title? What happens if we do not use all caps?\n",
    "5. How much does JOE DRISCOLL make (including benefits)?\n",
    "6. What is the name of the highest paid person (including benefits)?\n",
    "7. What is the name of the lowest paid person (including benefits)? What is unusual here?\n",
    "8. What is the average base pay of all employees per year?\n",
    "9. How many unique job titles are there?\n",
    "10. What are the top 5 most common jobs?\n",
    "11. How many job titles were represented by only one person in the year 2014?\n",
    "12. How many people have the word 'Chief' in their job title?\n",
    "13. Is there a correlation between length of the Job Title string and Salary?"
   ]
  },
  {
   "cell_type": "markdown",
   "metadata": {},
   "source": [
    "## 6.6 Summary\n",
    "\n",
    "We should now be happy with the idea of hierarchical indexing. We we should also be able to merge, reshape and concatenate data. This will conclude the preprocessing part of the course. Given a data set, we should now have a rough idea of how to tidy up the data and prepare it for future exploration. Next week, we will start that exploration by looking at linear regression."
   ]
  }
 ],
 "metadata": {
  "kernelspec": {
   "display_name": "Python 3 (ipykernel)",
   "language": "python",
   "name": "python3"
  },
  "language_info": {
   "codemirror_mode": {
    "name": "ipython",
    "version": 3
   },
   "file_extension": ".py",
   "mimetype": "text/x-python",
   "name": "python",
   "nbconvert_exporter": "python",
   "pygments_lexer": "ipython3",
   "version": "3.9.12"
  }
 },
 "nbformat": 4,
 "nbformat_minor": 1
}
