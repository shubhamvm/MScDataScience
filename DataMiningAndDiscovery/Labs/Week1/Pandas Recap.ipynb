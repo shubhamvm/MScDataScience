{
 "cells": [
  {
   "cell_type": "markdown",
   "metadata": {},
   "source": [
    "# Recap of Pandas\n",
    "\n",
    "The following tutorial contains examples of using the pandas library module. It is by no means exhaustive, but should hopefully recap many of the key features pandas offers. This notebook is based upon several of the resources found in the reading list, including _Introduction to Data Mining_ by Tan, Steinbach, Karpatne and Kumar, McKinney's _Python for Data Analysis_ and VanderPlas' _Python Data Science Handbook_. To execute the code, click on the cell and press the SHIFT-ENTER keys simultaneously.\n",
    "\n",
    "As ever, you are encouraged to experiment with this code. Alter it, make mistakes, pursue your natural questions and create python scripts in Spyder based upon the code found in this notebook. In doing so, you will gain a much greater appreciation for how pandas works."
   ]
  },
  {
   "cell_type": "markdown",
   "metadata": {},
   "source": [
    "## 3.1 Introduction to Pandas\n",
    "\n",
    "The pandas library is a newer package built on top of NumPy. It provides an efficient implementation of a `DataFrame` which is essentially a multidimensional array with attached row and column labels, often with heterogeneous types and/or missing data. In addition to offering a convenient storage interface for labelled data, pandas implements a number of powerful data operations familiar to users of both database frameworks and spreadsheet programmes.\n",
    "\n",
    "In order to justify the exploration of pandas, it is perhaps worth discussing limitations of NumPy. As we have seen, the `ndarray` data structure provides essential features for the type of clean, well-organised data typically seen in numerical computing tasks. However, when we need more flexibility (e.g. attaching labels to data, working with missing data, and so on) or wish to perform operations that do not map well to element-wise broadcasting (e.g. groupings, pivots etc.), then the cracks begin to show in NumPy. For this, we have pandas (and, in particular, its `Series` and `DataFrame` objects) which provides efficient access to these sorts of 'data munging' tasks that occupy much of a data scientist's time.\n",
    "\n",
    "__Basic viewpoint:__ pandas objects can be thought of as enhanced versions of NumPy structured arrays in which the rows and columns are identified with labels rather than simple integer indices.\n",
    "\n",
    "### 3.1.1 Series\n",
    "\n",
    "A Series object consists of a one-dimensional array of values, whose elements can be referenced using an index array. A Series object can be created from a list, a numpy array, or a Python dictionary. You can apply most of the numpy functions on the Series object."
   ]
  },
  {
   "cell_type": "code",
   "execution_count": 1,
   "metadata": {},
   "outputs": [
    {
     "name": "stdout",
     "output_type": "stream",
     "text": [
      "Series, s =\n",
      " 0    3.1\n",
      "1    2.4\n",
      "2   -1.7\n",
      "3    0.2\n",
      "4   -2.9\n",
      "5    4.5\n",
      "dtype: float64 \n",
      "\n",
      "s.values = [ 3.1  2.4 -1.7  0.2 -2.9  4.5]\n",
      "s.index = RangeIndex(start=0, stop=6, step=1)\n",
      "s.dtype = float64\n"
     ]
    }
   ],
   "source": [
    "from pandas import Series\n",
    "\n",
    "s = Series([3.1, 2.4, -1.7, 0.2, -2.9, 4.5])   # creating a series from a list\n",
    "print('Series, s =\\n', s, '\\n')\n",
    "\n",
    "print('s.values =', s.values)     # display values of the Series\n",
    "print('s.index =', s.index)       # display indices of the Series\n",
    "print('s.dtype =', s.dtype)       # display the element type of the Series"
   ]
  },
  {
   "cell_type": "code",
   "execution_count": 2,
   "metadata": {},
   "outputs": [
    {
     "name": "stdout",
     "output_type": "stream",
     "text": [
      "Series s2 =\n",
      " 0   -0.998531\n",
      "1    0.514860\n",
      "2   -0.852668\n",
      "3    0.626151\n",
      "4    0.376648\n",
      "5   -0.753096\n",
      "dtype: float64 \n",
      "\n",
      "s2.values = [-0.99853064  0.51486041 -0.85266814  0.62615052  0.37664796 -0.75309604]\n",
      "s2.index = RangeIndex(start=0, stop=6, step=1)\n",
      "s2.dtype = float64\n"
     ]
    }
   ],
   "source": [
    "import numpy as np\n",
    "\n",
    "s2 = Series(np.random.randn(6))   # creating a series from a numpy ndarray\n",
    "print('Series s2 =\\n', s2, '\\n')\n",
    "print('s2.values =', s2.values)   # display values of the Series\n",
    "print('s2.index =', s2.index)     # display indices of the Series\n",
    "print('s2.dtype =', s2.dtype)     # display the element type of the Series"
   ]
  },
  {
   "cell_type": "markdown",
   "metadata": {},
   "source": [
    "The essential difference between a one-dimensional NumPy array and a `Series` obect is that while the NumPy array has an _implicitly defined_ integer index used to access the values, the pandas `Series` has an _explicitly defined_ index associated with the values. This explicit index gives the `Series` object additional capabilities. So, for example, we can use strings as an index (as opposed to simply an integer)."
   ]
  },
  {
   "cell_type": "code",
   "execution_count": 3,
   "metadata": {},
   "outputs": [
    {
     "name": "stdout",
     "output_type": "stream",
     "text": [
      "Series s3 =\n",
      " Jan 1    1.2\n",
      "Jan 2    2.5\n",
      "Jan 3   -2.2\n",
      "Jan 4    3.1\n",
      "Jan 5   -0.8\n",
      "Jan 6   -3.2\n",
      "dtype: float64 \n",
      "\n",
      "s3.values = [ 1.2  2.5 -2.2  3.1 -0.8 -3.2]\n",
      "s3.index = Index(['Jan 1', 'Jan 2', 'Jan 3', 'Jan 4', 'Jan 5', 'Jan 6'], dtype='object')\n",
      "s3.dtype = float64\n",
      "Jan 4 entry is  3.1\n"
     ]
    }
   ],
   "source": [
    "s3 = Series([1.2,2.5,-2.2,3.1,-0.8,-3.2], \n",
    "            index = ['Jan 1','Jan 2','Jan 3','Jan 4','Jan 5','Jan 6',])\n",
    "print('Series s3 =\\n', s3, '\\n')\n",
    "print('s3.values =', s3.values)   # display values of the Series\n",
    "print('s3.index =', s3.index)     # display indices of the Series\n",
    "print('s3.dtype =', s3.dtype)     # display the element type of the Series\n",
    "\n",
    "print('Jan 4 entry is ', s3['Jan 4'])       # display the element corresponding to Jan 4 index"
   ]
  },
  {
   "cell_type": "markdown",
   "metadata": {},
   "source": [
    "We can think of a pandas `Series` as a specialisation of a Python dictionary. A dictionary is a structure that maps arbitrary keys to a set of arbitrary values, and a `Series` is a structure that maps typed keys to a set of types values. This typing is important: just as the type-specific compiled code behind a NumPy array makes it more efficient than a Python list for certain operations, the type information of a pandas `Series` makes it more efficient than Python dictionaries for certain operations.\n",
    "\n",
    "We can solidify this viewpoint of a `Series`-as-dictionary by constructing a `Series` object directly from a Python dictionary."
   ]
  },
  {
   "cell_type": "code",
   "execution_count": 4,
   "metadata": {},
   "outputs": [
    {
     "name": "stdout",
     "output_type": "stream",
     "text": [
      "Series s4 =\n",
      " UCL           43900\n",
      "Imperial      18399\n",
      "KCL           29600\n",
      "Queen Mary    32000\n",
      "UH            30000\n",
      "dtype: int64 \n",
      "\n",
      "s4.values = [43900 18399 29600 32000 30000]\n",
      "s4.index= Index(['UCL', 'Imperial', 'KCL', 'Queen Mary', 'UH'], dtype='object')\n",
      "s4.dtype = int64\n"
     ]
    }
   ],
   "source": [
    "universities = {'UCL': 43900, 'Imperial': 18399, 'KCL': 29600, 'Queen Mary': 32000, 'UH': 30000}\n",
    "\n",
    "s4 = Series(universities)   # creating a series from dictionary object\n",
    "print('Series s4 =\\n', s4, '\\n')\n",
    "print('s4.values =', s4.values)   # display values of the Series\n",
    "print('s4.index=', s4.index)      # display indices of the Series\n",
    "print('s4.dtype =', s4.dtype)     # display the element type of the Series"
   ]
  },
  {
   "cell_type": "code",
   "execution_count": 5,
   "metadata": {},
   "outputs": [
    {
     "name": "stdout",
     "output_type": "stream",
     "text": [
      "s3 =\n",
      " Jan 1    1.2\n",
      "Jan 2    2.5\n",
      "Jan 3   -2.2\n",
      "Jan 4    3.1\n",
      "Jan 5   -0.8\n",
      "Jan 6   -3.2\n",
      "dtype: float64 \n",
      "\n",
      "s3[2]= -2.2\n",
      "s3['Jan 3']= -2.2\n",
      "\n",
      "s3[1:3]=\n",
      "Jan 2    2.5\n",
      "Jan 3   -2.2\n",
      "dtype: float64\n",
      "\n",
      "s3.iloc([1:3])=\n",
      "Jan 2    2.5\n",
      "Jan 3   -2.2\n",
      "dtype: float64\n"
     ]
    }
   ],
   "source": [
    "s3 = Series([1.2,2.5,-2.2,3.1,-0.8,-3.2], \n",
    "            index = ['Jan 1','Jan 2','Jan 3','Jan 4','Jan 5','Jan 6',])\n",
    "print('s3 =\\n', s3, '\\n')\n",
    "\n",
    "# Accessing elements of a Series\n",
    "\n",
    "print('s3[2]=', s3[2])        # display third element of the Series\n",
    "print('s3[\\'Jan 3\\']=', s3['Jan 3'])   # indexing element of a Series \n",
    "\n",
    "print('\\ns3[1:3]=')             # display a slice of the Series\n",
    "print(s3[1:3])\n",
    "print('\\ns3.iloc([1:3])=')      # display a slice of the Series\n",
    "print(s3.iloc[1:3])"
   ]
  },
  {
   "cell_type": "markdown",
   "metadata": {},
   "source": [
    "__Problem:__ Create a `Series` of the five most populous UK cities. Print the second largest city's population."
   ]
  },
  {
   "cell_type": "markdown",
   "metadata": {},
   "source": [
    "There are various functions available to find the number of elements in a Series. The result of the function depends on whether null elements are included. "
   ]
  },
  {
   "cell_type": "code",
   "execution_count": 7,
   "metadata": {},
   "outputs": [
    {
     "name": "stdout",
     "output_type": "stream",
     "text": [
      "Series s3 =\n",
      " Jan 1    1.2\n",
      "Jan 2    2.5\n",
      "Jan 3   -2.2\n",
      "Jan 4    3.1\n",
      "Jan 5   -0.8\n",
      "Jan 6   -3.2\n",
      "Jan 7    NaN\n",
      "dtype: float64 \n",
      "\n",
      "Shape of s3 = (7,)\n",
      "Size of s3 = 7\n",
      "Count of s3 = 6\n"
     ]
    }
   ],
   "source": [
    "s3['Jan 7'] = np.nan\n",
    "print('Series s3 =\\n', s3, '\\n')\n",
    "\n",
    "print('Shape of s3 =', s3.shape)   # get the dimension of the Series\n",
    "print('Size of s3 =', s3.size)     # get the number of elements of the Series\n",
    "print('Count of s3 =', s3.count()) # get the number of non-null elements of the Series"
   ]
  },
  {
   "cell_type": "markdown",
   "metadata": {},
   "source": [
    "A boolean filter can be used to select elements of a Series:"
   ]
  },
  {
   "cell_type": "code",
   "execution_count": 8,
   "metadata": {},
   "outputs": [
    {
     "name": "stdout",
     "output_type": "stream",
     "text": [
      "Jan 1    1.2\n",
      "Jan 2    2.5\n",
      "Jan 4    3.1\n",
      "dtype: float64\n",
      "\n",
      " UCL           False\n",
      "Imperial      False\n",
      "KCL           False\n",
      "Queen Mary    False\n",
      "UH            False\n",
      "dtype: bool\n",
      "\n",
      " UCL            True\n",
      "Imperial       True\n",
      "KCL            True\n",
      "Queen Mary     True\n",
      "UH             True\n",
      "Reading       False\n",
      "dtype: bool\n"
     ]
    }
   ],
   "source": [
    "import pandas as pd\n",
    "\n",
    "print(s3[s3 > 0])   # applying filter to select non-negative elements of the Series\n",
    "\n",
    "print('\\n', pd.isnull(s4))        # isnull detects missing data\n",
    "s4['Reading'] = np.nan\n",
    "print('\\n', pd.notnull(s4))"
   ]
  },
  {
   "cell_type": "markdown",
   "metadata": {},
   "source": [
    "Scalar operations can be performed on elements of a numeric Series"
   ]
  },
  {
   "cell_type": "code",
   "execution_count": 9,
   "metadata": {},
   "outputs": [
    {
     "name": "stdout",
     "output_type": "stream",
     "text": [
      "s3 + 4 =\n",
      " Jan 1    5.2\n",
      "Jan 2    6.5\n",
      "Jan 3    1.8\n",
      "Jan 4    7.1\n",
      "Jan 5    3.2\n",
      "Jan 6    0.8\n",
      "Jan 7    NaN\n",
      "dtype: float64 \n",
      "\n",
      "s3 / 4 =\n",
      " Jan 1    0.300\n",
      "Jan 2    0.625\n",
      "Jan 3   -0.550\n",
      "Jan 4    0.775\n",
      "Jan 5   -0.200\n",
      "Jan 6   -0.800\n",
      "Jan 7      NaN\n",
      "dtype: float64\n"
     ]
    }
   ],
   "source": [
    "print('s3 + 4 =\\n', s3 + 4, '\\n')       \n",
    "print('s3 / 4 =\\n', s3 / 4)                 "
   ]
  },
  {
   "cell_type": "markdown",
   "metadata": {},
   "source": [
    "NumPy functions can also be applied to pandas `Series`. "
   ]
  },
  {
   "cell_type": "code",
   "execution_count": 10,
   "metadata": {},
   "outputs": [
    {
     "name": "stdout",
     "output_type": "stream",
     "text": [
      "np.log(s3 + 4) =\n",
      " Jan 1    1.648659\n",
      "Jan 2    1.871802\n",
      "Jan 3    0.587787\n",
      "Jan 4    1.960095\n",
      "Jan 5    1.163151\n",
      "Jan 6   -0.223144\n",
      "Jan 7         NaN\n",
      "dtype: float64 \n",
      "\n",
      "np.exp(s3 - 4) =\n",
      " Jan 1    0.060810\n",
      "Jan 2    0.223130\n",
      "Jan 3    0.002029\n",
      "Jan 4    0.406570\n",
      "Jan 5    0.008230\n",
      "Jan 6    0.000747\n",
      "Jan 7         NaN\n",
      "dtype: float64 \n",
      "\n"
     ]
    }
   ],
   "source": [
    "print('np.log(s3 + 4) =\\n', np.log(s3 + 4), '\\n')    # applying log function to a numeric Series\n",
    "print('np.exp(s3 - 4) =\\n', np.exp(s3 - 4), '\\n')    # applying exponent function to a numeric Series"
   ]
  },
  {
   "cell_type": "markdown",
   "metadata": {},
   "source": [
    "The `value_counts()` function can be used for tabulating the counts of each discrete value in the Series. "
   ]
  },
  {
   "cell_type": "code",
   "execution_count": 11,
   "metadata": {},
   "outputs": [
    {
     "name": "stdout",
     "output_type": "stream",
     "text": [
      "colors =\n",
      " 0       red\n",
      "1      blue\n",
      "2      blue\n",
      "3    yellow\n",
      "4       red\n",
      "5     green\n",
      "6      blue\n",
      "7       NaN\n",
      "dtype: object \n",
      "\n",
      "colors.value_counts() =\n",
      " blue      3\n",
      "red       2\n",
      "yellow    1\n",
      "green     1\n",
      "dtype: int64\n"
     ]
    }
   ],
   "source": [
    "colors = Series(['red', 'blue', 'blue', 'yellow', 'red', 'green', 'blue', np.nan])\n",
    "print('colors =\\n', colors, '\\n')\n",
    "\n",
    "print('colors.value_counts() =\\n', colors.value_counts())"
   ]
  },
  {
   "cell_type": "markdown",
   "metadata": {},
   "source": [
    "### 3.1.2 DataFrame\n",
    "\n",
    "A `DataFrame` object is a tabular, spreadsheet-like data structure containing a collection of columns, each of which can be of different types (numeric, string, boolean, etc). Unlike `Series`, a `DataFrame` has distinct row and column indices. There are many ways to create a `DataFrame` object (e.g. from a dictionary, list of tuples, or even NumPy's ndarrays).\n",
    "\n",
    "If a `Series` is an analog of a one-dimensional array with explicit indices, a `DataFrame`is an analog of a two-dimensional array with explicit row and column indices. Just as we might think of a two-dimensional array as an ordered sequence of aligned one-dimensional columns, we can think of a `DataFrame` as a sequence of aligned `Series` objects. Here, by 'aligned' we mean that they share the same index."
   ]
  },
  {
   "cell_type": "code",
   "execution_count": 12,
   "metadata": {},
   "outputs": [
    {
     "data": {
      "text/html": [
       "<div>\n",
       "<style scoped>\n",
       "    .dataframe tbody tr th:only-of-type {\n",
       "        vertical-align: middle;\n",
       "    }\n",
       "\n",
       "    .dataframe tbody tr th {\n",
       "        vertical-align: top;\n",
       "    }\n",
       "\n",
       "    .dataframe thead th {\n",
       "        text-align: right;\n",
       "    }\n",
       "</style>\n",
       "<table border=\"1\" class=\"dataframe\">\n",
       "  <thead>\n",
       "    <tr style=\"text-align: right;\">\n",
       "      <th></th>\n",
       "      <th>university</th>\n",
       "      <th>year</th>\n",
       "      <th>pop</th>\n",
       "    </tr>\n",
       "  </thead>\n",
       "  <tbody>\n",
       "    <tr>\n",
       "      <th>0</th>\n",
       "      <td>UCL</td>\n",
       "      <td>2018</td>\n",
       "      <td>41539</td>\n",
       "    </tr>\n",
       "    <tr>\n",
       "      <th>1</th>\n",
       "      <td>UCL</td>\n",
       "      <td>2019</td>\n",
       "      <td>42106</td>\n",
       "    </tr>\n",
       "    <tr>\n",
       "      <th>2</th>\n",
       "      <td>UCL</td>\n",
       "      <td>2020</td>\n",
       "      <td>43836</td>\n",
       "    </tr>\n",
       "    <tr>\n",
       "      <th>3</th>\n",
       "      <td>Imperial</td>\n",
       "      <td>2018</td>\n",
       "      <td>17054</td>\n",
       "    </tr>\n",
       "    <tr>\n",
       "      <th>4</th>\n",
       "      <td>Imperial</td>\n",
       "      <td>2019</td>\n",
       "      <td>17568</td>\n",
       "    </tr>\n",
       "    <tr>\n",
       "      <th>5</th>\n",
       "      <td>Imperial</td>\n",
       "      <td>2020</td>\n",
       "      <td>18264</td>\n",
       "    </tr>\n",
       "  </tbody>\n",
       "</table>\n",
       "</div>"
      ],
      "text/plain": [
       "  university  year    pop\n",
       "0        UCL  2018  41539\n",
       "1        UCL  2019  42106\n",
       "2        UCL  2020  43836\n",
       "3   Imperial  2018  17054\n",
       "4   Imperial  2019  17568\n",
       "5   Imperial  2020  18264"
      ]
     },
     "execution_count": 12,
     "metadata": {},
     "output_type": "execute_result"
    }
   ],
   "source": [
    "from pandas import DataFrame\n",
    "\n",
    "universities = {'university': ['UCL', 'UCL', 'UCL', 'Imperial', 'Imperial','Imperial'],\n",
    "       'year': ['2018', '2019', '2020','2018','2019','2020'],\n",
    "       'pop': [41539,42106,43836,17054,17568,18264]}          \n",
    "uniData = DataFrame(universities)            # creating DataFrame from dictionary\n",
    "uniData                              # display the table"
   ]
  },
  {
   "cell_type": "code",
   "execution_count": 13,
   "metadata": {},
   "outputs": [
    {
     "name": "stdout",
     "output_type": "stream",
     "text": [
      "uniData.index = RangeIndex(start=0, stop=6, step=1)\n",
      "uniData.columns = Index(['university', 'year', 'pop'], dtype='object')\n"
     ]
    }
   ],
   "source": [
    "print('uniData.index =', uniData.index)         # print the row indices\n",
    "print('uniData.columns =', uniData.columns)     # print the column indices"
   ]
  },
  {
   "cell_type": "markdown",
   "metadata": {},
   "source": [
    "We can also insert columns to an existing `DataFrame`."
   ]
  },
  {
   "cell_type": "code",
   "execution_count": 14,
   "metadata": {},
   "outputs": [
    {
     "data": {
      "text/html": [
       "<div>\n",
       "<style scoped>\n",
       "    .dataframe tbody tr th:only-of-type {\n",
       "        vertical-align: middle;\n",
       "    }\n",
       "\n",
       "    .dataframe tbody tr th {\n",
       "        vertical-align: top;\n",
       "    }\n",
       "\n",
       "    .dataframe thead th {\n",
       "        text-align: right;\n",
       "    }\n",
       "</style>\n",
       "<table border=\"1\" class=\"dataframe\">\n",
       "  <thead>\n",
       "    <tr style=\"text-align: right;\">\n",
       "      <th></th>\n",
       "      <th>university</th>\n",
       "      <th>year</th>\n",
       "      <th>pop</th>\n",
       "      <th>fees</th>\n",
       "      <th>debt</th>\n",
       "    </tr>\n",
       "  </thead>\n",
       "  <tbody>\n",
       "    <tr>\n",
       "      <th>1</th>\n",
       "      <td>UCL</td>\n",
       "      <td>2018</td>\n",
       "      <td>41539</td>\n",
       "      <td>9250</td>\n",
       "      <td>NaN</td>\n",
       "    </tr>\n",
       "    <tr>\n",
       "      <th>2</th>\n",
       "      <td>UCL</td>\n",
       "      <td>2019</td>\n",
       "      <td>42106</td>\n",
       "      <td>9250</td>\n",
       "      <td>NaN</td>\n",
       "    </tr>\n",
       "    <tr>\n",
       "      <th>3</th>\n",
       "      <td>UCL</td>\n",
       "      <td>2020</td>\n",
       "      <td>43836</td>\n",
       "      <td>9250</td>\n",
       "      <td>NaN</td>\n",
       "    </tr>\n",
       "    <tr>\n",
       "      <th>4</th>\n",
       "      <td>Imperial</td>\n",
       "      <td>2018</td>\n",
       "      <td>17054</td>\n",
       "      <td>9250</td>\n",
       "      <td>NaN</td>\n",
       "    </tr>\n",
       "    <tr>\n",
       "      <th>5</th>\n",
       "      <td>Imperial</td>\n",
       "      <td>2019</td>\n",
       "      <td>17568</td>\n",
       "      <td>9250</td>\n",
       "      <td>NaN</td>\n",
       "    </tr>\n",
       "    <tr>\n",
       "      <th>6</th>\n",
       "      <td>Imperial</td>\n",
       "      <td>2020</td>\n",
       "      <td>18264</td>\n",
       "      <td>9250</td>\n",
       "      <td>NaN</td>\n",
       "    </tr>\n",
       "  </tbody>\n",
       "</table>\n",
       "</div>"
      ],
      "text/plain": [
       "  university  year    pop  fees  debt\n",
       "1        UCL  2018  41539  9250   NaN\n",
       "2        UCL  2019  42106  9250   NaN\n",
       "3        UCL  2020  43836  9250   NaN\n",
       "4   Imperial  2018  17054  9250   NaN\n",
       "5   Imperial  2019  17568  9250   NaN\n",
       "6   Imperial  2020  18264  9250   NaN"
      ]
     },
     "execution_count": 14,
     "metadata": {},
     "output_type": "execute_result"
    }
   ],
   "source": [
    "uniData2 = DataFrame(universities, index = [1,2,3,4,5,6])  # change the row index\n",
    "uniData2['fees'] = 9250    # add column with same value\n",
    "uniData2['debt'] = np.nan\n",
    "uniData2                   # display table"
   ]
  },
  {
   "cell_type": "markdown",
   "metadata": {},
   "source": [
    "We can also think of a `DataFrame` as a specialization of a dictionary. Where a dictionary maps a key to a value, a `DataFrame` maps a column name to a `Series` of column data. For example, asking for the 'pop' attribute returns the `Series` object containing the populations we saw earlier:"
   ]
  },
  {
   "cell_type": "code",
   "execution_count": 15,
   "metadata": {},
   "outputs": [
    {
     "data": {
      "text/plain": [
       "1    41539\n",
       "2    42106\n",
       "3    43836\n",
       "4    17054\n",
       "5    17568\n",
       "6    18264\n",
       "Name: pop, dtype: int64"
      ]
     },
     "execution_count": 15,
     "metadata": {},
     "output_type": "execute_result"
    }
   ],
   "source": [
    "uniData2['pop']"
   ]
  },
  {
   "cell_type": "markdown",
   "metadata": {},
   "source": [
    "There are several ways we can construct a `DataFrame`. For example, we can use a list of tuples."
   ]
  },
  {
   "cell_type": "code",
   "execution_count": 16,
   "metadata": {},
   "outputs": [
    {
     "data": {
      "text/html": [
       "<div>\n",
       "<style scoped>\n",
       "    .dataframe tbody tr th:only-of-type {\n",
       "        vertical-align: middle;\n",
       "    }\n",
       "\n",
       "    .dataframe tbody tr th {\n",
       "        vertical-align: top;\n",
       "    }\n",
       "\n",
       "    .dataframe thead th {\n",
       "        text-align: right;\n",
       "    }\n",
       "</style>\n",
       "<table border=\"1\" class=\"dataframe\">\n",
       "  <thead>\n",
       "    <tr style=\"text-align: right;\">\n",
       "      <th></th>\n",
       "      <th>year</th>\n",
       "      <th>temp</th>\n",
       "      <th>precip</th>\n",
       "    </tr>\n",
       "  </thead>\n",
       "  <tbody>\n",
       "    <tr>\n",
       "      <th>0</th>\n",
       "      <td>2011</td>\n",
       "      <td>45.1</td>\n",
       "      <td>32.4</td>\n",
       "    </tr>\n",
       "    <tr>\n",
       "      <th>1</th>\n",
       "      <td>2012</td>\n",
       "      <td>42.4</td>\n",
       "      <td>34.5</td>\n",
       "    </tr>\n",
       "    <tr>\n",
       "      <th>2</th>\n",
       "      <td>2013</td>\n",
       "      <td>47.2</td>\n",
       "      <td>39.2</td>\n",
       "    </tr>\n",
       "    <tr>\n",
       "      <th>3</th>\n",
       "      <td>2014</td>\n",
       "      <td>44.2</td>\n",
       "      <td>31.4</td>\n",
       "    </tr>\n",
       "    <tr>\n",
       "      <th>4</th>\n",
       "      <td>2015</td>\n",
       "      <td>39.9</td>\n",
       "      <td>29.8</td>\n",
       "    </tr>\n",
       "    <tr>\n",
       "      <th>5</th>\n",
       "      <td>2016</td>\n",
       "      <td>41.5</td>\n",
       "      <td>36.7</td>\n",
       "    </tr>\n",
       "  </tbody>\n",
       "</table>\n",
       "</div>"
      ],
      "text/plain": [
       "   year  temp  precip\n",
       "0  2011  45.1    32.4\n",
       "1  2012  42.4    34.5\n",
       "2  2013  47.2    39.2\n",
       "3  2014  44.2    31.4\n",
       "4  2015  39.9    29.8\n",
       "5  2016  41.5    36.7"
      ]
     },
     "execution_count": 16,
     "metadata": {},
     "output_type": "execute_result"
    }
   ],
   "source": [
    "tuplelist = [(2011,45.1,32.4),(2012,42.4,34.5),(2013,47.2,39.2),\n",
    "              (2014,44.2,31.4),(2015,39.9,29.8),(2016,41.5,36.7)]\n",
    "columnNames = ['year','temp','precip']\n",
    "weatherData = DataFrame(tuplelist, columns=columnNames)\n",
    "weatherData"
   ]
  },
  {
   "cell_type": "markdown",
   "metadata": {},
   "source": [
    "We can create a `DataFrame` from a NumPy `ndarray`."
   ]
  },
  {
   "cell_type": "code",
   "execution_count": 17,
   "metadata": {},
   "outputs": [
    {
     "data": {
      "text/html": [
       "<div>\n",
       "<style scoped>\n",
       "    .dataframe tbody tr th:only-of-type {\n",
       "        vertical-align: middle;\n",
       "    }\n",
       "\n",
       "    .dataframe tbody tr th {\n",
       "        vertical-align: top;\n",
       "    }\n",
       "\n",
       "    .dataframe thead th {\n",
       "        text-align: right;\n",
       "    }\n",
       "</style>\n",
       "<table border=\"1\" class=\"dataframe\">\n",
       "  <thead>\n",
       "    <tr style=\"text-align: right;\">\n",
       "      <th></th>\n",
       "      <th>x1</th>\n",
       "      <th>x2</th>\n",
       "      <th>x3</th>\n",
       "    </tr>\n",
       "  </thead>\n",
       "  <tbody>\n",
       "    <tr>\n",
       "      <th>0</th>\n",
       "      <td>-1.005463</td>\n",
       "      <td>-0.770804</td>\n",
       "      <td>0.294280</td>\n",
       "    </tr>\n",
       "    <tr>\n",
       "      <th>1</th>\n",
       "      <td>-2.268767</td>\n",
       "      <td>-0.250565</td>\n",
       "      <td>0.691772</td>\n",
       "    </tr>\n",
       "    <tr>\n",
       "      <th>2</th>\n",
       "      <td>-0.597849</td>\n",
       "      <td>0.375154</td>\n",
       "      <td>-0.743485</td>\n",
       "    </tr>\n",
       "    <tr>\n",
       "      <th>3</th>\n",
       "      <td>-1.053327</td>\n",
       "      <td>0.385379</td>\n",
       "      <td>1.696020</td>\n",
       "    </tr>\n",
       "    <tr>\n",
       "      <th>4</th>\n",
       "      <td>1.113981</td>\n",
       "      <td>0.028582</td>\n",
       "      <td>-1.129064</td>\n",
       "    </tr>\n",
       "  </tbody>\n",
       "</table>\n",
       "</div>"
      ],
      "text/plain": [
       "         x1        x2        x3\n",
       "0 -1.005463 -0.770804  0.294280\n",
       "1 -2.268767 -0.250565  0.691772\n",
       "2 -0.597849  0.375154 -0.743485\n",
       "3 -1.053327  0.385379  1.696020\n",
       "4  1.113981  0.028582 -1.129064"
      ]
     },
     "execution_count": 17,
     "metadata": {},
     "output_type": "execute_result"
    }
   ],
   "source": [
    "import numpy as np\n",
    "\n",
    "npdata = np.random.randn(5,3)  # create a 5 by 3 random matrix\n",
    "columnNames = ['x1','x2','x3']\n",
    "data = DataFrame(npdata, columns=columnNames)\n",
    "data"
   ]
  },
  {
   "cell_type": "markdown",
   "metadata": {},
   "source": [
    "There are many ways to access elements of a DataFrame object."
   ]
  },
  {
   "cell_type": "code",
   "execution_count": 18,
   "metadata": {},
   "outputs": [
    {
     "name": "stdout",
     "output_type": "stream",
     "text": [
      "0   -0.770804\n",
      "1   -0.250565\n",
      "2    0.375154\n",
      "3    0.385379\n",
      "4    0.028582\n",
      "Name: x2, dtype: float64\n",
      "<class 'pandas.core.series.Series'>\n"
     ]
    }
   ],
   "source": [
    "# accessing an entire column will return a Series object\n",
    "\n",
    "print(data['x2'])\n",
    "print(type(data['x2']))"
   ]
  },
  {
   "cell_type": "code",
   "execution_count": 19,
   "metadata": {},
   "outputs": [
    {
     "name": "stdout",
     "output_type": "stream",
     "text": [
      "Row 3 of data table:\n",
      "x1   -0.597849\n",
      "x2    0.375154\n",
      "x3   -0.743485\n",
      "Name: 2, dtype: float64\n",
      "<class 'pandas.core.series.Series'>\n",
      "\n",
      "Row 3 of uni data table:\n",
      "university      UCL\n",
      "year           2020\n",
      "pop           43836\n",
      "fees           9250\n",
      "debt            NaN\n",
      "Name: 3, dtype: object\n"
     ]
    }
   ],
   "source": [
    "# accessing an entire row will return a Series object\n",
    "\n",
    "print('Row 3 of data table:')\n",
    "print(data.iloc[2])       # returns the 3rd row of DataFrame\n",
    "print(type(data.iloc[2]))\n",
    "\n",
    "print('\\nRow 3 of uni data table:')\n",
    "print(uniData2.iloc[2])   # row contains objects of different types"
   ]
  },
  {
   "cell_type": "code",
   "execution_count": 20,
   "metadata": {},
   "outputs": [
    {
     "name": "stdout",
     "output_type": "stream",
     "text": [
      "uniData2 =\n",
      "   university  year    pop  fees  debt\n",
      "1        UCL  2018  41539  9250   NaN\n",
      "2        UCL  2019  42106  9250   NaN\n",
      "3        UCL  2020  43836  9250   NaN\n",
      "4   Imperial  2018  17054  9250   NaN\n",
      "5   Imperial  2019  17568  9250   NaN\n",
      "6   Imperial  2020  18264  9250   NaN\n",
      "\n",
      "uniData2.iloc[1,2] = 42106\n",
      "uniData2.loc[1,'year'] = 2018\n",
      "\n",
      "uniData2.iloc[1:3,1:3]=\n",
      "   year    pop\n",
      "2  2019  42106\n",
      "3  2020  43836\n"
     ]
    }
   ],
   "source": [
    "# accessing a specific element of the DataFrame\n",
    "\n",
    "print('uniData2 =\\n', uniData2)\n",
    "\n",
    "print('\\nuniData2.iloc[1,2] =', uniData2.iloc[1,2])                # retrieving second row, third column\n",
    "print('uniData2.loc[1,\\'year\\'] =', uniData2.loc[1,'year'])    # retrieving second row, column named 'model'\n",
    "\n",
    "# accessing a slice of the DataFrame\n",
    "\n",
    "print('\\nuniData2.iloc[1:3,1:3]=')\n",
    "print(uniData2.iloc[1:3,1:3])"
   ]
  },
  {
   "cell_type": "code",
   "execution_count": 21,
   "metadata": {},
   "outputs": [
    {
     "name": "stdout",
     "output_type": "stream",
     "text": [
      "uniData2 =\n",
      "   university  year    pop  fees  debt\n",
      "1        UCL  2018  41539  9250   NaN\n",
      "2        UCL  2019  42106  9250   NaN\n",
      "3        UCL  2020  43836  9250   NaN\n",
      "4   Imperial  2018  17054  9250   NaN\n",
      "5   Imperial  2019  17568  9250   NaN\n",
      "6   Imperial  2020  18264  9250   NaN \n",
      "\n",
      "uniData2.shape = (6, 5)\n",
      "uniData2.size = 30\n"
     ]
    }
   ],
   "source": [
    "print('uniData2 =\\n', uniData2, '\\n')\n",
    "\n",
    "print('uniData2.shape =', uniData2.shape)\n",
    "print('uniData2.size =', uniData2.size)"
   ]
  },
  {
   "cell_type": "code",
   "execution_count": 22,
   "metadata": {},
   "outputs": [
    {
     "name": "stdout",
     "output_type": "stream",
     "text": [
      "uniData2 =\n",
      "   university  year    pop  fees  debt\n",
      "1        UCL  2018  41539  9250   NaN\n",
      "2        UCL  2019  42106  9250   NaN\n",
      "3        UCL  2020  43836  9250   NaN\n",
      "4   Imperial  2018  17054  9250   NaN\n",
      "5   Imperial  2019  17568  9250   NaN\n",
      "6   Imperial  2020  18264  9250   NaN \n",
      "\n",
      "uniData2[uniData2.pop > 25000] =\n",
      "  university  year    pop  fees  debt\n",
      "1        UCL  2018  41539  9250   NaN\n",
      "2        UCL  2019  42106  9250   NaN\n",
      "3        UCL  2020  43836  9250   NaN\n"
     ]
    }
   ],
   "source": [
    "# selection and filtering\n",
    "\n",
    "print('uniData2 =\\n', uniData2, '\\n')\n",
    "\n",
    "print('uniData2[uniData2.pop > 25000] =')  \n",
    "print(uniData2[uniData2['pop'] > 25000])"
   ]
  },
  {
   "cell_type": "code",
   "execution_count": 23,
   "metadata": {},
   "outputs": [
    {
     "name": "stdout",
     "output_type": "stream",
     "text": [
      "  university  year    pop  fees\n",
      "1        UCL  2018  41539  9250\n",
      "2        UCL  2019  42106  9250\n",
      "3        UCL  2020  43836  9250\n",
      "4   Imperial  2018  17054  9250\n",
      "5   Imperial  2019  17568  9250\n",
      "6   Imperial  2020  18264  9250\n"
     ]
    }
   ],
   "source": [
    "del uniData2['debt']\n",
    "\n",
    "print(uniData2)"
   ]
  },
  {
   "cell_type": "markdown",
   "metadata": {},
   "source": [
    "### 3.1.3 Arithmetic Operations\n",
    "\n",
    "One of the strengths of NumPy is that it allows us to perform quick element-wise operations, both with basic arithmetic (addition, subtraction, multiplication, etc.) and with more complicated operations (trigonometric functions, exponential and logarithmic functions, etc.). Pandas inherits much of this functionality from NumPy, and the ufuncs we discussed in the last lab are key to this.\n",
    "\n",
    "Pandas includes a couple of useful twists, however: for unary operations like negation and trigonometric functions, these ufuncs will preserve index and column labels in the output, and for binary operations such as addition and multiplication, pandas will\n",
    "automatically align indices when passing the objects to the ufunc. This means that keeping the context of data and combining data from different sources—both potentially error-prone tasks with raw NumPy arrays—become essentially foolproof with\n",
    "pandas. We will additionally see that there are well-defined operations between onedimensional `Series` structures and two-dimensional `DataFrame` structures."
   ]
  },
  {
   "cell_type": "code",
   "execution_count": 24,
   "metadata": {},
   "outputs": [
    {
     "name": "stdout",
     "output_type": "stream",
     "text": [
      "         x1        x2        x3\n",
      "0 -1.005463 -0.770804  0.294280\n",
      "1 -2.268767 -0.250565  0.691772\n",
      "2 -0.597849  0.375154 -0.743485\n",
      "3 -1.053327  0.385379  1.696020\n",
      "4  1.113981  0.028582 -1.129064\n",
      "\n",
      "Data transpose operation: data.T\n",
      "           0         1         2         3         4\n",
      "x1 -1.005463 -2.268767 -0.597849 -1.053327  1.113981\n",
      "x2 -0.770804 -0.250565  0.375154  0.385379  0.028582\n",
      "x3  0.294280  0.691772 -0.743485  1.696020 -1.129064\n",
      "\n",
      "Addition: data + 4\n",
      "         x1        x2        x3\n",
      "0  2.994537  3.229196  4.294280\n",
      "1  1.731233  3.749435  4.691772\n",
      "2  3.402151  4.375154  3.256515\n",
      "3  2.946673  4.385379  5.696020\n",
      "4  5.113981  4.028582  2.870936\n",
      "\n",
      "Multiplication: data * 10\n",
      "          x1        x2         x3\n",
      "0 -10.054627 -7.708038   2.942804\n",
      "1 -22.687672 -2.505647   6.917715\n",
      "2  -5.978488  3.751543  -7.434852\n",
      "3 -10.533274  3.853795  16.960196\n",
      "4  11.139806  0.285820 -11.290644\n"
     ]
    }
   ],
   "source": [
    "print(data)\n",
    "\n",
    "print('\\nData transpose operation: data.T')\n",
    "print(data.T)    # transpose operation\n",
    "\n",
    "print('\\nAddition: data + 4')\n",
    "print(data + 4)    # addition operation\n",
    "\n",
    "print('\\nMultiplication: data * 10')\n",
    "print(data * 10)   # multiplication operation"
   ]
  },
  {
   "cell_type": "code",
   "execution_count": 25,
   "metadata": {},
   "outputs": [
    {
     "name": "stdout",
     "output_type": "stream",
     "text": [
      "data =\n",
      "          x1        x2        x3\n",
      "0 -1.005463 -0.770804  0.294280\n",
      "1 -2.268767 -0.250565  0.691772\n",
      "2 -0.597849  0.375154 -0.743485\n",
      "3 -1.053327  0.385379  1.696020\n",
      "4  1.113981  0.028582 -1.129064\n",
      "\n",
      "data2 =\n",
      "         x1        x2        x3\n",
      "0 -1.343278  0.982917  0.713993\n",
      "1  0.208519  0.550566  1.330987\n",
      "2 -1.023700  0.789314  1.633565\n",
      "3 -0.557926 -0.064272  0.568061\n",
      "4  1.103820 -0.677179 -0.170731\n",
      "\n",
      "data + data2 = \n",
      "         x1        x2        x3\n",
      "0 -2.348741  0.212113  1.008274\n",
      "1 -2.060249  0.300001  2.022758\n",
      "2 -1.621549  1.164468  0.890080\n",
      "3 -1.611253  0.321107  2.264081\n",
      "4  2.217800 -0.648596 -1.299795\n",
      "\n",
      "data * data2 = \n",
      "         x1        x2        x3\n",
      "0  1.350616 -0.757636  0.210114\n",
      "1 -0.473080 -0.137952  0.920739\n",
      "2  0.612018  0.296114 -1.214532\n",
      "3  0.587678 -0.024769  0.963443\n",
      "4  1.229634 -0.019355  0.192766\n"
     ]
    }
   ],
   "source": [
    "print('data =\\n', data)\n",
    "\n",
    "columnNames = ['x1','x2','x3']\n",
    "data2 = DataFrame(np.random.randn(5,3), columns=columnNames)\n",
    "print('\\ndata2 =')\n",
    "print(data2)\n",
    "\n",
    "print('\\ndata + data2 = ')\n",
    "print(data.add(data2))\n",
    "\n",
    "print('\\ndata * data2 = ')\n",
    "print(data.mul(data2))"
   ]
  },
  {
   "cell_type": "code",
   "execution_count": 26,
   "metadata": {},
   "outputs": [
    {
     "name": "stdout",
     "output_type": "stream",
     "text": [
      "         x1        x2        x3\n",
      "0  1.005463  0.770804  0.294280\n",
      "1  2.268767  0.250565  0.691772\n",
      "2  0.597849  0.375154  0.743485\n",
      "3  1.053327  0.385379  1.696020\n",
      "4  1.113981  0.028582  1.129064\n",
      "\n",
      "Maximum value per column:\n",
      "x1    1.113981\n",
      "x2    0.385379\n",
      "x3    1.696020\n",
      "dtype: float64\n",
      "\n",
      "Minimum value per row:\n",
      "0   -1.005463\n",
      "1   -2.268767\n",
      "2   -0.743485\n",
      "3   -1.053327\n",
      "4   -1.129064\n",
      "dtype: float64\n",
      "\n",
      "Sum of values per column:\n",
      "x1   -3.811425\n",
      "x2   -0.232253\n",
      "x3    0.809522\n",
      "dtype: float64\n",
      "\n",
      "Average value per row:\n",
      "0   -0.493995\n",
      "1   -0.609187\n",
      "2   -0.322060\n",
      "3    0.342691\n",
      "4    0.004499\n",
      "dtype: float64\n",
      "\n",
      "Calculate max - min per column\n",
      "x1    3.382748\n",
      "x2    1.156183\n",
      "x3    2.825084\n",
      "dtype: float64\n",
      "\n",
      "Calculate max - min per row\n",
      "0    1.299743\n",
      "1    2.960539\n",
      "2    1.118639\n",
      "3    2.749347\n",
      "4    2.243045\n",
      "dtype: float64\n"
     ]
    }
   ],
   "source": [
    "print(data.abs())    # get the absolute value for each element\n",
    "\n",
    "print('\\nMaximum value per column:')\n",
    "print(data.max())    # get maximum value for each column\n",
    "\n",
    "print('\\nMinimum value per row:')\n",
    "print(data.min(axis=1))    # get minimum value for each row\n",
    "\n",
    "print('\\nSum of values per column:')\n",
    "print(data.sum())    # get sum of values for each column\n",
    "\n",
    "print('\\nAverage value per row:')\n",
    "print(data.mean(axis=1))    # get average value for each row\n",
    "\n",
    "print('\\nCalculate max - min per column')\n",
    "f = lambda x: x.max() - x.min()\n",
    "print(data.apply(f))\n",
    "\n",
    "print('\\nCalculate max - min per row')\n",
    "f = lambda x: x.max() - x.min()\n",
    "print(data.apply(f, axis=1))"
   ]
  },
  {
   "cell_type": "markdown",
   "metadata": {},
   "source": [
    "The `value_counts()` function can also be applied to a pandas DataFrame"
   ]
  },
  {
   "cell_type": "code",
   "execution_count": 27,
   "metadata": {},
   "outputs": [
    {
     "name": "stdout",
     "output_type": "stream",
     "text": [
      "shapeData =\n",
      "        shape color\n",
      "0     circle   red\n",
      "1     square   red\n",
      "2     square   red\n",
      "3     square  blue\n",
      "4     circle  blue\n",
      "5  rectangle  blue \n",
      "\n",
      "shapeData.value_counts() =\n",
      " shape      color\n",
      "circle     blue     1\n",
      "           red      1\n",
      "rectangle  blue     1\n",
      "square     blue     1\n",
      "           red      2\n",
      "dtype: int64\n"
     ]
    }
   ],
   "source": [
    "objects = {'shape': ['circle', 'square', 'square', 'square', 'circle', 'rectangle'],\n",
    "           'color': ['red', 'red', 'red', 'blue', 'blue', 'blue']}\n",
    "\n",
    "shapeData = DataFrame(objects)\n",
    "print('shapeData =\\n', shapeData, '\\n')\n",
    "\n",
    "print('shapeData.value_counts() =\\n', shapeData.value_counts().sort_values())"
   ]
  },
  {
   "cell_type": "markdown",
   "metadata": {},
   "source": [
    "__Problem:__ Create a `Series` and `DataFrame` with integer values (and the `DataFrame` with columns labelled 'A', 'B', 'C' and 'D'). Then apply two NumPy ufuncs on either of these objects and observe the the result is another pandas object _with the indices preserved_."
   ]
  },
  {
   "cell_type": "markdown",
   "metadata": {},
   "source": [
    "### 3.1.4 Plotting Series and DataFrame\n",
    "\n",
    "There are many built-in functions available to plot the data stored in a `Series` or a `DataFrame`.\n",
    "\n",
    "**(a)** Line plot"
   ]
  },
  {
   "cell_type": "code",
   "execution_count": 32,
   "metadata": {},
   "outputs": [
    {
     "data": {
      "text/plain": [
       "<AxesSubplot:title={'center':'Line plot'}>"
      ]
     },
     "execution_count": 32,
     "metadata": {},
     "output_type": "execute_result"
    },
    {
     "data": {
      "image/png": "[encoded data removed]",
      "text/plain": [
       "<Figure size 640x480 with 1 Axes>"
      ]
     },
     "metadata": {},
     "output_type": "display_data"
    }
   ],
   "source": [
    "%matplotlib inline\n",
    "\n",
    "s3 = Series([1.2,2.5,-2.2,3.1,-0.8,-3.2,1.4], \n",
    "            index = ['Jan 1','Jan 2','Jan 3','Jan 4','Jan 5','Jan 6','Jan 7'])\n",
    "s3.plot(kind='line', title='Line plot')"
   ]
  },
  {
   "cell_type": "markdown",
   "metadata": {},
   "source": [
    "**(b)** Bar plot"
   ]
  },
  {
   "cell_type": "code",
   "execution_count": 33,
   "metadata": {},
   "outputs": [
    {
     "data": {
      "text/plain": [
       "<AxesSubplot:title={'center':'Bar plot'}>"
      ]
     },
     "execution_count": 33,
     "metadata": {},
     "output_type": "execute_result"
    },
    {
     "data": {
      "image/png": "[encoded data removed]",
      "text/plain": [
       "<Figure size 640x480 with 1 Axes>"
      ]
     },
     "metadata": {},
     "output_type": "display_data"
    }
   ],
   "source": [
    "s3.plot(kind='bar', title='Bar plot')"
   ]
  },
  {
   "cell_type": "markdown",
   "metadata": {},
   "source": [
    "**(c)** Histogram"
   ]
  },
  {
   "cell_type": "code",
   "execution_count": 34,
   "metadata": {},
   "outputs": [
    {
     "data": {
      "text/plain": [
       "<AxesSubplot:title={'center':'Histogram'}, ylabel='Frequency'>"
      ]
     },
     "execution_count": 34,
     "metadata": {},
     "output_type": "execute_result"
    },
    {
     "data": {
      "image/png": "[encoded data removed]",
      "text/plain": [
       "<Figure size 640x480 with 1 Axes>"
      ]
     },
     "metadata": {},
     "output_type": "display_data"
    }
   ],
   "source": [
    "s3.plot(kind='hist', title = 'Histogram')"
   ]
  },
  {
   "cell_type": "markdown",
   "metadata": {},
   "source": [
    "**(d)** Box plot"
   ]
  },
  {
   "cell_type": "code",
   "execution_count": 35,
   "metadata": {},
   "outputs": [
    {
     "data": {
      "text/plain": [
       "<AxesSubplot:title={'center':'Box plot'}>"
      ]
     },
     "execution_count": 35,
     "metadata": {},
     "output_type": "execute_result"
    },
    {
     "data": {
      "image/png": "[encoded data removed]",
      "text/plain": [
       "<Figure size 640x480 with 1 Axes>"
      ]
     },
     "metadata": {},
     "output_type": "display_data"
    }
   ],
   "source": [
    "tuplelist = [(2011,45.1,32.4),(2012,42.4,34.5),(2013,47.2,39.2),\n",
    "              (2014,44.2,31.4),(2015,39.9,29.8),(2016,41.5,36.7)]\n",
    "columnNames = ['year','temp','precip']\n",
    "weatherData = DataFrame(tuplelist, columns=columnNames)\n",
    "weatherData[['temp','precip']].plot(kind='box', title='Box plot')"
   ]
  },
  {
   "cell_type": "markdown",
   "metadata": {},
   "source": [
    "**(e)** Scatter plot "
   ]
  },
  {
   "cell_type": "code",
   "execution_count": 36,
   "metadata": {},
   "outputs": [
    {
     "name": "stdout",
     "output_type": "stream",
     "text": [
      "weatherData =\n",
      "    year  temp  precip\n",
      "0  2011  45.1    32.4\n",
      "1  2012  42.4    34.5\n",
      "2  2013  47.2    39.2\n",
      "3  2014  44.2    31.4\n",
      "4  2015  39.9    29.8\n",
      "5  2016  41.5    36.7\n"
     ]
    },
    {
     "data": {
      "text/plain": [
       "<AxesSubplot:xlabel='temp', ylabel='precip'>"
      ]
     },
     "execution_count": 36,
     "metadata": {},
     "output_type": "execute_result"
    },
    {
     "data": {
      "image/png": "[encoded data removed]",
      "text/plain": [
       "<Figure size 640x480 with 1 Axes>"
      ]
     },
     "metadata": {},
     "output_type": "display_data"
    }
   ],
   "source": [
    "print('weatherData =\\n', weatherData)\n",
    "\n",
    "weatherData.plot(kind='scatter', x='temp', y='precip')"
   ]
  }
 ],
 "metadata": {
  "kernelspec": {
   "display_name": "Python 3 (ipykernel)",
   "language": "python",
   "name": "python3"
  },
  "language_info": {
   "codemirror_mode": {
    "name": "ipython",
    "version": 3
   },
   "file_extension": ".py",
   "mimetype": "text/x-python",
   "name": "python",
   "nbconvert_exporter": "python",
   "pygments_lexer": "ipython3",
   "version": "3.9.12"
  }
 },
 "nbformat": 4,
 "nbformat_minor": 2
}
