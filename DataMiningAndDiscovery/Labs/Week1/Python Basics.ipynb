{
 "cells": [
  {
   "cell_type": "markdown",
   "id": "5cd39d72",
   "metadata": {},
   "source": [
    "# Python Basics\n",
    "\n",
    "In this notebook, we will recap some of the basics of using Python. We will see variables and lists, functions and methods, as well as how to control the flow of our programmes using if statements and for loops etc. This will also give us an opportunity to explore the differences between Spyder and Jupyter Notebook.\n",
    "\n",
    "Throughout, you are encouraged to alter the code as you go and experiment. If a question naturally arises, try to answer it. You will get much better at Python if you allow yourself to pursue your curiosity. For those of you who have already worked with Python (and are happy to do so), this will likely be unnecessary. However, it might be worth skimming through the notebook to ensure there is nothing unexpected. It will be assumed throughout the course that you are happy with everything in this notebook.\n",
    "\n",
    "To run a cell, use CTRL + Enter. Finally, while this lab is being run in Jupyter Notebook, you are expected to create and run your files in Spyder. Using Notebook is simply an opportunity to show you Jupyter, but the goal is for you to work with Spyder long-term."
   ]
  },
  {
   "cell_type": "markdown",
   "id": "d683eab9",
   "metadata": {},
   "source": [
    "## 1.1 Why Python?\n",
    "\n",
    "Python is a popular and powerful open source _interpreted_ programming language. By interpreted language, we mean one that does not require to be _compiled_ into machine code by the user. Instead, this is all done behind the scenes. Although compiled languages like C are usually much faster than interpreted languages, they are arguably less user friendly and require more low level programming to develop complex data processing algorithms. That said, Python provides easy access to powerful computational functions that do interface with underlying C-compiled libraries.\n",
    "\n",
    "While Python was not specifically designed with data analysis or scientific computing in mind, it lends itself excellently to these tasks, not least because of its ability to work with and visualise large data sets. This ability stems from a large and active ecosystem of third-party packages:\n",
    "\n",
    "- NumPy - for manipulation of homogeneous array-based data;\n",
    "- pandas - for manipulation of heterogeneous and labelled data;\n",
    "- SciPy - for common scientific computing tasks;\n",
    "- Matplotlib - for publication-quality visualisations;\n",
    "- IPython - for interactive execution and sharing of code;\n",
    "- Scikit-Learn - for machine learning.\n",
    "\n",
    "We will see all of these in this course. In particular, we are seeing IPython now. It is an interactive shell that is built with Python. To quote the project website, it provides a 'rich toolkit to help you make the most out of using Python'. As such, we do not need to alter our code since the IPython shell runs our Python code just like normal, except it has a few extra features (see https://ipython.readthedocs.io/en/stable/interactive/tutorial.html). As for Jupyter, it got its start as an IPython shell and has since grown into a project aiming to provide a 'tool for the entire life cycle of research computing'. These are the words of Fernando Perez who created the IPython programming environment in 2001. We can think of these two as follows: if Python is the engine of our data science task, Jupyter is the interactive control panel. Finally, Jupyter Notebook is a browser-based environment that is perhaps the most familiar interface provided by the Jupyter project. It is useful for development, collaboration, sharing and even publication of data science results."
   ]
  },
  {
   "cell_type": "markdown",
   "id": "3225075d",
   "metadata": {},
   "source": [
    "Before getting down to business, let's start by seeing the most famous of all starting points in programming."
   ]
  },
  {
   "cell_type": "code",
   "execution_count": 1,
   "id": "02c2f897",
   "metadata": {},
   "outputs": [
    {
     "name": "stdout",
     "output_type": "stream",
     "text": [
      "Hello, world!\n"
     ]
    }
   ],
   "source": [
    "print('Hello, world!')"
   ]
  },
  {
   "cell_type": "markdown",
   "id": "a2b964e9",
   "metadata": {},
   "source": [
    "Copy this code into a file named _hello\\_world.py_ and run it in Spyder."
   ]
  },
  {
   "cell_type": "markdown",
   "id": "c1e7b76a",
   "metadata": {},
   "source": [
    "## 1.2 Variables, Lists and Dictionaries\n",
    "\n",
    "### 1.2.1 Variables\n",
    "\n",
    "A variable is typically described as a 'box' in which we can store values. While this is a good way to think of variables in the beginning, it is perhaps better long term to think of variables as labels that we can assign to values. We can also say that a variable references a certain value. While this distinction probably won't matter in the beginning, it is worth learning sooner rather than later since, eventually, there will be unexpected behaviour from a variable if we have an innacurate understanding of how variables work.\n",
    "\n",
    "When naming a variable, we need to adhere to a few rules and guidelines. Breaking rules will cause errors, while breaking guidelines may just lead to messy code. For the former we briefly consider the following:\n",
    "\n",
    "- Variable names can contain only letters, numbers and underscores.\n",
    "- Variable names can start with a letter or an underscore, but not with a number, e.g. _message\\_1_ but not _1\\_message_.\n",
    "- Spaces are not allowed in variable names, e.g. _greeting\\_message_ but not _greeting message_.\n",
    "- Avoid using Python keywords and function names as variable names; that is, do not use words that Python has reserved for a particular programmatic purpose, such as `print`."
   ]
  },
  {
   "cell_type": "code",
   "execution_count": 2,
   "id": "054975bd",
   "metadata": {},
   "outputs": [
    {
     "name": "stdout",
     "output_type": "stream",
     "text": [
      "Hello, world!\n"
     ]
    }
   ],
   "source": [
    "message = 'Hello, world!'\n",
    "print(message)"
   ]
  },
  {
   "cell_type": "markdown",
   "id": "6f4ef1df",
   "metadata": {},
   "source": [
    "Every variable is connected to a _value_, which is the information associated with that variable. In the above, we added a variable named _message_ and the value associated to it is the string 'Hello, world!'. Adding a variable is a little more work for the Python interpreter since it first processes the first line, associating the variable _message_ with the text 'Hello, world!'. It then processes the second line, printing the value associated with _message_."
   ]
  },
  {
   "cell_type": "markdown",
   "id": "f4f7e9f7",
   "metadata": {},
   "source": [
    "Most programmes define and gather data of some sort before doing something useful with that data. As such, it helps to classify different types of data. The main data types are as follows:\n",
    "\n",
    "- A _string_ (`str`) is a series of characters and is written inside quotes (single or double, but be consistent!).\n",
    "\n",
    "`'This is a string'`\n",
    "\n",
    "`\"This is also a string\"`\n",
    "- A _integer_ (`int`) is a signed (i.e. positive or negative) whole number of any size.\n",
    "- A _floating point value_ (`float`) is a real number (really, we should say an approximation of a real number) characterised by an integer value followed by a decimal point and the fractional part. These can be written in scientific notation (e.g. `a = 1.0e6` to represent one million, or simply `b = 2.0` to represent the whole number two). These are called _floating_ points because, as far as the computer is concerned, the decimal point can appear anywhere in the string of digits.\n",
    "- A _boolean value_ (`bool`) is simply `True` or `False` (sometimes represented by the integers 1 and 0, respectively).\n",
    "- A _null value_ (`None`) is a special Python data type. The `NoneType` represents no, or null, value. It has various applications but can be useful as a placeholder when the exact value of a variable is not yet known or defined.\n",
    "\n",
    "__N.B.__ Some languages require us to define the type of variable before assigning a value (or a piece of data) to it. While Python does not require this, it is still important to be aware of the data type."
   ]
  },
  {
   "cell_type": "code",
   "execution_count": 3,
   "id": "3db029e1",
   "metadata": {},
   "outputs": [
    {
     "name": "stdout",
     "output_type": "stream",
     "text": [
      "<class 'int'>\n",
      "<class 'float'>\n",
      "<class 'str'>\n",
      "<class 'float'>\n"
     ]
    }
   ],
   "source": [
    "a, b = 1, 2.0    # This is how we can declare multiple variables on the same line\n",
    "\n",
    "# If we are unsure of an object's data type, we can simply enquire.\n",
    "print(type(a))\n",
    "print(type(b))\n",
    "print(type(message))\n",
    "\n",
    "# We can change a data type\n",
    "a = float(a)\n",
    "print(type(a))"
   ]
  },
  {
   "cell_type": "code",
   "execution_count": 4,
   "id": "f3ad05a1",
   "metadata": {},
   "outputs": [
    {
     "ename": "ValueError",
     "evalue": "could not convert string to float: 'Hello, world!'",
     "output_type": "error",
     "traceback": [
      "\u001b[1;31m---------------------------------------------------------------------------\u001b[0m",
      "\u001b[1;31mValueError\u001b[0m                                Traceback (most recent call last)",
      "\u001b[1;32m~\\AppData\\Local\\Temp\\ipykernel_9908\\3289445754.py\u001b[0m in \u001b[0;36m<module>\u001b[1;34m\u001b[0m\n\u001b[0;32m      1\u001b[0m \u001b[1;31m# But we cannot cast a string as a float\u001b[0m\u001b[1;33m\u001b[0m\u001b[1;33m\u001b[0m\u001b[0m\n\u001b[1;32m----> 2\u001b[1;33m \u001b[0mmessage_float\u001b[0m \u001b[1;33m=\u001b[0m \u001b[0mfloat\u001b[0m\u001b[1;33m(\u001b[0m\u001b[0mmessage\u001b[0m\u001b[1;33m)\u001b[0m\u001b[1;33m\u001b[0m\u001b[1;33m\u001b[0m\u001b[0m\n\u001b[0m\u001b[0;32m      3\u001b[0m \u001b[1;33m\u001b[0m\u001b[0m\n\u001b[0;32m      4\u001b[0m \u001b[1;31m# There are two exceptions to this: the strings 'nan' and 'inf'\u001b[0m\u001b[1;33m\u001b[0m\u001b[1;33m\u001b[0m\u001b[0m\n",
      "\u001b[1;31mValueError\u001b[0m: could not convert string to float: 'Hello, world!'"
     ]
    }
   ],
   "source": [
    "# But we cannot cast a string as a float\n",
    "message_float = float(message)\n",
    "\n",
    "# There are two exceptions to this: the strings 'nan' and 'inf'"
   ]
  },
  {
   "cell_type": "markdown",
   "id": "fd479c41",
   "metadata": {},
   "source": [
    "The special cases 'nan' and 'inf' stand for 'not a number' and 'infinite', respectively. A nan (or NaN) allows for the representation of a floating point data type that is unrepresentable or undefined. In data science, these often represent missing or corrupt data. An inf allows for the representation of an infinite value."
   ]
  },
  {
   "cell_type": "markdown",
   "id": "5256c574",
   "metadata": {},
   "source": [
    "In some situations, we want to use a variable's value inside a string. For example, we might have two variables, one representing a first name and one representing a last name. We want to combine these values to display a person's full name."
   ]
  },
  {
   "cell_type": "code",
   "execution_count": 5,
   "id": "6baab71a",
   "metadata": {},
   "outputs": [
    {
     "name": "stdout",
     "output_type": "stream",
     "text": [
      "Hello, Ada Lovelace\n"
     ]
    }
   ],
   "source": [
    "first_name = 'Ada'\n",
    "last_name = 'Lovelace'\n",
    "full_name = f'{first_name} {last_name}'\n",
    "print('Hello,',full_name)    # Use a comma to print more than one input"
   ]
  },
  {
   "cell_type": "markdown",
   "id": "19203387",
   "metadata": {},
   "source": [
    "Save the above code as _name.py_.\n",
    "\n",
    "To insert a variable's value into a string, we place the letter `f` immediately before the opening quotation mark and then put braces around the name or names of any variable we want to use inside the string. Python will then replace each variable with its value when the string is displayed. These strings are called _f-strings_ where the _f_ is for _format_ because Python formats the string by replacing the name of any variable in braces with its value."
   ]
  },
  {
   "cell_type": "markdown",
   "id": "4894dce8",
   "metadata": {},
   "source": [
    "There are lots of ways to template or format a string. We will briefly discuss the mechanics of one of the main interfaces here. String objects have a `format` method that can be used to substitute formatted arguments into the string, producing a new string. Below, we have the following:\n",
    "- `{0:.2f}` means to format the first argument as a floating-point number with two decimal places.\n",
    "- `{1:s}` means to format the second argument as a string.\n",
    "- `{2:d}` means to format the third argument as an exact integer."
   ]
  },
  {
   "cell_type": "code",
   "execution_count": 6,
   "id": "bc6ee70d",
   "metadata": {},
   "outputs": [],
   "source": [
    "template = '{0:.2f} {1:s} are worth US${2:d}'"
   ]
  },
  {
   "cell_type": "markdown",
   "id": "34793932",
   "metadata": {},
   "source": [
    "To substitute arguments for these format parameters, we pass a sequence of arguments t the `format` method."
   ]
  },
  {
   "cell_type": "code",
   "execution_count": 7,
   "id": "dd9214f9",
   "metadata": {},
   "outputs": [
    {
     "data": {
      "text/plain": [
       "'4.56 Argentine Pesos are worth US$1'"
      ]
     },
     "execution_count": 7,
     "metadata": {},
     "output_type": "execute_result"
    }
   ],
   "source": [
    "template.format(4.55560, 'Argentine Pesos', 1)"
   ]
  },
  {
   "cell_type": "markdown",
   "id": "43f055aa",
   "metadata": {},
   "source": [
    "Sometimes we want to take in a string and 'spit out' a list whose entries are the words in the string. This can be done using the `.split()` method."
   ]
  },
  {
   "cell_type": "code",
   "execution_count": 8,
   "id": "eb33a517",
   "metadata": {},
   "outputs": [],
   "source": [
    "string = 'This is a test string. We can turn this into a list.'"
   ]
  },
  {
   "cell_type": "code",
   "execution_count": 9,
   "id": "2e3e9b99",
   "metadata": {},
   "outputs": [
    {
     "data": {
      "text/plain": [
       "['This',\n",
       " 'is',\n",
       " 'a',\n",
       " 'test',\n",
       " 'string.',\n",
       " 'We',\n",
       " 'can',\n",
       " 'turn',\n",
       " 'this',\n",
       " 'into',\n",
       " 'a',\n",
       " 'list.']"
      ]
     },
     "execution_count": 9,
     "metadata": {},
     "output_type": "execute_result"
    }
   ],
   "source": [
    "string.split()"
   ]
  },
  {
   "cell_type": "markdown",
   "id": "632a52e2",
   "metadata": {},
   "source": [
    "By default, this method splits based on a space. However, we can split along letters or punctuation simply by passing an extra argument."
   ]
  },
  {
   "cell_type": "code",
   "execution_count": 10,
   "id": "94e96e4c",
   "metadata": {},
   "outputs": [
    {
     "data": {
      "text/plain": [
       "['This is a test string', ' We can turn this into a list', '']"
      ]
     },
     "execution_count": 10,
     "metadata": {},
     "output_type": "execute_result"
    }
   ],
   "source": [
    "string.split('.')"
   ]
  },
  {
   "cell_type": "code",
   "execution_count": 11,
   "id": "3dd3431b",
   "metadata": {},
   "outputs": [
    {
     "data": {
      "text/plain": [
       "['This is a t', 'st string. W', ' can turn this into a list.']"
      ]
     },
     "execution_count": 11,
     "metadata": {},
     "output_type": "execute_result"
    }
   ],
   "source": [
    "string.split('e')"
   ]
  },
  {
   "cell_type": "markdown",
   "id": "7b622fe2",
   "metadata": {},
   "source": [
    "To learn more, refer to https://docs.python.org/3/library/string.html"
   ]
  },
  {
   "cell_type": "markdown",
   "id": "ceef098b",
   "metadata": {},
   "source": [
    "__Exercises:__\n",
    "- Update your _hello\\_world.py_ file to contain the variable _message_, as above. Then alter your code to read `print(mesage)`. Run your code and observe what happens. Next, change the value of the variable and run the code again.\n",
    "- Explore the use of `.title()`, `.upper()` and `.lower()` on strings. What do they do? Try using them in _name.py_.\n",
    "- Explore the use of \\t and \\n in adding whitespace to strings. Again, try using this in _name.py_ or _hello\\_world.py_.\n",
    "- Explore the use of `.rstrip()`, `.lstrip()` and `.strip()` in removing whitespace from strings. As ever, use these in either of your _.py_ files."
   ]
  },
  {
   "cell_type": "markdown",
   "id": "d5435ce3",
   "metadata": {},
   "source": [
    "### 1.2.2 Lists\n",
    "\n",
    "Lists allow us to store sets of information in one place, whether it is just a few items or millions. These are one of Python's most powerful features and tie together many important concepts in progamming. The simplest way to create a list is to simply type out each item of the list, enclosed in square brackets ([ ])"
   ]
  },
  {
   "cell_type": "code",
   "execution_count": 12,
   "id": "f18bb731",
   "metadata": {},
   "outputs": [
    {
     "name": "stdout",
     "output_type": "stream",
     "text": [
      "['Death', 'Rincewind', 'The Luggage', 'The Librarian', 'Granny Weatherwax', 'sam vimes']\n",
      "The first element is Death\n",
      "The thid element is The Luggage\n",
      "The last element is Sam Vimes\n"
     ]
    }
   ],
   "source": [
    "# An empty list\n",
    "an_empty_list = []\n",
    "\n",
    "# A non-empty list\n",
    "discworld = ['Death', 'Rincewind', 'The Luggage', 'The Librarian', 'Granny Weatherwax', 'sam vimes']\n",
    "\n",
    "# Print the list\n",
    "print(discworld)\n",
    "\n",
    "# Access individual elements of the list\n",
    "print('The first element is', discworld[0])\n",
    "print('The thid element is', discworld[2])\n",
    "print('The last element is', discworld[-1].title())\n",
    "\n",
    "# A list with a mixture of data types\n",
    "list1 = [1, 'a', 2, 'b', 3, 'c']"
   ]
  },
  {
   "cell_type": "markdown",
   "id": "5ed1d4a0",
   "metadata": {},
   "source": [
    "A list can even have another list as an item. Lists have different 'methods' which allow us to manipulate the data inside them. An exhaustive overview can be found in https://docs.python.org/3/tutorial/datastructures.html"
   ]
  },
  {
   "cell_type": "markdown",
   "id": "d31502f0",
   "metadata": {},
   "source": [
    "An important method from a practical standpoint is the 'append' method. This allows us to add items to lists and does so by modifying the list as opposed to creating a new one. This is often called an 'in place' method.\n",
    "\n",
    "We can also use 'extend' to extend one list with another or even add a new element at a specific position in our list using 'insert'. For the latter, we need to specify the position and what we want to insert as two different arguments."
   ]
  },
  {
   "cell_type": "code",
   "execution_count": 13,
   "id": "f176d832",
   "metadata": {},
   "outputs": [
    {
     "name": "stdout",
     "output_type": "stream",
     "text": [
      "['Death', 'Rincewind', 'The Luggage', 'The Librarian', 'Granny Weatherwax', 'sam vimes', 'Cohen the Barbarian']\n",
      "\n",
      "\t ['Death', 'Ysabel', 'Rincewind', 'The Luggage', 'The Librarian', 'Granny Weatherwax', 'sam vimes', 'Cohen the Barbarian']\n",
      "\n",
      "\t\t [1, 'a', 2, 'b', 3, 'c', 4, 'd', 5, 'e', 6, 'f']\n"
     ]
    }
   ],
   "source": [
    "discworld.append('Cohen the Barbarian')\n",
    "print(discworld)\n",
    "\n",
    "discworld.insert(1,'Ysabel')\n",
    "print('\\n\\t',discworld)\n",
    "\n",
    "another_list = [4, 'd', 5, 'e', 6, 'f']\n",
    "list1.extend(another_list)\n",
    "print('\\n\\t\\t',list1)"
   ]
  },
  {
   "cell_type": "markdown",
   "id": "cc75a43c",
   "metadata": {},
   "source": [
    "We can do much more with lists than simply adding (or removing - see exercises below) items. We can also determine the length of a list easily using the `len()` function, or sort using the `sort()` method. If we wanted to maintain the original order of a list but present it in a sorted order, we can instead use the `sorted()` function. This lets us display our list in a particular order but does not affect the actual order of the list."
   ]
  },
  {
   "cell_type": "code",
   "execution_count": 14,
   "id": "98c11f56",
   "metadata": {},
   "outputs": [
    {
     "name": "stdout",
     "output_type": "stream",
     "text": [
      "There are 8 characters in the Discworld list. In alphabetical order, they are as follows:\n",
      "\n",
      " ['Cohen the Barbarian', 'Death', 'Granny Weatherwax', 'Rincewind', 'The Librarian', 'The Luggage', 'Ysabel', 'sam vimes']\n"
     ]
    }
   ],
   "source": [
    "n = len(discworld)\n",
    "discworld.sort()\n",
    "print('There are',n,'characters in the Discworld list. In alphabetical order, they are as follows:\\n\\n', discworld)"
   ]
  },
  {
   "cell_type": "markdown",
   "id": "fd73f875",
   "metadata": {},
   "source": [
    "__Exercises__\n",
    "- Save the discworld list as _discworld.py_. Change each name to one written entirely in lowercase. Then, print a message which greets each member (using titled capitalisation).\n",
    "- Explore the `del` statement and use it to remove 'Rincewind' from the discworld list.\n",
    "- Compare `del` to the `pop()` method. How does it differ?\n",
    "- Compare `del` and `pop()` to the `remove()` method. How does it differ?\n",
    "- Explore the `.remove()` method.\n",
    "- Create a file called _dinner\\_guests.py_. In this file you must define a list of dinner guests you would like to invite to a dinner. Print a message indicating the number of dinner guests invited. Then, add two more guests and remove one of the original guests. Print an updated number of quests to be invited. Finally, print messages to each dinner guest inviting them to dinner.\n"
   ]
  },
  {
   "cell_type": "markdown",
   "id": "2f715829",
   "metadata": {},
   "source": [
    "### 1.2.3 Dictionaries\n",
    "\n",
    "Python dictionaries allow us to connect pieces of related information. More specifically, a dictionary is a special type of sequence that contains items labelled by 'keys'. We define dictionaries by curly brackets (as opposed to square brackets for lists or parentheses for tuples, which are left as an exercise to explore). These can be used to store information more accurately. For example, we might want to store information about an individual person (name, age, address, profession, and so on). We can do this using the person's identifier as the key."
   ]
  },
  {
   "cell_type": "code",
   "execution_count": 15,
   "id": "763c3272",
   "metadata": {},
   "outputs": [
    {
     "data": {
      "text/plain": [
       "{'a': 'some value', 'b': [1, 2, 3, 4]}"
      ]
     },
     "execution_count": 15,
     "metadata": {},
     "output_type": "execute_result"
    }
   ],
   "source": [
    "empty_dict = {}\n",
    "\n",
    "dict1 = {'a' : 'some value', 'b' : [1,2,3,4]}\n",
    "\n",
    "dict1"
   ]
  },
  {
   "cell_type": "markdown",
   "id": "abf876ea",
   "metadata": {},
   "source": [
    "`dict1` has keys 'a' and 'b'. If we want to get a list of these keys, we can use the `.keys()` method. We can then easily add keys to the dictionary."
   ]
  },
  {
   "cell_type": "code",
   "execution_count": 16,
   "id": "0212c434",
   "metadata": {},
   "outputs": [
    {
     "name": "stdout",
     "output_type": "stream",
     "text": [
      "dict_keys(['a', 'b'])\n",
      "{'a': 'some value', 'b': [1, 2, 3, 4], 'c': (1, 2)}\n"
     ]
    }
   ],
   "source": [
    "keys = dict1.keys()\n",
    "print(keys)\n",
    "\n",
    "dict1['c'] = (1,2)\n",
    "print(dict1)"
   ]
  },
  {
   "cell_type": "markdown",
   "id": "e7800ab4",
   "metadata": {},
   "source": [
    "We can check if a dictionary contains a key using the same syntax used for checking whether a list (or tuple) contains a value:"
   ]
  },
  {
   "cell_type": "code",
   "execution_count": 17,
   "id": "419a3eef",
   "metadata": {},
   "outputs": [
    {
     "data": {
      "text/plain": [
       "True"
      ]
     },
     "execution_count": 17,
     "metadata": {},
     "output_type": "execute_result"
    }
   ],
   "source": [
    "'b' in dict1"
   ]
  },
  {
   "cell_type": "code",
   "execution_count": 18,
   "id": "46077449",
   "metadata": {},
   "outputs": [
    {
     "data": {
      "text/plain": [
       "False"
      ]
     },
     "execution_count": 18,
     "metadata": {},
     "output_type": "execute_result"
    }
   ],
   "source": [
    "'d' in dict1"
   ]
  },
  {
   "cell_type": "markdown",
   "id": "76eee835",
   "metadata": {},
   "source": [
    "We can delete values either using the `del` keyword or the `pop` method (which simultaneously returns the value and deletes the key):"
   ]
  },
  {
   "cell_type": "code",
   "execution_count": 19,
   "id": "54c52b35",
   "metadata": {},
   "outputs": [
    {
     "data": {
      "text/plain": [
       "{'a': 'some value', 'b': [1, 2, 3, 4], 'c': (1, 2), 5: 'some value'}"
      ]
     },
     "execution_count": 19,
     "metadata": {},
     "output_type": "execute_result"
    }
   ],
   "source": [
    "dict1[5] = 'some value'\n",
    "dict1"
   ]
  },
  {
   "cell_type": "code",
   "execution_count": 20,
   "id": "e8f34a1d",
   "metadata": {},
   "outputs": [
    {
     "data": {
      "text/plain": [
       "{'a': 'some value',\n",
       " 'b': [1, 2, 3, 4],\n",
       " 'c': (1, 2),\n",
       " 5: 'some value',\n",
       " 'dummy': 'another value'}"
      ]
     },
     "execution_count": 20,
     "metadata": {},
     "output_type": "execute_result"
    }
   ],
   "source": [
    "dict1['dummy'] = 'another value'\n",
    "dict1"
   ]
  },
  {
   "cell_type": "code",
   "execution_count": 21,
   "id": "ef9af4fb",
   "metadata": {},
   "outputs": [
    {
     "data": {
      "text/plain": [
       "{'a': 'some value', 'b': [1, 2, 3, 4], 'c': (1, 2), 'dummy': 'another value'}"
      ]
     },
     "execution_count": 21,
     "metadata": {},
     "output_type": "execute_result"
    }
   ],
   "source": [
    "del dict1[5]\n",
    "dict1"
   ]
  },
  {
   "cell_type": "code",
   "execution_count": 22,
   "id": "1d474cfd",
   "metadata": {},
   "outputs": [
    {
     "data": {
      "text/plain": [
       "'another value'"
      ]
     },
     "execution_count": 22,
     "metadata": {},
     "output_type": "execute_result"
    }
   ],
   "source": [
    "ret = dict1.pop('dummy')\n",
    "ret"
   ]
  },
  {
   "cell_type": "code",
   "execution_count": 23,
   "id": "57b41671",
   "metadata": {},
   "outputs": [
    {
     "data": {
      "text/plain": [
       "{'a': 'some value', 'b': [1, 2, 3, 4], 'c': (1, 2)}"
      ]
     },
     "execution_count": 23,
     "metadata": {},
     "output_type": "execute_result"
    }
   ],
   "source": [
    "dict1"
   ]
  },
  {
   "cell_type": "markdown",
   "id": "f1399e14",
   "metadata": {},
   "source": [
    "The `.keys()` and `.values()` methods give us iterators of the dictionary's keys and values, respectively. While the key-value pairs are not in any particular order, these functions output the keys and values in the same order."
   ]
  },
  {
   "cell_type": "code",
   "execution_count": 24,
   "id": "d22e7549",
   "metadata": {},
   "outputs": [
    {
     "data": {
      "text/plain": [
       "['a', 'b', 'c']"
      ]
     },
     "execution_count": 24,
     "metadata": {},
     "output_type": "execute_result"
    }
   ],
   "source": [
    "list(dict1.keys())"
   ]
  },
  {
   "cell_type": "code",
   "execution_count": 25,
   "id": "57112ce0",
   "metadata": {},
   "outputs": [
    {
     "data": {
      "text/plain": [
       "['some value', [1, 2, 3, 4], (1, 2)]"
      ]
     },
     "execution_count": 25,
     "metadata": {},
     "output_type": "execute_result"
    }
   ],
   "source": [
    "list(dict1.values())"
   ]
  },
  {
   "cell_type": "markdown",
   "id": "91dd80d7",
   "metadata": {},
   "source": [
    "We can merge one dictionary into another using the `.update()` method. This changes dictionaries in-place, so any existing keys in the data passed to `update` will have their old values discarded."
   ]
  },
  {
   "cell_type": "code",
   "execution_count": 26,
   "id": "1a8da540",
   "metadata": {},
   "outputs": [
    {
     "data": {
      "text/plain": [
       "{'a': 'some value', 'b': 'abc', 'c': 12}"
      ]
     },
     "execution_count": 26,
     "metadata": {},
     "output_type": "execute_result"
    }
   ],
   "source": [
    "dict1.update({'b': 'abc', 'c': 12})\n",
    "dict1"
   ]
  },
  {
   "cell_type": "markdown",
   "id": "65d7ddf5",
   "metadata": {},
   "source": [
    "A set in Python is a sequence of unique elements."
   ]
  },
  {
   "cell_type": "code",
   "execution_count": 27,
   "id": "27ae4bb5",
   "metadata": {},
   "outputs": [
    {
     "name": "stdout",
     "output_type": "stream",
     "text": [
      "{1, 2, 3, 4, 5, 6, 7}\n"
     ]
    }
   ],
   "source": [
    "some_list = [1, 1, 1, 2, 3, 4, 5, 5, 6, 6, 6, 7]\n",
    "some_set = set(some_list)\n",
    "print(some_set)"
   ]
  },
  {
   "cell_type": "markdown",
   "id": "7648ade8",
   "metadata": {},
   "source": [
    "By creating a set from the list, we have efficiently found all the unique elements in it. We could then turn this back into a list object."
   ]
  },
  {
   "cell_type": "code",
   "execution_count": 28,
   "id": "63a607b3",
   "metadata": {},
   "outputs": [
    {
     "name": "stdout",
     "output_type": "stream",
     "text": [
      "{1, 2, 3, 4, 5, 6, 7}\n",
      "[1, 2, 3, 4, 5, 6, 7]\n"
     ]
    }
   ],
   "source": [
    "some_list  = [1,1,1,2,3,3,4,5,5,6,6,6,7]\n",
    "some_set = set(some_list)\n",
    "unique_list = list(some_set)\n",
    "\n",
    "print(some_set)\n",
    "print(unique_list)"
   ]
  },
  {
   "cell_type": "markdown",
   "id": "83809c98",
   "metadata": {},
   "source": [
    "In general we can define a set between curly brackets, but must be careful not to get confused with dictionaries. This is particularly dangerous when wanting to create the empty set. If we naively wrote `{ }` we would in fact end up with an empty dictionary."
   ]
  },
  {
   "cell_type": "markdown",
   "id": "4d9fc5bd",
   "metadata": {},
   "source": [
    "__Exercise__\n",
    "- Use a dictionary to store information about a person you know. Store their first name, last name, age and the city in which they live. You should have keys such as _first\\_name_, _last\\_name_, _age_ and _city_. Print each piece of information stored in your dictionary."
   ]
  },
  {
   "cell_type": "markdown",
   "id": "b2983331",
   "metadata": {},
   "source": [
    "## 1.3 Binary Operations and Logical Comparisons\n",
    "\n",
    "Most of the binary mathematical operations and logical comparisons are as we might expect. A list is as follows:\n",
    "\n",
    "- `a + b` means 'add `a` and `b`'\n",
    "- `a - b` means 'subtract `b` from `a`'\n",
    "- `a * b` means 'multiply `a` by `b`'\n",
    "- `a / b` means 'divide `a` by `b`'\n",
    "- `a // b` means 'floor divide `a` by `b`', i.e. we drop any fractional remainder\n",
    "- `a ** b` means 'raise `a` to the power of `b`'\n",
    "- `a & b` means 'True if both `a` and `b` are True; for integers we take the bitwise `AND`'\n",
    "- `a | b` means 'True if either `a` or `b` are True; for integers, take the bitwise `OR`'\n",
    "- `a ^ b` means 'True if `a` or `b` are true, but not both (for booleans); for integers, take the bitwise `Exclusive OR`'"
   ]
  },
  {
   "cell_type": "code",
   "execution_count": 29,
   "id": "4980688a",
   "metadata": {},
   "outputs": [
    {
     "data": {
      "text/plain": [
       "-2"
      ]
     },
     "execution_count": 29,
     "metadata": {},
     "output_type": "execute_result"
    }
   ],
   "source": [
    "5-7"
   ]
  },
  {
   "cell_type": "code",
   "execution_count": 30,
   "id": "1e9410f3",
   "metadata": {},
   "outputs": [
    {
     "data": {
      "text/plain": [
       "19.666666666666668"
      ]
     },
     "execution_count": 30,
     "metadata": {},
     "output_type": "execute_result"
    }
   ],
   "source": [
    "(42+17)/3"
   ]
  },
  {
   "cell_type": "code",
   "execution_count": 31,
   "id": "dad67002",
   "metadata": {},
   "outputs": [
    {
     "data": {
      "text/plain": [
       "2.0"
      ]
     },
     "execution_count": 31,
     "metadata": {},
     "output_type": "execute_result"
    }
   ],
   "source": [
    "4/2    # Note that when you divide any two numbers, the output is always a float, even if it is an integer"
   ]
  },
  {
   "cell_type": "code",
   "execution_count": 32,
   "id": "83116c5d",
   "metadata": {},
   "outputs": [
    {
     "data": {
      "text/plain": [
       "6.0"
      ]
     },
     "execution_count": 32,
     "metadata": {},
     "output_type": "execute_result"
    }
   ],
   "source": [
    "2.0 * 3    # Mixing integers and floats results in a float"
   ]
  },
  {
   "cell_type": "code",
   "execution_count": 33,
   "id": "e5f01f20",
   "metadata": {},
   "outputs": [
    {
     "name": "stdout",
     "output_type": "stream",
     "text": [
      "this is the first halfand this is the second half\n"
     ]
    }
   ],
   "source": [
    "a = 'this is the first half'\n",
    "b = 'and this is the second half'\n",
    "print(a + b)"
   ]
  },
  {
   "cell_type": "code",
   "execution_count": 34,
   "id": "95e34dbe",
   "metadata": {},
   "outputs": [
    {
     "name": "stdout",
     "output_type": "stream",
     "text": [
      "this is the first half and this is the second half\n"
     ]
    }
   ],
   "source": [
    "print (a + ' ' + b)"
   ]
  },
  {
   "cell_type": "code",
   "execution_count": 35,
   "id": "3f7b65aa",
   "metadata": {},
   "outputs": [
    {
     "data": {
      "text/plain": [
       "False"
      ]
     },
     "execution_count": 35,
     "metadata": {},
     "output_type": "execute_result"
    }
   ],
   "source": [
    "7<(1/3)"
   ]
  },
  {
   "cell_type": "markdown",
   "id": "65caf456",
   "metadata": {},
   "source": [
    "We can also compare statements with any of `<`, `<=`, `>`, `>=`, `=`, `==`. Most of these are self explanatory but perhaps it is best to discuss the last two. First, `=` is used to assign a value. So, for example, `a = [1, 2, 3]` is taking the list `[1, 2, 3]` and assigning it to `a`. If we want to use equality to compare two values (as we would in real-world mathematics), we instead use `==`. So, `a == b` would be `True` if both objects have the same value (they are equal). A related (and subtly different) idea is the `is` keyword. If we want to check if two references refer to the same object, then we can use the `is` keyword or also the `is not` keyword if we want to check if two objects are the same.\n",
    "\n",
    "__Question:__ So what is the difference between `==` and `is`?\n",
    "\n",
    "__Answer:__ The `==` operator compares the value or equality of two objects, whereas the Python `is` operator checks whether two variables point to the same object in memory. In general, `is` is faster than `==`, but as they are different checks, care must be taken."
   ]
  },
  {
   "cell_type": "code",
   "execution_count": 36,
   "id": "1db08668",
   "metadata": {},
   "outputs": [
    {
     "name": "stdout",
     "output_type": "stream",
     "text": [
      "[1, 2, 3]\n"
     ]
    }
   ],
   "source": [
    "a = [1, 2, 3]\n",
    "\n",
    "print(a)"
   ]
  },
  {
   "cell_type": "code",
   "execution_count": 37,
   "id": "076e7472",
   "metadata": {},
   "outputs": [
    {
     "name": "stdout",
     "output_type": "stream",
     "text": [
      "[1, 2, 3]\n"
     ]
    }
   ],
   "source": [
    "b = a\n",
    "\n",
    "print(b)"
   ]
  },
  {
   "cell_type": "code",
   "execution_count": 38,
   "id": "62b38274",
   "metadata": {},
   "outputs": [
    {
     "name": "stdout",
     "output_type": "stream",
     "text": [
      "[1, 2, 3]\n"
     ]
    }
   ],
   "source": [
    "c = list(a)\n",
    "\n",
    "print(c)"
   ]
  },
  {
   "cell_type": "code",
   "execution_count": 39,
   "id": "58c750d5",
   "metadata": {},
   "outputs": [
    {
     "data": {
      "text/plain": [
       "True"
      ]
     },
     "execution_count": 39,
     "metadata": {},
     "output_type": "execute_result"
    }
   ],
   "source": [
    "a is b"
   ]
  },
  {
   "cell_type": "code",
   "execution_count": 40,
   "id": "af8367a4",
   "metadata": {},
   "outputs": [
    {
     "data": {
      "text/plain": [
       "True"
      ]
     },
     "execution_count": 40,
     "metadata": {},
     "output_type": "execute_result"
    }
   ],
   "source": [
    "a == b"
   ]
  },
  {
   "cell_type": "code",
   "execution_count": 41,
   "id": "9645f8fa",
   "metadata": {},
   "outputs": [
    {
     "data": {
      "text/plain": [
       "True"
      ]
     },
     "execution_count": 41,
     "metadata": {},
     "output_type": "execute_result"
    }
   ],
   "source": [
    "a is not c"
   ]
  },
  {
   "cell_type": "code",
   "execution_count": 42,
   "id": "174414c7",
   "metadata": {},
   "outputs": [
    {
     "data": {
      "text/plain": [
       "False"
      ]
     },
     "execution_count": 42,
     "metadata": {},
     "output_type": "execute_result"
    }
   ],
   "source": [
    "a != c"
   ]
  },
  {
   "cell_type": "code",
   "execution_count": 43,
   "id": "2423f82a",
   "metadata": {},
   "outputs": [
    {
     "data": {
      "text/plain": [
       "True"
      ]
     },
     "execution_count": 43,
     "metadata": {},
     "output_type": "execute_result"
    }
   ],
   "source": [
    "a = None\n",
    "\n",
    "a is None"
   ]
  },
  {
   "cell_type": "code",
   "execution_count": 44,
   "id": "2ae2e97a",
   "metadata": {},
   "outputs": [
    {
     "name": "stdout",
     "output_type": "stream",
     "text": [
      "toyota\n",
      "TOYOTA\n"
     ]
    }
   ],
   "source": [
    "car = 'toyota'\n",
    "Car = car.upper()\n",
    "\n",
    "print(car)\n",
    "print(Car)"
   ]
  },
  {
   "cell_type": "code",
   "execution_count": 45,
   "id": "c6b18583",
   "metadata": {},
   "outputs": [
    {
     "data": {
      "text/plain": [
       "False"
      ]
     },
     "execution_count": 45,
     "metadata": {},
     "output_type": "execute_result"
    }
   ],
   "source": [
    "car == Car"
   ]
  },
  {
   "cell_type": "code",
   "execution_count": 46,
   "id": "d33f94ad",
   "metadata": {},
   "outputs": [
    {
     "data": {
      "text/plain": [
       "True"
      ]
     },
     "execution_count": 46,
     "metadata": {},
     "output_type": "execute_result"
    }
   ],
   "source": [
    "car == 'toyota'"
   ]
  },
  {
   "cell_type": "code",
   "execution_count": 47,
   "id": "1a28de75",
   "metadata": {},
   "outputs": [
    {
     "data": {
      "text/plain": [
       "True"
      ]
     },
     "execution_count": 47,
     "metadata": {},
     "output_type": "execute_result"
    }
   ],
   "source": [
    "car != 'ford'"
   ]
  },
  {
   "cell_type": "code",
   "execution_count": 48,
   "id": "b0c961a8",
   "metadata": {},
   "outputs": [
    {
     "data": {
      "text/plain": [
       "True"
      ]
     },
     "execution_count": 48,
     "metadata": {},
     "output_type": "execute_result"
    }
   ],
   "source": [
    "age_0 = 21\n",
    "age_1 = 42\n",
    "\n",
    "age_0 >= 18 and age_1 >= 21    # We can also check multiple conditions"
   ]
  },
  {
   "cell_type": "code",
   "execution_count": 49,
   "id": "37ca4b36",
   "metadata": {},
   "outputs": [
    {
     "data": {
      "text/plain": [
       "True"
      ]
     },
     "execution_count": 49,
     "metadata": {},
     "output_type": "execute_result"
    }
   ],
   "source": [
    "discworld = ['Death', 'Rincewind', 'The Luggage', 'The Librarian', 'Granny Weatherwax', 'sam vimes']\n",
    "\n",
    "'Death' in discworld"
   ]
  },
  {
   "cell_type": "markdown",
   "id": "8f290cbb",
   "metadata": {},
   "source": [
    "As a final comment, we consider _mutable_ and _immutable_ objects. Most objects in Python, such as lists, dictionaries, NumPy arrays, most user-defined types (classes), are mutable. This means that the object or values that they contain can be modified.However, other objects, like strings and tuples, are immutable, they cannot be modified."
   ]
  },
  {
   "cell_type": "code",
   "execution_count": 50,
   "id": "009a038f",
   "metadata": {},
   "outputs": [
    {
     "name": "stdout",
     "output_type": "stream",
     "text": [
      "['abc', 2, [3, 4, 5]]\n",
      "['abc', 2, (3, 4)]\n"
     ]
    }
   ],
   "source": [
    "a_list = ['abc', 2, [3, 4, 5]]\n",
    "print(a_list)\n",
    "\n",
    "a_list[2] = (3, 4)\n",
    "print(a_list)"
   ]
  },
  {
   "cell_type": "code",
   "execution_count": 51,
   "id": "02a2343f",
   "metadata": {},
   "outputs": [
    {
     "ename": "TypeError",
     "evalue": "'tuple' object does not support item assignment",
     "output_type": "error",
     "traceback": [
      "\u001b[1;31m---------------------------------------------------------------------------\u001b[0m",
      "\u001b[1;31mTypeError\u001b[0m                                 Traceback (most recent call last)",
      "\u001b[1;32m~\\AppData\\Local\\Temp\\ipykernel_9908\\2837103695.py\u001b[0m in \u001b[0;36m<module>\u001b[1;34m\u001b[0m\n\u001b[0;32m      1\u001b[0m \u001b[0ma_tuple\u001b[0m \u001b[1;33m=\u001b[0m \u001b[1;33m(\u001b[0m\u001b[1;36m3\u001b[0m\u001b[1;33m,\u001b[0m \u001b[1;36m5\u001b[0m\u001b[1;33m,\u001b[0m \u001b[1;33m(\u001b[0m\u001b[1;36m4\u001b[0m\u001b[1;33m,\u001b[0m \u001b[1;36m5\u001b[0m\u001b[1;33m)\u001b[0m\u001b[1;33m)\u001b[0m\u001b[1;33m\u001b[0m\u001b[1;33m\u001b[0m\u001b[0m\n\u001b[0;32m      2\u001b[0m \u001b[1;33m\u001b[0m\u001b[0m\n\u001b[1;32m----> 3\u001b[1;33m \u001b[0ma_tuple\u001b[0m\u001b[1;33m[\u001b[0m\u001b[1;36m1\u001b[0m\u001b[1;33m]\u001b[0m \u001b[1;33m=\u001b[0m \u001b[1;34m'four'\u001b[0m\u001b[1;33m\u001b[0m\u001b[1;33m\u001b[0m\u001b[0m\n\u001b[0m",
      "\u001b[1;31mTypeError\u001b[0m: 'tuple' object does not support item assignment"
     ]
    }
   ],
   "source": [
    "a_tuple = (3, 5, (4, 5))\n",
    "\n",
    "a_tuple[1] = 'four'"
   ]
  },
  {
   "cell_type": "code",
   "execution_count": 52,
   "id": "94cc7c9d",
   "metadata": {},
   "outputs": [
    {
     "ename": "TypeError",
     "evalue": "'str' object does not support item assignment",
     "output_type": "error",
     "traceback": [
      "\u001b[1;31m---------------------------------------------------------------------------\u001b[0m",
      "\u001b[1;31mTypeError\u001b[0m                                 Traceback (most recent call last)",
      "\u001b[1;32m~\\AppData\\Local\\Temp\\ipykernel_9908\\3724105449.py\u001b[0m in \u001b[0;36m<module>\u001b[1;34m\u001b[0m\n\u001b[0;32m      1\u001b[0m \u001b[0ma\u001b[0m \u001b[1;33m=\u001b[0m \u001b[1;34m'this is a string'\u001b[0m\u001b[1;33m\u001b[0m\u001b[1;33m\u001b[0m\u001b[0m\n\u001b[1;32m----> 2\u001b[1;33m \u001b[0ma\u001b[0m\u001b[1;33m[\u001b[0m\u001b[1;36m9\u001b[0m\u001b[1;33m]\u001b[0m \u001b[1;33m=\u001b[0m \u001b[1;34m'f'\u001b[0m\u001b[1;33m\u001b[0m\u001b[1;33m\u001b[0m\u001b[0m\n\u001b[0m",
      "\u001b[1;31mTypeError\u001b[0m: 'str' object does not support item assignment"
     ]
    }
   ],
   "source": [
    "a = 'this is a string'\n",
    "a[9] = 'f'"
   ]
  },
  {
   "cell_type": "code",
   "execution_count": 53,
   "id": "45052d6a",
   "metadata": {},
   "outputs": [
    {
     "name": "stdout",
     "output_type": "stream",
     "text": [
      "this is a string\n",
      "this is a longer string\n"
     ]
    }
   ],
   "source": [
    "b = a.replace('string', 'longer string')    # Bypass the problem of mutability by creating another variable\n",
    "print(a)\n",
    "print(b)"
   ]
  },
  {
   "cell_type": "markdown",
   "id": "d42cc8d3",
   "metadata": {},
   "source": [
    "Of course, just because we _can_ mutate an object, does not mean we _should_. Such actions are known as _side effects_. For example, when writing a function (coming soon), any side effects should be explicitly communicated to the user in the function's documentation or comments. If possible, try to avoid side effects and favour immutability, even when mutable objects are involved."
   ]
  },
  {
   "cell_type": "markdown",
   "id": "7c1b1672",
   "metadata": {},
   "source": [
    "__Exercise__\n",
    "- Write a series of conditional tests. Print a statement describing each test and your prediction for the results of each test. Your code should look something like the following:\n",
    "\n",
    "` car = toyota`\n",
    "\n",
    "`print(\"Is car == 'ford'? I predict False.\")`\n",
    "\n",
    "`print(car == 'ford')`\n",
    "\n",
    "\n",
    "`print(\"\\nIs car == 'toyota'?  predict True.\")`\n",
    "\n",
    "`print(car == 'toyota')`\n",
    "- Look closely at the results and make sure you understand why each line evaluates to `True` or `False`.\n",
    "- Create at least ten tests with at least five evaluating to `True`. Try to include methods like `.lower()`, and include tests with strings, tests with numbers and tests with lists."
   ]
  },
  {
   "cell_type": "markdown",
   "id": "d2f1d730",
   "metadata": {},
   "source": [
    "## 1.4 Functions and Object Method Calls\n",
    "\n",
    "Functions are simply named blocks of code which are designed to perform a specific task. We then _call_ the function to actually perform this task. These are useful for blocks of code you expect to have to repeat several times throughout your programme. By containing this code in a function, not only will you save time but will also make your code more readable and easier to fix or alter."
   ]
  },
  {
   "cell_type": "code",
   "execution_count": 54,
   "id": "f10ee207",
   "metadata": {},
   "outputs": [],
   "source": [
    "# Simple example\n",
    "\n",
    "def greet_user():\n",
    "    \"\"\"Display a simple greeting.\"\"\"\n",
    "    print('Hello, user!')"
   ]
  },
  {
   "cell_type": "code",
   "execution_count": 55,
   "id": "cc3bc859",
   "metadata": {},
   "outputs": [
    {
     "name": "stdout",
     "output_type": "stream",
     "text": [
      "Hello, user!\n"
     ]
    }
   ],
   "source": [
    "greet_user()"
   ]
  },
  {
   "cell_type": "code",
   "execution_count": 56,
   "id": "e71b3bc8",
   "metadata": {},
   "outputs": [],
   "source": [
    "# Improve our function\n",
    "\n",
    "def greet_user2(name):\n",
    "    \"\"\"Display a simple greeting with a name.\"\"\"\n",
    "    print(f'Hello, {name.title()}!')"
   ]
  },
  {
   "cell_type": "code",
   "execution_count": 57,
   "id": "7ac4ab84",
   "metadata": {},
   "outputs": [
    {
     "name": "stdout",
     "output_type": "stream",
     "text": [
      "Hello, John!\n"
     ]
    }
   ],
   "source": [
    "greet_user2('john')"
   ]
  },
  {
   "cell_type": "markdown",
   "id": "4f006107",
   "metadata": {},
   "source": [
    "The above examples demonstrate the simplest structure of a function. First, we use the keyword `def` to tell Python we wish to define a function. We then give the function name and, if applicable, the information required for the function to do its job (in the first example, no information was required, while the second example needed a string to be input). This information is fed to the function inside parentheses. Finally (on the first line), we use a colon to signify the end of this step of the process.\n",
    "\n",
    "Any indented lines which follow `def function_name():` will make up the body of the function. This involves all the code that we want to run when the function is called. The exception is what we enclosed in triple quotes. Inside these is what we call a _docstring_ and it is used to describe what the function does. Python looks for this when it generates documentation for the function."
   ]
  },
  {
   "cell_type": "code",
   "execution_count": 58,
   "id": "e7002218",
   "metadata": {},
   "outputs": [
    {
     "name": "stdout",
     "output_type": "stream",
     "text": [
      "Display a simple greeting.\n"
     ]
    }
   ],
   "source": [
    "print(greet_user.__doc__)"
   ]
  },
  {
   "cell_type": "markdown",
   "id": "50ed53f0",
   "metadata": {},
   "source": [
    "The variable `name` in the definition of `greet_user2` is an example of a _paramter_. As we have said, this is a piece of information that the function needs to do its job. The value (`'john'`) we then fed to `greet_user2` is what we call an argument. An argument is a piece of information that is passed from a function call to a function. When we do so, we assign the argument to the parameter and the function will execute the code.\n",
    "\n",
    "If we have two or more parameters then we can feed the arguments in the same order as the parameters (i.e. first argument is assigned to first parameter, second argument to second parameter, and so on). These are called _positional arguments_ since their position matters.\n",
    "\n",
    "An alternative approach is to use _keyword arguments_, where each argument consists of a variable name and a value. Here, we have a name-value pair that we pass to a function. As opposed to positional arguments, this time we directly associate the name and the value within the argument, so when we pass the argument to the fucntion, there is no confusion (with positional arguments, it is easy to mix up the order). In this way, we no longer have to worry about correctly ordering our arguments when we call a function."
   ]
  },
  {
   "cell_type": "code",
   "execution_count": 59,
   "id": "9d9fd048",
   "metadata": {},
   "outputs": [],
   "source": [
    "# Use positional arguments\n",
    "\n",
    "def greet_user3(name_1,name_2):\n",
    "    \"\"\"Display a simple greeting with two names.\"\"\"\n",
    "    print(f'Hello, {name_1.title()} and {name_2.title()}!')"
   ]
  },
  {
   "cell_type": "code",
   "execution_count": 60,
   "id": "6078a7ab",
   "metadata": {},
   "outputs": [
    {
     "name": "stdout",
     "output_type": "stream",
     "text": [
      "Hello, John and Vani!\n"
     ]
    }
   ],
   "source": [
    "greet_user3('john','vani')"
   ]
  },
  {
   "cell_type": "code",
   "execution_count": 61,
   "id": "4889c702",
   "metadata": {},
   "outputs": [
    {
     "name": "stdout",
     "output_type": "stream",
     "text": [
      "\n",
      "I have a dog.\n",
      "My dog's name is Emmy.\n"
     ]
    }
   ],
   "source": [
    "# Use keyword arguments\n",
    "\n",
    "def describe_pet(animal_type, pet_name):\n",
    "    \"\"\"Display information about a pet.\"\"\"\n",
    "    print(f\"\\nI have a {animal_type}.\")\n",
    "    print(f\"My {animal_type}'s name is {pet_name.title()}.\")\n",
    "          \n",
    "describe_pet(animal_type='dog', pet_name='emmy')"
   ]
  },
  {
   "cell_type": "markdown",
   "id": "a6a2d74c",
   "metadata": {},
   "source": [
    "The only part that matters is when we call the function. The difference between positional and keyword arguments does not affect the construction of the function in any way.\n",
    "\n",
    "We can also define _default values_ for each parameter. If an argument for a parameter is provided in the function call, Python uses the argument value. If not, it uses the parameter's default value. So, when we define a default value for a parameter, we can exclude the corresponding argument we would usually write in the function call. Using default values can simplify our function calls, but we must be careful with ordering. Default values should come last as if they did not, we would overwrite the default values with the passed arguments."
   ]
  },
  {
   "cell_type": "code",
   "execution_count": 62,
   "id": "8dfbf062",
   "metadata": {},
   "outputs": [
    {
     "name": "stdout",
     "output_type": "stream",
     "text": [
      "\n",
      "I have a dog.\n",
      "My dog's name is Emmy.\n"
     ]
    }
   ],
   "source": [
    "# Use default values\n",
    "\n",
    "def describe_pet(pet_name, animal_type='dog'):\n",
    "    \"\"\"Display information about a pet. Default animal type is a dog\"\"\"\n",
    "    print(f\"\\nI have a {animal_type}.\")\n",
    "    print(f\"My {animal_type}'s name is {pet_name.title()}.\")\n",
    "          \n",
    "describe_pet('emmy')"
   ]
  },
  {
   "cell_type": "code",
   "execution_count": 63,
   "id": "e211ca3c",
   "metadata": {},
   "outputs": [
    {
     "name": "stdout",
     "output_type": "stream",
     "text": [
      "\n",
      "I have a cat.\n",
      "My cat's name is Gauss.\n"
     ]
    }
   ],
   "source": [
    "describe_pet('Gauss', 'cat')"
   ]
  },
  {
   "cell_type": "markdown",
   "id": "a7c4401c",
   "metadata": {},
   "source": [
    "Objects in Python typically have both attributes (other Python objects stored 'inside' the object) and methods (functions associated with an object that can have access to the object's internal data). Both of them are accessed via the syntax `obj.attribute_name`.\n",
    "\n",
    "Try typing `a.<Tab>` for some variable `a`.\n",
    "\n",
    "Often, we do not care about the type of an object, instead only only caring about whether it has certain methods or behaviour. This is sometimes called _duck typing_ after the saying 'If it walks like a duck, quacks like a duck, then it's a duck.' For example, suppose we want to verify if an object is iterable. For many objects, this means it has a `__iter__` _magic method_, though an alternative and better way to check is to try using the `iter` function."
   ]
  },
  {
   "cell_type": "code",
   "execution_count": 64,
   "id": "bc10a3e3",
   "metadata": {},
   "outputs": [
    {
     "data": {
      "text/plain": [
       "True"
      ]
     },
     "execution_count": 64,
     "metadata": {},
     "output_type": "execute_result"
    }
   ],
   "source": [
    "def isiterable(obj):\n",
    "    try:\n",
    "        iter(obj)\n",
    "        return True\n",
    "    except TypeError: # not iterable\n",
    "        return False\n",
    "    \n",
    "isiterable('a string')"
   ]
  },
  {
   "cell_type": "code",
   "execution_count": 65,
   "id": "77ded7ee",
   "metadata": {},
   "outputs": [
    {
     "data": {
      "text/plain": [
       "True"
      ]
     },
     "execution_count": 65,
     "metadata": {},
     "output_type": "execute_result"
    }
   ],
   "source": [
    "isiterable([1, 2, 3])"
   ]
  },
  {
   "cell_type": "code",
   "execution_count": 66,
   "id": "76874755",
   "metadata": {},
   "outputs": [
    {
     "data": {
      "text/plain": [
       "False"
      ]
     },
     "execution_count": 66,
     "metadata": {},
     "output_type": "execute_result"
    }
   ],
   "source": [
    "isiterable(5)"
   ]
  },
  {
   "cell_type": "markdown",
   "id": "f3cca62b",
   "metadata": {},
   "source": [
    "This can often be used when writing functions that can accept multiple kinds of input. For example, consider a function that can accept any kind of sequence (`list`, `tuple`, `ndarray`), or even an iterator. We can first check if the object is a list (or a NumPy array) and, if not, convert it to be one."
   ]
  },
  {
   "cell_type": "markdown",
   "id": "b5065efc",
   "metadata": {},
   "source": [
    "__Exercises__\n",
    "- Write a function called _favourite\\_book()_ which accepts one parameter, `title`. The function should then print a message saying their favourite book is whatever title is fed into the function. Next, alter your function so that it accepts two parameters, `title` and `author`. Alter your function accordingly.\n",
    "- Write a function called _describe\\_city()_ that accepts the name of a city and its country. The function should then print a simple sentence saying what the city is and which country it is in. Then, give the country parameter a default value. Cal the function a few different times with different cities.\n",
    "- Explore how to make an argument optional."
   ]
  },
  {
   "cell_type": "markdown",
   "id": "bd2c2644",
   "metadata": {},
   "source": [
    "## 1.5 Control Flow \n",
    "\n",
    "Python has several built-in keywords for conditional logic, loops and other control flow concepts found in other programming languages. The three main keywords are `if`, `for` and `while`. We will briefly discuss each of these.\n",
    "\n",
    "### 1.5.1 for loops\n",
    "\n",
    "When working with lists (or other list-type objects), we often want to run through all entires, performing the same task with each item. There are two main loops: `for` loops and `while` loops. Over the next two subsections we will describe each. First, we consider `for` loops. These are useful when we want to do the same action with every item in a list. As might be expected, `for` loops are among the most common ways of automating repetitive tasks."
   ]
  },
  {
   "cell_type": "code",
   "execution_count": 67,
   "id": "fb06e61a",
   "metadata": {},
   "outputs": [
    {
     "name": "stdout",
     "output_type": "stream",
     "text": [
      "0\n",
      "1\n",
      "4\n",
      "9\n",
      "16\n",
      "25\n",
      "36\n",
      "49\n",
      "64\n",
      "81\n"
     ]
    }
   ],
   "source": [
    "for i in range(10):\n",
    "    a = i**2\n",
    "    print(a)"
   ]
  },
  {
   "cell_type": "markdown",
   "id": "e19980dc",
   "metadata": {},
   "source": [
    "In the above, we have greated a list with 10 elements, starting from 0 and increasing by 1 each time. We use `for` to start the for loop. This tells Python to pull a number from the list and associate it with the variable `i` (we can call it anything we like, apart from reserved names of course). Python then squares this number and prints the output. Python does this until it reaches the end of the list. It might help to read code as, \"Square every number in the list of integers from 0 to 9, printing the square as you go.\"\n",
    "\n",
    "As with functions, a `for` loop makes use of a colon and indentations to separate the code from the rest of the programme. It is also worth keeping in mind that the set of steps is repeated once for each item in the list, no matter how many items are in that list. If we have a million items, then Python repeats each step one million times. Depending on the code in the step, this is usually quite quick, but this is something which should be kept in mind."
   ]
  },
  {
   "cell_type": "markdown",
   "id": "1fd530ba",
   "metadata": {},
   "source": [
    "We can iterate over any object that is iterable. For example, we might have a dictionary representing people's names and ages. We can then loop over this."
   ]
  },
  {
   "cell_type": "code",
   "execution_count": 68,
   "id": "70e2498a",
   "metadata": {},
   "outputs": [
    {
     "name": "stdout",
     "output_type": "stream",
     "text": [
      "Tom is 23 years old.\n",
      "Dick is 75 years old.\n",
      "Harry is 41 years old.\n"
     ]
    }
   ],
   "source": [
    "age_dict = {'tom': 23, 'dick': 75, 'harry': 41}\n",
    "\n",
    "for name in age_dict.keys():\n",
    "    print(f\"{name.title()} is {age_dict[name]} years old.\")"
   ]
  },
  {
   "cell_type": "markdown",
   "id": "390fdf1a",
   "metadata": {},
   "source": [
    "__Exercises:__\n",
    "- Try creating a `for` loop but 'forget' to indent your code. Similarly, try indenting a piece of your code which does not require indentation. Finally, try 'forgetting' to type the colon when creating a `for` loop.\n",
    "- Think of at least three different animals that have a common characteristic. Store the names of these animals in a list and then use a `for` loop to print out the name of each animal. Next, modify your programme to also print out a statement about each animal. Finally, add in a line at the end of your programme (not part of the `for` loop) stating what these animals have in common.\n",
    "- Use a `for` loop to print the numbers from 1 to 20.\n",
    "- Create a list of the numbers from one to one million and then use a `for` loop to print the numbers. If the output takes too long, stop it by pressing CTRL+C or by closing the output window."
   ]
  },
  {
   "cell_type": "markdown",
   "id": "83b947d4",
   "metadata": {},
   "source": [
    "### 1.5.3 While loops\n",
    "\n",
    "Whereas the `for` loop takes a collection of items and executes a block of code once for each item in that collection, a `while` loop will instead run as long as a certain condition is true. The actual construction is very similar, i.e. we use a colon and indentation as usual. However, for a `while` loop, we just feed it a condition which is checked each time it passes through the loop.\n",
    "\n",
    "Suppose we want to calculate a sequence of values $2^n$ and carry on going until $2^n>65536$. We can do this as follows:"
   ]
  },
  {
   "cell_type": "code",
   "execution_count": 69,
   "id": "43f4eaad",
   "metadata": {},
   "outputs": [
    {
     "name": "stdout",
     "output_type": "stream",
     "text": [
      "0 1\n",
      "1 2\n",
      "2 4\n",
      "3 8\n",
      "4 16\n",
      "5 32\n",
      "6 64\n",
      "7 128\n",
      "8 256\n",
      "9 512\n",
      "10 1024\n",
      "11 2048\n",
      "12 4096\n",
      "13 8192\n",
      "14 16384\n",
      "15 32768\n",
      "16 65536\n"
     ]
    }
   ],
   "source": [
    "n = 0\n",
    "\n",
    "while 2**n <= 65536:\n",
    "    print (n, 2**n)\n",
    "    # Increase the value of n by 1\n",
    "    n+=1"
   ]
  },
  {
   "cell_type": "markdown",
   "id": "131cee1e",
   "metadata": {},
   "source": [
    "In general, loops can be quite inefficient. As a general rule of thumb, we should try to avoid loops if possible. We will see some ways to do this later."
   ]
  },
  {
   "cell_type": "markdown",
   "id": "5ec4afa0",
   "metadata": {},
   "source": [
    "__Exercise:__\n",
    "- Write four loops, two of which should use a `for` loop and two a `while` loop. Could you alter any of your loops to use the other kind of loop (e.g. write your `for` loop using a `while` loop, and vice versa)?"
   ]
  },
  {
   "cell_type": "markdown",
   "id": "7bfcf9f1",
   "metadata": {},
   "source": [
    "### 1.5.3 if, elif and else\n",
    "\n",
    "Programming often involves examining a set of conditions and deciding which action to take based on those conditions. Python allows us to examine the current state of a programme and respond appropriately using an `if` statement. We start with a simple example."
   ]
  },
  {
   "cell_type": "code",
   "execution_count": 70,
   "id": "7ea7d161",
   "metadata": {},
   "outputs": [
    {
     "name": "stdout",
     "output_type": "stream",
     "text": [
      "Death is probably my favourite character.\n",
      "Rincewind is pretty great too, though.\n",
      "The Luggage is pretty great too, though.\n",
      "The Librarian is pretty great too, though.\n",
      "Death may be my favourite character, but Granny Weatherwax is pretty awesome too.\n",
      "Death may be my favourite character, but Sam Vimes is pretty awesome too.\n"
     ]
    }
   ],
   "source": [
    "discworld = ['Death', 'Rincewind', 'The Luggage', 'The Librarian', 'Granny Weatherwax', 'sam vimes']\n",
    "\n",
    "for char in discworld:\n",
    "    if char.lower() == 'death':\n",
    "        print('Death is probably my favourite character.')\n",
    "    elif char.lower() == 'sam vimes':\n",
    "        print('Death may be my favourite character, but Sam Vimes is pretty awesome too.')\n",
    "    elif char.lower() == 'granny weatherwax':\n",
    "        print('Death may be my favourite character, but Granny Weatherwax is pretty awesome too.')\n",
    "    else:\n",
    "        print(f'{char} is pretty great too, though.')"
   ]
  },
  {
   "cell_type": "markdown",
   "id": "48475ebf",
   "metadata": {},
   "source": [
    "The loop in this example first checks if the current value of `char` is 'death' (note the use of `.lower()`). If it is, the first printed message is printed. If it isn't, it next checks if `char` is 'sam vimes', then 'granny weatherwax', and if all this fails, it prints out the last message.\n",
    "\n",
    "When creating conditional statements, we can use all sorts of logic and comparative code. We could, for example, use AND along with < and > to decide if a number falls within an interval. Or we could use OR to test multiple conditions at once.\n",
    "\n",
    "Note that Python stops checking once one of the _conditional tests_ come back `True`. In other words, if two conditional statements are true, only the first one will run. Care must be taken as this can lead to errors in our code if we are careless."
   ]
  },
  {
   "cell_type": "code",
   "execution_count": 71,
   "id": "6b148556",
   "metadata": {},
   "outputs": [
    {
     "name": "stdout",
     "output_type": "stream",
     "text": [
      "1\n"
     ]
    }
   ],
   "source": [
    "a = 4\n",
    "b = 3\n",
    "\n",
    "if a < 2:\n",
    "    print(a+b)\n",
    "elif a > 2:\n",
    "    print(a-b)\n",
    "elif a == 4:\n",
    "    print(a/b)"
   ]
  },
  {
   "cell_type": "markdown",
   "id": "578bf15f",
   "metadata": {},
   "source": [
    "Note how we can use multiple `elif` blocks and do not need to use `else` at all if we do not want to."
   ]
  },
  {
   "cell_type": "code",
   "execution_count": 72,
   "id": "49c85d2b",
   "metadata": {},
   "outputs": [
    {
     "name": "stdout",
     "output_type": "stream",
     "text": [
      "It is positive and greater than or equal to five.\n"
     ]
    }
   ],
   "source": [
    "x = 12.5\n",
    "\n",
    "if x < 0:\n",
    "    print(\"It's negative.\")\n",
    "elif x == 0:\n",
    "    print(\"It is equal to zero.\")\n",
    "elif 0 < x < 5:\n",
    "    print(\"It is positive but smaller than five.\")\n",
    "else:\n",
    "    print(\"It is positive and greater than or equal to five.\")"
   ]
  },
  {
   "cell_type": "markdown",
   "id": "b02f0e9a",
   "metadata": {},
   "source": [
    "__Exercise:__ Make the above into a function."
   ]
  },
  {
   "cell_type": "markdown",
   "id": "a88624bb",
   "metadata": {},
   "source": [
    "We can advance a `for` loop to the next iteration, skipping the remainder of the block, using an `if` statement and, importantly, the `continue` keyword. Consider the code which sums up integers in a list and skips `None` values."
   ]
  },
  {
   "cell_type": "code",
   "execution_count": 73,
   "id": "bb37d9de",
   "metadata": {},
   "outputs": [
    {
     "name": "stdout",
     "output_type": "stream",
     "text": [
      "45\n"
     ]
    }
   ],
   "source": [
    "sequence = [1, 2, 3, 4, None, 5, 6, 7, None, 8, 9]\n",
    "total = 0\n",
    "\n",
    "for value in sequence:\n",
    "    if value is None:\n",
    "        continue\n",
    "    total +=value\n",
    "    \n",
    "print(total)"
   ]
  },
  {
   "cell_type": "markdown",
   "id": "f0a2f951",
   "metadata": {},
   "source": [
    "A `for` loop can be exited altogether with the `break` keyword. This only terminates the innermost `for` loop, so if we have a `for` loop within a `for` loop, and use `break` for the innermost loop, then the outer loop will continue to run."
   ]
  },
  {
   "cell_type": "code",
   "execution_count": 74,
   "id": "64818f7f",
   "metadata": {},
   "outputs": [
    {
     "name": "stdout",
     "output_type": "stream",
     "text": [
      "10\n"
     ]
    }
   ],
   "source": [
    "sequence = [1, 2, 3, 4, None, 5, 6, 7, None, 8, 9]\n",
    "total = 0\n",
    "\n",
    "for value in sequence:\n",
    "    if value is None:\n",
    "        continue\n",
    "    elif value == 5:\n",
    "        break\n",
    "    total +=value\n",
    "    \n",
    "print(total)"
   ]
  },
  {
   "cell_type": "code",
   "execution_count": 75,
   "id": "2047167e",
   "metadata": {},
   "outputs": [
    {
     "name": "stdout",
     "output_type": "stream",
     "text": [
      "(0, 0)\n",
      "(1, 0)\n",
      "(1, 1)\n",
      "(2, 0)\n",
      "(2, 1)\n",
      "(2, 2)\n",
      "(3, 0)\n",
      "(3, 1)\n",
      "(3, 2)\n",
      "(3, 3)\n"
     ]
    }
   ],
   "source": [
    "for i in range(4):\n",
    "    for j in range(4):\n",
    "        if j > i:\n",
    "            break\n",
    "        print((i,j))"
   ]
  },
  {
   "cell_type": "markdown",
   "id": "fa9800a8",
   "metadata": {},
   "source": [
    "__Exercises:__\n",
    "- Suppose we are creating a video game in which we shoot down aliens. Create a variable called `alien_colour` and assign it a value of `red`, `white` or `blue`. Write an `if` statement to test whether the alien's colour is `white`. If it is, print a message saying the player just earned 5 points. Then modify your code so that if the alien's colour is blue the code prints a message saying the player just earned 10 points, and if the alien's colour is red then the player earned 20 points. Write three versions of this code, each making different use of an if, elif, else chain.\n",
    "- Write an if, elif, else chain that determines a person's stage of life. Set a value for the variable age and then print a message saying the person is a baby if they are less than 2 years old, a toddler if they are less than 4 but at least 2 years old, and so on. You should have at least 6 different conditional statements to check."
   ]
  },
  {
   "cell_type": "markdown",
   "id": "496916af",
   "metadata": {},
   "source": [
    "## 1.6 Magic methods\n",
    "\n",
    "There are enhancements that IPython adds on top of the normal Python syntax which are known as _magic commands_ and are prefixed by the % character. These commands are designed to succinctly solve various common problems in standard data analysis. They come in two flavours: _line magics_, which are denoted by a single % prefix and operate on a single line of input, and _cell magics_, which are denoted by a doublt %% prefix and operate on multiple lines of input.\n",
    "\n",
    "### 1.6.1 %run\n",
    "\n",
    "As we begin to develop more extensive code, we will find ourselves working in IPython for interactive exploration, as well as a text editor to store code that we want to reuse. Rather than running this code in a new window, it  can be convenient to run it within our IPython session. This can be done with the %run magic command. For example, suppose we have created a file called _myscript.py_ with the following contents:\n",
    "\n",
    "`# file: myscript.py`\n",
    "\n",
    "`def square(x):`\n",
    "\n",
    "    `\"\"\"square a number\"\"\"`\n",
    "\n",
    "    `return x ** 2`\n",
    "\n",
    "\n",
    "`for N in range(1, 4):`\n",
    "\n",
    "    `print(f\"{N} squared is {square(N)}\")`"
   ]
  },
  {
   "cell_type": "code",
   "execution_count": 79,
   "id": "dc6539e0",
   "metadata": {},
   "outputs": [
    {
     "name": "stdout",
     "output_type": "stream",
     "text": [
      "1 squared is 1\n",
      "2 squared is 4\n",
      "3 squared is 9\n"
     ]
    }
   ],
   "source": [
    "%run myscript.py"
   ]
  },
  {
   "cell_type": "code",
   "execution_count": 80,
   "id": "c08e1fcc",
   "metadata": {},
   "outputs": [
    {
     "data": {
      "text/plain": [
       "25"
      ]
     },
     "execution_count": 80,
     "metadata": {},
     "output_type": "execute_result"
    }
   ],
   "source": [
    "# After we have run the script, any functions defined within it are available for use in our IPython session\n",
    "\n",
    "square(5)"
   ]
  },
  {
   "cell_type": "code",
   "execution_count": 81,
   "id": "2fa7eac0",
   "metadata": {},
   "outputs": [],
   "source": [
    "%run?"
   ]
  },
  {
   "cell_type": "markdown",
   "id": "d976d925",
   "metadata": {},
   "source": [
    "There are several options to fine-tune how our code is run. We can see the documentation by typing '`%run?`' in the IPython interpreter."
   ]
  },
  {
   "cell_type": "markdown",
   "id": "94fe88aa",
   "metadata": {},
   "source": [
    "### 1.6.2 %timeit\n",
    "\n",
    "This magic function will automatically determine the execution time of the single-line Python statement that follows it. For example, suppose we want to check the performance of a list comprehension:"
   ]
  },
  {
   "cell_type": "code",
   "execution_count": 82,
   "id": "0b9e1226",
   "metadata": {},
   "outputs": [
    {
     "name": "stdout",
     "output_type": "stream",
     "text": [
      "250 µs ± 11.3 µs per loop (mean ± std. dev. of 7 runs, 1000 loops each)\n"
     ]
    }
   ],
   "source": [
    "%timeit L = [n ** 2 for n in range(1000)]"
   ]
  },
  {
   "cell_type": "markdown",
   "id": "852de8cb",
   "metadata": {},
   "source": [
    "For short commands `%timeit` will automatically perform multiple runs in order to attain more robust results. For multiline statements, adding a second % sign will then turn this into a cell magic that can handle multiple lines of input. For example, below is the equivalent construction with a `for` loop:"
   ]
  },
  {
   "cell_type": "code",
   "execution_count": 83,
   "id": "338951a7",
   "metadata": {},
   "outputs": [
    {
     "name": "stdout",
     "output_type": "stream",
     "text": [
      "308 µs ± 5.74 µs per loop (mean ± std. dev. of 7 runs, 1000 loops each)\n"
     ]
    }
   ],
   "source": [
    "%%timeit\n",
    "L = []\n",
    "for n in range(1000):\n",
    "    L.append(n ** 2)"
   ]
  },
  {
   "cell_type": "markdown",
   "id": "c89a3f65",
   "metadata": {},
   "source": [
    "We notice that list comprehensions are about 15% faster than the equivalent `for` loop construction in this case."
   ]
  },
  {
   "cell_type": "markdown",
   "id": "0ca4586b",
   "metadata": {},
   "source": [
    "Like normal Python functions, IPython functions have docstrings and this useful information can be accessed in the standard manner. For example, to read the documentation for %timeit, we simply type '`%timeit?`'. Documentation for other functions can be similarly accessed. To access a general description of avaialble magic functions, including some examples, we can type '`%magic`'. For a quick and simple list of all available magic functions, type '`%lsmagic`'.\n",
    "\n",
    "As a final note, we can also define our own magic functions, but we will not discuss this here."
   ]
  },
  {
   "cell_type": "markdown",
   "id": "2cc932e1",
   "metadata": {},
   "source": [
    "__Exercises:__\n",
    "- Make a list of the numbers from one to one million, and then use `min()` and `max` to make sure the list actually starts at 1 and ends at 1,000,000 Use the `sum()` function to see how quickly Python adds one million numbers. Compare this with a `for` loop that does the same task.\n",
    "- Read the docstrings for `%run` and `%timeit`."
   ]
  },
  {
   "cell_type": "markdown",
   "id": "3757bc38",
   "metadata": {},
   "source": [
    "## 1.7 Dates and times\n",
    "\n",
    "Python has a built-in `datetime` module which provides `datetime`, `date` and `time` types. The `datetime` type combines the information stored in `date` and `time`, and is the most commonly used."
   ]
  },
  {
   "cell_type": "code",
   "execution_count": 84,
   "id": "5646ac48",
   "metadata": {},
   "outputs": [
    {
     "name": "stdout",
     "output_type": "stream",
     "text": [
      "19\n",
      "28\n"
     ]
    }
   ],
   "source": [
    "from datetime import datetime, date, time\n",
    "\n",
    "dt = datetime(2022, 12, 19, 13, 28, 36)\n",
    "\n",
    "print(dt.day)\n",
    "print(dt.minute)"
   ]
  },
  {
   "cell_type": "code",
   "execution_count": 85,
   "id": "b8267329",
   "metadata": {},
   "outputs": [
    {
     "name": "stdout",
     "output_type": "stream",
     "text": [
      "The date is: 2022-12-19\n",
      "The time is: 13:28:36\n"
     ]
    }
   ],
   "source": [
    "print('The date is:',dt.date())\n",
    "print('The time is:',dt.time())"
   ]
  },
  {
   "cell_type": "code",
   "execution_count": 86,
   "id": "a51d9c85",
   "metadata": {},
   "outputs": [
    {
     "data": {
      "text/plain": [
       "'19/12/2022 13:28'"
      ]
     },
     "execution_count": 86,
     "metadata": {},
     "output_type": "execute_result"
    }
   ],
   "source": [
    "# The strftime method formats a datetime as a string\n",
    "\n",
    "dt.strftime('%d/%m/%Y %H:%M')"
   ]
  },
  {
   "cell_type": "markdown",
   "id": "6297e797",
   "metadata": {},
   "source": [
    "Strings can be converted (parsed) into `datetime` objects with the `strptime` function. A full list of format specifications is as follows:\n",
    "\n",
    "- '%Y' codes for a four-digit year\n",
    "- '%y' codes for a two-digit year\n",
    "- '%m' codes for a two-digit month (i.e. from 01 to 12)\n",
    "- '%d' codes for a two-digit day (i.e. 01 to 31)\n",
    "- '%H' codes for a 24-hour clock\n",
    "- '%I' codes for a 12-hour clock\n",
    "- '%M' codes for a two-digit minute\n",
    "- '%S' codes for second (seconds 60, 61 account for leap seconds)\n",
    "- '%w' codes for weekday as integer (e.g. 0 for Sunday, 1 more Monday etc.)\n",
    "- '%U' codes for week number of the year (i.e. from 00 to 53; Sunday is considered the first day of the week and days before the first Sunday the year are \"Week 0\")\n",
    "- '%W' codes for week number of the year (i.e. from 00 to 53; Monday is considered the first day of the week and days before the first Monday the year are \"Week 0\")\n",
    "- '%F' codes for a shortcut for %Y-%m-%d (e.g. 2022-12-19)\n",
    "- '%D' codes for a shortcut for %m/%d/%y (e.g. 12/18/22)"
   ]
  },
  {
   "cell_type": "markdown",
   "id": "ce0cf5ce",
   "metadata": {},
   "source": [
    "When we are aggregating or otherwise grouping time series data, it will occasionally be useful to replace time fields of a series of `datetimes`, e.g. replacing the minute and second fields with zero."
   ]
  },
  {
   "cell_type": "code",
   "execution_count": 87,
   "id": "e92e91cd",
   "metadata": {},
   "outputs": [
    {
     "data": {
      "text/plain": [
       "datetime.datetime(2022, 12, 19, 13, 0)"
      ]
     },
     "execution_count": 87,
     "metadata": {},
     "output_type": "execute_result"
    }
   ],
   "source": [
    "dt.replace(minute=0,second=0)"
   ]
  },
  {
   "cell_type": "markdown",
   "id": "325a2bf4",
   "metadata": {},
   "source": [
    "Since `datetime.datetime` is an immutable type, methods like these always produce new objects.\n",
    "\n",
    "The difference of two `datetime` objects produces a `datetime.timedelta` type."
   ]
  },
  {
   "cell_type": "code",
   "execution_count": 88,
   "id": "38415530",
   "metadata": {},
   "outputs": [
    {
     "name": "stdout",
     "output_type": "stream",
     "text": [
      "134 days, 19:31:24\n",
      "<class 'datetime.timedelta'>\n"
     ]
    }
   ],
   "source": [
    "dt2 = datetime(2023,5,3,9,0)\n",
    "\n",
    "delta = dt2 - dt\n",
    "print(delta)\n",
    "print(type(delta))"
   ]
  },
  {
   "cell_type": "markdown",
   "id": "665c5418",
   "metadata": {},
   "source": [
    "Adding a `timedelta` to a `datetime` produces a new shifted `datetime`."
   ]
  },
  {
   "cell_type": "code",
   "execution_count": 89,
   "id": "740540e3",
   "metadata": {},
   "outputs": [
    {
     "data": {
      "text/plain": [
       "datetime.datetime(2022, 12, 19, 13, 28, 36)"
      ]
     },
     "execution_count": 89,
     "metadata": {},
     "output_type": "execute_result"
    }
   ],
   "source": [
    "dt"
   ]
  },
  {
   "cell_type": "code",
   "execution_count": 90,
   "id": "c761b71d",
   "metadata": {},
   "outputs": [
    {
     "data": {
      "text/plain": [
       "datetime.datetime(2023, 5, 3, 9, 0)"
      ]
     },
     "execution_count": 90,
     "metadata": {},
     "output_type": "execute_result"
    }
   ],
   "source": [
    "dt + delta"
   ]
  },
  {
   "cell_type": "markdown",
   "id": "e4c1e916",
   "metadata": {},
   "source": [
    "## Summary Problems"
   ]
  },
  {
   "cell_type": "markdown",
   "id": "086e30a5",
   "metadata": {},
   "source": [
    "1. What is 13 to the power of 5?"
   ]
  },
  {
   "cell_type": "markdown",
   "id": "67abb112",
   "metadata": {},
   "source": [
    "2. Split the following string into a list:\n",
    "\n",
    "    `string = \"My name is John.\"`"
   ]
  },
  {
   "cell_type": "markdown",
   "id": "99963c39",
   "metadata": {},
   "source": [
    "3. Suppose we are given the variables:\n",
    "\n",
    "    `planet = \"Earth\"\n",
    "    diameter = 12742`\n",
    "\n",
    "Use the `.format()` method to print the following string:\n",
    "\n",
    "    `The diameter of Earth is 12742 kilometers.`"
   ]
  },
  {
   "cell_type": "markdown",
   "id": "e99ff61d",
   "metadata": {},
   "source": [
    "4. Given the following nested list, use indexing to grab the word \"hello\":\n",
    "\n",
    "`lst = [1,2,[3,4],[5,[6,7,['hello']],8,9],10,42]`"
   ]
  },
  {
   "cell_type": "markdown",
   "id": "9210dda4",
   "metadata": {},
   "source": [
    "5. Given the following nested dictionary grab the word \"hello\":\n",
    "    \n",
    "`d = {'k1':[1,2,3,{'four':['five','six','seven',{'eight':[9,10,11,'hello']}]}]}`"
   ]
  },
  {
   "cell_type": "markdown",
   "id": "d995e1b2",
   "metadata": {},
   "source": [
    "6. What is the main difference between a tuple and a list?"
   ]
  },
  {
   "cell_type": "markdown",
   "id": "12a58574",
   "metadata": {},
   "source": [
    "7. Create a function that will grab the email website domain from a string in the form: `user@domain.com`."
   ]
  },
  {
   "cell_type": "markdown",
   "id": "8f9b3385",
   "metadata": {},
   "source": [
    "8. Create a function that returns False if the word 'data' is not contained in an input string. If 'data' is contained in the input string, return the number of times it is mentioned."
   ]
  },
  {
   "cell_type": "code",
   "execution_count": null,
   "id": "f520df24",
   "metadata": {},
   "outputs": [],
   "source": []
  },
  {
   "cell_type": "code",
   "execution_count": null,
   "id": "e377b5c4",
   "metadata": {},
   "outputs": [],
   "source": []
  },
  {
   "cell_type": "code",
   "execution_count": null,
   "id": "97f6aebd",
   "metadata": {},
   "outputs": [],
   "source": []
  },
  {
   "cell_type": "code",
   "execution_count": null,
   "id": "57a4a0e7",
   "metadata": {},
   "outputs": [],
   "source": []
  },
  {
   "cell_type": "code",
   "execution_count": null,
   "id": "1e7e1880",
   "metadata": {},
   "outputs": [],
   "source": []
  },
  {
   "cell_type": "code",
   "execution_count": null,
   "id": "9feea224",
   "metadata": {},
   "outputs": [],
   "source": []
  },
  {
   "cell_type": "markdown",
   "id": "804fb734",
   "metadata": {},
   "source": [
    "## Summary Problems - Solutions"
   ]
  },
  {
   "cell_type": "markdown",
   "id": "2fc60f8a",
   "metadata": {},
   "source": [
    "What is 13 to the power of 5?"
   ]
  },
  {
   "cell_type": "code",
   "execution_count": 91,
   "id": "e74c799f",
   "metadata": {},
   "outputs": [
    {
     "name": "stdout",
     "output_type": "stream",
     "text": [
      "371293\n",
      "371293\n"
     ]
    }
   ],
   "source": [
    "print(13 * 13 * 13 * 13 * 13)   # One option\n",
    "\n",
    "print(13 ** 5)                  # A better option"
   ]
  },
  {
   "cell_type": "markdown",
   "id": "9a7bbc0f",
   "metadata": {},
   "source": [
    "2. Split the following string into a list:\n",
    "\n",
    "    `string = \"My name is John.\"`"
   ]
  },
  {
   "cell_type": "code",
   "execution_count": 92,
   "id": "fc0685a7",
   "metadata": {},
   "outputs": [],
   "source": [
    "string = \"My name is John.\""
   ]
  },
  {
   "cell_type": "code",
   "execution_count": 93,
   "id": "6126bf86",
   "metadata": {},
   "outputs": [
    {
     "data": {
      "text/plain": [
       "['My', 'name', 'is', 'John.']"
      ]
     },
     "execution_count": 93,
     "metadata": {},
     "output_type": "execute_result"
    }
   ],
   "source": [
    "string.split()"
   ]
  },
  {
   "cell_type": "markdown",
   "id": "2c9b812c",
   "metadata": {},
   "source": [
    "3. Suppose we are given the variables:\n",
    "\n",
    "    `planet = \"Earth\"\n",
    "    diameter = 12742`\n",
    "\n",
    "Use the `.format()` method to print the following string:\n",
    "\n",
    "    `The diameter of Earth is 12742 kilometers.`"
   ]
  },
  {
   "cell_type": "code",
   "execution_count": 94,
   "id": "d5a031da",
   "metadata": {},
   "outputs": [],
   "source": [
    "planet = \"Earth\"\n",
    "diameter = 12742"
   ]
  },
  {
   "cell_type": "code",
   "execution_count": 95,
   "id": "53deb88b",
   "metadata": {},
   "outputs": [
    {
     "name": "stdout",
     "output_type": "stream",
     "text": [
      "The diameter of Earth is 12742 kilometers.\n"
     ]
    }
   ],
   "source": [
    "print(\"The diameter of {a} is {b} kilometers.\".format(a=planet, b=diameter))"
   ]
  },
  {
   "cell_type": "markdown",
   "id": "5600ca46",
   "metadata": {},
   "source": [
    "4. Given the following nested list, use indexing to grab the word \"hello\":\n",
    "\n",
    "`lst = [1,2,[3,4],[5,[6,7,['hello']],8,9],10,42]`"
   ]
  },
  {
   "cell_type": "code",
   "execution_count": 96,
   "id": "9a2e2bd6",
   "metadata": {},
   "outputs": [],
   "source": [
    "lst = [1,2,[3,4],[5,[6,7,['hello']],8,9],10,42]"
   ]
  },
  {
   "cell_type": "code",
   "execution_count": 97,
   "id": "05c70409",
   "metadata": {},
   "outputs": [
    {
     "data": {
      "text/plain": [
       "'hello'"
      ]
     },
     "execution_count": 97,
     "metadata": {},
     "output_type": "execute_result"
    }
   ],
   "source": [
    "lst[3][1][2][0]"
   ]
  },
  {
   "cell_type": "markdown",
   "id": "288e053a",
   "metadata": {},
   "source": [
    "5. Given the following nested dictionary grab the word \"hello\":\n",
    "    \n",
    "`d = {'k1':[1,2,3,{'four':['five','six','seven',{'eight':[9,10,11,'hello']}]}]}`"
   ]
  },
  {
   "cell_type": "code",
   "execution_count": 98,
   "id": "b8575374",
   "metadata": {},
   "outputs": [],
   "source": [
    "d = {'k1':[1,2,3,{'four':['five','six','seven',{'eight':[9,10,11,'hello']}]}]}"
   ]
  },
  {
   "cell_type": "code",
   "execution_count": 99,
   "id": "7143dfca",
   "metadata": {},
   "outputs": [
    {
     "data": {
      "text/plain": [
       "'hello'"
      ]
     },
     "execution_count": 99,
     "metadata": {},
     "output_type": "execute_result"
    }
   ],
   "source": [
    "d['k1'][3]['four'][3]['eight'][3]"
   ]
  },
  {
   "cell_type": "markdown",
   "id": "d2ef00ef",
   "metadata": {},
   "source": [
    "6. What is the main difference between a tuple and a list? A tuple is immutable."
   ]
  },
  {
   "cell_type": "markdown",
   "id": "5da9c50f",
   "metadata": {},
   "source": [
    "7. Create a function that will grab the email website domain from a string in the form: `user@domain.com`."
   ]
  },
  {
   "cell_type": "code",
   "execution_count": 100,
   "id": "c5a0c814",
   "metadata": {},
   "outputs": [],
   "source": [
    "def returndomain(email):\n",
    "    return email.split('@')[-1]"
   ]
  },
  {
   "cell_type": "code",
   "execution_count": 101,
   "id": "b9530308",
   "metadata": {},
   "outputs": [
    {
     "data": {
      "text/plain": [
       "'herts.ac.uk'"
      ]
     },
     "execution_count": 101,
     "metadata": {},
     "output_type": "execute_result"
    }
   ],
   "source": [
    "returndomain('j.evans8@herts.ac.uk')"
   ]
  },
  {
   "cell_type": "markdown",
   "id": "fb16f54d",
   "metadata": {},
   "source": [
    "8. Create a function that returns False if the word 'data' is not contained in an input string. If 'data' is contained in the input string, return the number of times it is mentioned."
   ]
  },
  {
   "cell_type": "code",
   "execution_count": 108,
   "id": "2bee6399",
   "metadata": {},
   "outputs": [],
   "source": [
    "def findcountData(st):\n",
    "    tester = 'data' in st.lower().split()\n",
    "    \n",
    "    if tester:\n",
    "        count = 0\n",
    "        for word in st.lower().split():\n",
    "            if word == 'data':\n",
    "                count +=1\n",
    "                \n",
    "        return count\n",
    "    else:\n",
    "        return tester"
   ]
  },
  {
   "cell_type": "code",
   "execution_count": 109,
   "id": "ee8f857c",
   "metadata": {},
   "outputs": [],
   "source": [
    "string = 'This is a test string including the word data in which we include data again to see if we can count.'"
   ]
  },
  {
   "cell_type": "code",
   "execution_count": 110,
   "id": "e8b37dc8",
   "metadata": {},
   "outputs": [
    {
     "data": {
      "text/plain": [
       "2"
      ]
     },
     "execution_count": 110,
     "metadata": {},
     "output_type": "execute_result"
    }
   ],
   "source": [
    "findcountData(string)"
   ]
  },
  {
   "cell_type": "code",
   "execution_count": 111,
   "id": "e37fbb5e",
   "metadata": {},
   "outputs": [],
   "source": [
    "string2 = 'Now we include a string without mentioning that word.'"
   ]
  },
  {
   "cell_type": "code",
   "execution_count": 112,
   "id": "d63a70e6",
   "metadata": {},
   "outputs": [
    {
     "data": {
      "text/plain": [
       "False"
      ]
     },
     "execution_count": 112,
     "metadata": {},
     "output_type": "execute_result"
    }
   ],
   "source": [
    "findcountData(string2)"
   ]
  }
 ],
 "metadata": {
  "kernelspec": {
   "display_name": "Python 3 (ipykernel)",
   "language": "python",
   "name": "python3"
  },
  "language_info": {
   "codemirror_mode": {
    "name": "ipython",
    "version": 3
   },
   "file_extension": ".py",
   "mimetype": "text/x-python",
   "name": "python",
   "nbconvert_exporter": "python",
   "pygments_lexer": "ipython3",
   "version": "3.9.12"
  }
 },
 "nbformat": 4,
 "nbformat_minor": 5
}
