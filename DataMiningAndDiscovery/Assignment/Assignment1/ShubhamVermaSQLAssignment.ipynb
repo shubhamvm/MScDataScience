{
  "nbformat": 4,
  "nbformat_minor": 0,
  "metadata": {
    "colab": {
      "provenance": []
    },
    "kernelspec": {
      "name": "python3",
      "display_name": "Python 3"
    },
    "language_info": {
      "name": "python"
    }
  },
  "cells": [
    {
      "cell_type": "markdown",
      "source": [
        "**SQL Assignment**\n",
        "\n",
        "Creating Database and tables"
      ],
      "metadata": {
        "id": "dw6VJOKBNefW"
      }
    },
    {
      "cell_type": "code",
      "execution_count": 1,
      "metadata": {
        "colab": {
          "base_uri": "https://localhost:8080/"
        },
        "id": "rBsuME-CNKQ1",
        "outputId": "c4ca8237-1fff-411b-a2ba-985393530239"
      },
      "outputs": [
        {
          "output_type": "stream",
          "name": "stdout",
          "text": [
            "Collecting Faker\n",
            "  Downloading Faker-23.3.0-py3-none-any.whl (1.8 MB)\n",
            "\u001b[2K     \u001b[90m━━━━━━━━━━━━━━━━━━━━━━━━━━━━━━━━━━━━━━━━\u001b[0m \u001b[32m1.8/1.8 MB\u001b[0m \u001b[31m7.8 MB/s\u001b[0m eta \u001b[36m0:00:00\u001b[0m\n",
            "\u001b[?25hRequirement already satisfied: python-dateutil>=2.4 in /usr/local/lib/python3.10/dist-packages (from Faker) (2.8.2)\n",
            "Requirement already satisfied: six>=1.5 in /usr/local/lib/python3.10/dist-packages (from python-dateutil>=2.4->Faker) (1.16.0)\n",
            "Installing collected packages: Faker\n",
            "Successfully installed Faker-23.3.0\n"
          ]
        }
      ],
      "source": [
        "# Import necessary libraries\n",
        "!pip install Faker\n",
        "from faker import Faker\n",
        "from datetime import datetime, timedelta\n",
        "import sqlite3\n",
        "import random\n",
        "\n",
        "# Initialize Faker with UK English locale\n",
        "fake = Faker('en_GB')\n",
        "\n",
        "# Create a SQLite database\n",
        "db_path = '/content/ads2database.db'\n",
        "connection = sqlite3.connect(db_path)\n",
        "cursor = connection.cursor()\n",
        "\n",
        "# Create table location, department, employee, and login\n",
        "cursor.execute('''\n",
        "CREATE TABLE IF NOT EXISTS location (\n",
        "    location_id INTEGER PRIMARY KEY NOT NULL UNIQUE,\n",
        "    loc_building_name TEXT,\n",
        "    loc_building_add TEXT,\n",
        "    loc_floor_number INTEGER,\n",
        "    loc_roomid INTEGER,\n",
        "    loc_admin_access_only BOOLEAN,\n",
        "    loc_room_temperature INTEGER,\n",
        "    loc_created_by INTEGER,\n",
        "    loc_created_at TIMESTAMP,\n",
        "    loc_lastupdated_by INTEGER,\n",
        "    loc_lastupdated_at TIMESTAMP\n",
        ")\n",
        "''')\n",
        "\n",
        "# Create table department\n",
        "cursor.execute('''\n",
        "CREATE TABLE IF NOT EXISTS department (\n",
        "    department_id INTEGER PRIMARY KEY NOT NULL UNIQUE,\n",
        "    dep_name TEXT NOT NULL,\n",
        "    dep_description TEXT,\n",
        "    dep_hq_locationid INTEGER,\n",
        "    d_created_by INTEGER,\n",
        "    d_created_at TIMESTAMP,\n",
        "    d_lastupdated_by INTEGER,\n",
        "    d_lastupdated_at TIMESTAMP,\n",
        "    FOREIGN KEY (dep_hq_locationid) REFERENCES location (location_id)\n",
        ")\n",
        "''')\n",
        "\n",
        "# Create table employee\n",
        "cursor.execute('''\n",
        "CREATE TABLE IF NOT EXISTS employee (\n",
        "    emp_id INTEGER PRIMARY KEY NOT NULL UNIQUE,\n",
        "    emp_name TEXT NOT NULL,\n",
        "    emp_sex TEXT NOT NULL,\n",
        "    emp_role TEXT,\n",
        "    emp_status BOOLEAN NOT NULL,\n",
        "    emp_managerid INTEGER,\n",
        "    emp_email TEXT NOT NULL,\n",
        "    emp_mobile INTEGER NOT NULL,\n",
        "    emp_address TEXT,\n",
        "    emp_departmentid INTEGER,\n",
        "    emp_dob DATE NOT NULL,\n",
        "    emp_age INTEGER,\n",
        "    emp_age_range TEXT NOT NULL,\n",
        "    emp_age_category TEXT NOT NULL,\n",
        "    emp_hiringdate DATE NOT NULL,\n",
        "    emp_salary INTEGER,\n",
        "    emp_salary_category TEXT,\n",
        "    emp_salary_hike INTEGER,\n",
        "    e_created_by INTEGER,\n",
        "    e_created_at TIMESTAMP,\n",
        "    e_lastupdated_by INTEGER,\n",
        "    e_lastupdated_at TIMESTAMP,\n",
        "    FOREIGN KEY (emp_departmentid) REFERENCES department (department_id),\n",
        "    FOREIGN KEY (emp_managerid) REFERENCES employee (emp_id)\n",
        ")\n",
        "''')\n",
        "\n",
        "# Create table login\n",
        "cursor.execute('''\n",
        "CREATE TABLE IF NOT EXISTS login (\n",
        "    log_id INTEGER PRIMARY KEY AUTOINCREMENT,\n",
        "    emp_id INTEGER NOT NULL,\n",
        "    login_locationid INTEGER,\n",
        "    login_time TIMESTAMP,\n",
        "    logout_locationid INTEGER,\n",
        "    logout_time TIMESTAMP,\n",
        "    log_created_by INTEGER,\n",
        "    log_created_at TIMESTAMP,\n",
        "    log_lastupdated_by INTEGER,\n",
        "    log_lastupdated_at TIMESTAMP,\n",
        "    FOREIGN KEY (emp_id) REFERENCES employee (emp_id),\n",
        "    FOREIGN KEY (login_locationid) REFERENCES location (location_id),\n",
        "    FOREIGN KEY (logout_locationid) REFERENCES location (location_id)\n",
        ")\n",
        "''')\n",
        "\n",
        "# Helper function to generate random timestamps\n",
        "def random_timestamp():\n",
        "    return fake.date_time_between(start_date=\"-30d\", end_date=\"now\")\n"
      ]
    },
    {
      "cell_type": "markdown",
      "source": [
        "Generating random data"
      ],
      "metadata": {
        "id": "6EMjDUTjNqWh"
      }
    },
    {
      "cell_type": "code",
      "source": [
        "# Add 1000 records to location table\n",
        "for i in range(1000):\n",
        "    location_id = i + 10000\n",
        "    loc_building_name = fake.company()\n",
        "    loc_building_add = fake.address()\n",
        "    loc_floor_number = random.randint(0, 20)\n",
        "    loc_roomid = random.randint(1, 99)\n",
        "    loc_admin_access_only = random.choice([True, False])\n",
        "    loc_room_temperature = random.randint(15, 28)\n",
        "    loc_created_by = random.randint(30000, 32000)\n",
        "    loc_lastupdated_by = loc_created_by + 1\n",
        "    loc_created_at = random_timestamp()\n",
        "    loc_lastupdated_at = loc_created_at + timedelta(days=random.randint(1, 30))\n",
        "\n",
        "    cursor.execute('''\n",
        "    INSERT INTO location (location_id, loc_building_name, loc_building_add, loc_floor_number, loc_roomid,\n",
        "                          loc_admin_access_only, loc_room_temperature, loc_created_by, loc_created_at,\n",
        "                          loc_lastupdated_by, loc_lastupdated_at)\n",
        "    VALUES (?, ?, ?, ?, ?, ?, ?, ?, ?, ?, ?)\n",
        "    ''', (location_id, loc_building_name, loc_building_add, loc_floor_number, loc_roomid, loc_admin_access_only,\n",
        "          loc_room_temperature, loc_created_by, loc_created_at, loc_lastupdated_by, loc_lastupdated_at))\n",
        "\n",
        "# Commit the location data insertion\n",
        "connection.commit()"
      ],
      "metadata": {
        "id": "4P_KJ06BNRt6"
      },
      "execution_count": 2,
      "outputs": []
    },
    {
      "cell_type": "code",
      "source": [
        "# Define relevant IT department names\n",
        "it_departments = [\n",
        "    \"IT Services\", \"Software Development\", \"Network Infrastructure\", \"Data Science\", \"Cybersecurity\",\n",
        "    \"Database Management\", \"Quality Assurance\", \"Project Management\", \"Technical Support\", \"Cloud Computing\",\n",
        "    \"Web Development\", \"Mobile App Development\", \"Systems Architecture\", \"Business Intelligence\", \"IT Operations\",\n",
        "    \"Information Security\", \"User Experience (UX)\", \"IT Consulting\", \"Enterprise Solutions\", \"DevOps\",\n",
        "    \"Artificial Intelligence\", \"Machine Learning\", \"Digital Transformation\", \"IT Governance\", \"IT Strategy\"\n",
        "]\n",
        "\n",
        "# Add 25 records to the department table\n",
        "for i in range(25):\n",
        "    department_id = i + 20000\n",
        "    dep_name = it_departments[i]\n",
        "    dep_description = fake.sentence()\n",
        "    dep_hq_locationid = random.randint(10000, 11000)\n",
        "    d_created_by = random.randint(30000, 31000)\n",
        "    d_lastupdated_by = d_created_by + 1\n",
        "    d_created_at = random_timestamp()\n",
        "    d_lastupdated_at = d_created_at + timedelta(days=random.randint(1, 30))\n",
        "\n",
        "    # Insert data into the department table\n",
        "    cursor.execute('''\n",
        "    INSERT INTO department (department_id, dep_name, dep_description, dep_hq_locationid,\n",
        "                           d_created_by, d_created_at, d_lastupdated_by, d_lastupdated_at)\n",
        "    VALUES (?, ?, ?, ?, ?, ?, ?, ?)\n",
        "    ''', (department_id, dep_name, dep_description, dep_hq_locationid, d_created_by, d_created_at,\n",
        "          d_lastupdated_by, d_lastupdated_at))\n",
        "\n",
        "# Commit the department data insertion\n",
        "connection.commit()"
      ],
      "metadata": {
        "id": "ofZrEVMoNTmJ"
      },
      "execution_count": 3,
      "outputs": []
    },
    {
      "cell_type": "code",
      "source": [
        "# Add 2000 records to the employee table\n",
        "for i in range(2000):\n",
        "    # Generate employee details\n",
        "    emp_id = i + 30000\n",
        "    emp_name = fake.name()\n",
        "    emp_sex = random.choice(['Male', 'Female'])  # Add random gender (male/female)\n",
        "    emp_role = fake.job()\n",
        "    emp_status = random.choice([True, False])\n",
        "    emp_email = fake.email()\n",
        "    emp_mobile = fake.random_int(100000000, 999999999)\n",
        "    emp_address = fake.address()\n",
        "    emp_departmentid = random.randint(20000, 20025)\n",
        "    emp_dob_date = fake.date_of_birth(minimum_age=18, maximum_age=60)\n",
        "    emp_dob = datetime.combine(emp_dob_date, datetime.min.time())  # Convert to datetime object\n",
        "    emp_age = (datetime.now() - emp_dob).days // 365\n",
        "    emp_age_category = 'Young Adults' if 18 <= emp_age <= 30 else ('Mid Adults' if 31 <= emp_age <= 60 else 'Senior Adults')\n",
        "    emp_age_range = '18 - 30' if 18 <= emp_age <= 30 else ('31 - 60' if 31 <= emp_age <= 60 else '60 above')\n",
        "    emp_hiringdate = random_timestamp()\n",
        "    emp_salary = random.randint(30000, 150000)\n",
        "    emp_salary_category = 'very_low' if emp_salary < 50000 else (\n",
        "        'low' if emp_salary < 80000 else ('mid' if emp_salary < 120000 else ('high' if emp_salary < 150000 else 'very_high')))\n",
        "    emp_salary_hike = random.randint(1, 20)\n",
        "    e_created_by = random.randint(30000, 31000)\n",
        "    e_lastupdated_by = e_created_by + 1\n",
        "    e_created_at = random_timestamp()\n",
        "    e_lastupdated_at = e_created_at + timedelta(days=random.randint(1, 30))\n",
        "    emp_managerid = random.randint(30000, 31000)\n",
        "\n",
        "    # Insert employee record into the database\n",
        "    cursor.execute('''\n",
        "    INSERT INTO employee (emp_id, emp_name, emp_sex, emp_role, emp_status, emp_managerid, emp_email, emp_mobile,\n",
        "                          emp_address, emp_departmentid, emp_dob, emp_age, emp_age_range, emp_age_category,\n",
        "                          emp_hiringdate, emp_salary, emp_salary_category, emp_salary_hike,\n",
        "                          e_created_by, e_created_at, e_lastupdated_by, e_lastupdated_at)\n",
        "    VALUES (?, ?, ?, ?, ?, ?, ?, ?, ?, ?, ?, ?, ?, ?, ?, ?, ?, ?, ?, ?, ?, ?)\n",
        "    ''', (emp_id, emp_name, emp_sex, emp_role, emp_status, emp_managerid, emp_email, emp_mobile, emp_address,\n",
        "          emp_departmentid, emp_dob_date, emp_age, emp_age_range, emp_age_category, emp_hiringdate, emp_salary,\n",
        "          emp_salary_category, emp_salary_hike, e_created_by, e_created_at, e_lastupdated_by,\n",
        "          e_lastupdated_at))\n",
        "\n",
        "# Commit the employee data insertion\n",
        "connection.commit()\n"
      ],
      "metadata": {
        "id": "H1eSFDqeNUYm"
      },
      "execution_count": 4,
      "outputs": []
    },
    {
      "cell_type": "code",
      "source": [
        "# Add 5000 records to login table\n",
        "for log_id in range(101, 5101):\n",
        "    # Generate login details\n",
        "    emp_id = random.randint(30000, 32000)\n",
        "    login_locationid = random.randint(10000, 11000)\n",
        "    login_time = random_timestamp()\n",
        "    logout_locationid = login_locationid\n",
        "    logout_time = login_time + timedelta(hours=random.randint(6, 15))\n",
        "    log_created_by = random.randint(30000, 31000)\n",
        "    log_lastupdated_by = log_created_by + 1\n",
        "    log_created_at = random_timestamp()\n",
        "    log_lastupdated_at = log_created_at + timedelta(days=random.randint(1, 30))\n",
        "\n",
        "    # Insert login record into the database\n",
        "    cursor.execute('''\n",
        "    INSERT INTO login (log_id, emp_id, login_locationid, login_time,\n",
        "                       logout_locationid, logout_time, log_created_by, log_created_at,\n",
        "                       log_lastupdated_by, log_lastupdated_at)\n",
        "    VALUES (?, ?, ?, ?, ?, ?, ?, ?, ?, ?)\n",
        "    ''', (log_id, emp_id, login_locationid, login_time, logout_locationid,\n",
        "          logout_time, log_created_by, log_created_at, log_lastupdated_by, log_lastupdated_at))\n",
        "\n",
        "# Commit the login data insertion\n",
        "connection.commit()\n"
      ],
      "metadata": {
        "id": "lVRPgrjDNWVm"
      },
      "execution_count": 5,
      "outputs": []
    },
    {
      "cell_type": "markdown",
      "source": [
        "Fetching Data"
      ],
      "metadata": {
        "id": "NN8R-nCNNy8u"
      }
    },
    {
      "cell_type": "code",
      "source": [
        "# execute the command to fetch all the data from the table emp\n",
        "cursor.execute(\"SELECT * FROM employee limit 10\")\n",
        "\n",
        "# store all the fetched data in the ans variable\n",
        "ans = cursor.fetchall()\n",
        "\n",
        "# Since we have already selected all the data entries\n",
        "# using the \"SELECT *\" SQL command and stored them in\n",
        "# the ans variable, all we need to do now is to print\n",
        "# out the ans variable\n",
        "\n",
        "for i in ans:\n",
        "\tprint(i)\n",
        "\n",
        "print(ans)\n"
      ],
      "metadata": {
        "colab": {
          "base_uri": "https://localhost:8080/"
        },
        "id": "t_3RRAWfN06Z",
        "outputId": "bb9a3b63-455e-4bc0-a2be-39cd3788c10f"
      },
      "execution_count": 6,
      "outputs": [
        {
          "output_type": "stream",
          "name": "stdout",
          "text": [
            "(30000, 'Dr Kenneth Green', 'Female', 'Journalist, magazine', 0, 30682, 'andrewcooper@example.org', 315321142, 'Flat 43\\nHannah stream\\nYvonneshire\\nS3 4ZU', 20010, '1995-09-01', 28, '18 - 30', 'Young Adults', '2024-03-01 21:14:23.702702', 102092, 'mid', 8, 30958, '2024-02-05 01:07:04.092268', 30959, '2024-03-06 01:07:04.092268')\n",
            "(30001, 'Dr Graeme Sharp', 'Female', 'Therapeutic radiographer', 0, 30339, 'charles74@example.net', 857200918, 'Studio 49n\\nBeverley vista\\nSmithtown\\nTF92 2SJ', 20010, '1992-08-16', 31, '31 - 60', 'Mid Adults', '2024-02-08 06:18:18.764743', 46582, 'very_low', 5, 30869, '2024-02-16 13:08:11.598232', 30870, '2024-03-15 13:08:11.598232')\n",
            "(30002, 'Elaine Benson-Buckley', 'Male', 'Forensic scientist', 0, 30577, 'elliottdavid@example.net', 130811368, 'Studio 23V\\nDaniels plains\\nAllanville\\nN17 0YF', 20011, '1974-02-24', 50, '31 - 60', 'Mid Adults', '2024-02-12 05:32:09.946580', 149347, 'high', 3, 30687, '2024-02-06 22:09:57.826281', 30688, '2024-02-11 22:09:57.826281')\n",
            "(30003, 'Jack Khan', 'Male', 'Rural practice surveyor', 0, 30192, 'emellor@example.org', 753207198, 'Flat 3\\nGill dale\\nWest Melaniehaven\\nIM73 9RX', 20013, '1997-11-25', 26, '18 - 30', 'Young Adults', '2024-02-26 02:54:07.294415', 114959, 'mid', 19, 30103, '2024-02-14 14:50:52.837862', 30104, '2024-02-25 14:50:52.837862')\n",
            "(30004, 'Judith Johnston', 'Female', 'Public relations officer', 0, 30975, 'scarroll@example.net', 509125029, 'Studio 7\\nHunt wells\\nRosieville\\nE4A 9UU', 20023, '1978-09-08', 45, '31 - 60', 'Mid Adults', '2024-02-16 13:13:33.197661', 83476, 'mid', 12, 30514, '2024-02-09 15:16:47.629496', 30515, '2024-02-10 15:16:47.629496')\n",
            "(30005, 'Jay Bennett-Foster', 'Female', 'Games developer', 0, 30999, 'pooleanne@example.org', 998856637, 'Flat 7\\nBarber mount\\nPort Josephinetown\\nBT3Y 4FR', 20008, '1992-11-28', 31, '31 - 60', 'Mid Adults', '2024-02-08 04:24:44.908998', 147495, 'high', 16, 30556, '2024-02-12 23:05:26.470209', 30557, '2024-03-09 23:05:26.470209')\n",
            "(30006, 'Susan Rose', 'Female', 'Scientist, research (life sciences)', 0, 30186, 'eleanor32@example.com', 946485652, '34 Smith spring\\nLake Lindseymouth\\nW47 1PZ', 20019, '2003-03-16', 20, '18 - 30', 'Young Adults', '2024-02-25 02:53:26.565750', 109299, 'mid', 4, 30935, '2024-02-23 11:45:23.713797', 30936, '2024-03-10 11:45:23.713797')\n",
            "(30007, 'Conor Taylor', 'Female', 'Research scientist (maths)', 1, 30548, 'thompsonfrank@example.com', 239462839, 'Studio 74\\nJemma wells\\nPetersfurt\\nNG86 6JN', 20024, '1976-08-24', 47, '31 - 60', 'Mid Adults', '2024-02-19 15:13:59.652263', 89126, 'mid', 3, 30027, '2024-02-05 16:32:03.383247', 30028, '2024-02-08 16:32:03.383247')\n",
            "(30008, 'Vincent Morris', 'Female', 'Stage manager', 0, 30275, 'uedwards@example.com', 473721978, 'Studio 82\\nCarpenter route\\nDaleton\\nS0 6UL', 20007, '2002-10-13', 21, '18 - 30', 'Young Adults', '2024-02-06 20:50:45.001735', 70418, 'low', 8, 30074, '2024-02-28 16:39:47.665638', 30075, '2024-03-13 16:39:47.665638')\n",
            "(30009, 'Dorothy Butcher-Tucker', 'Female', 'Investment banker, corporate', 0, 30084, 'mark15@example.org', 863980149, '9 Fisher alley\\nLake Geraldine\\nL6H 3NX', 20010, '1971-03-19', 52, '31 - 60', 'Mid Adults', '2024-02-21 11:05:03.717365', 115651, 'mid', 1, 30544, '2024-02-06 09:33:39.136626', 30545, '2024-02-23 09:33:39.136626')\n",
            "[(30000, 'Dr Kenneth Green', 'Female', 'Journalist, magazine', 0, 30682, 'andrewcooper@example.org', 315321142, 'Flat 43\\nHannah stream\\nYvonneshire\\nS3 4ZU', 20010, '1995-09-01', 28, '18 - 30', 'Young Adults', '2024-03-01 21:14:23.702702', 102092, 'mid', 8, 30958, '2024-02-05 01:07:04.092268', 30959, '2024-03-06 01:07:04.092268'), (30001, 'Dr Graeme Sharp', 'Female', 'Therapeutic radiographer', 0, 30339, 'charles74@example.net', 857200918, 'Studio 49n\\nBeverley vista\\nSmithtown\\nTF92 2SJ', 20010, '1992-08-16', 31, '31 - 60', 'Mid Adults', '2024-02-08 06:18:18.764743', 46582, 'very_low', 5, 30869, '2024-02-16 13:08:11.598232', 30870, '2024-03-15 13:08:11.598232'), (30002, 'Elaine Benson-Buckley', 'Male', 'Forensic scientist', 0, 30577, 'elliottdavid@example.net', 130811368, 'Studio 23V\\nDaniels plains\\nAllanville\\nN17 0YF', 20011, '1974-02-24', 50, '31 - 60', 'Mid Adults', '2024-02-12 05:32:09.946580', 149347, 'high', 3, 30687, '2024-02-06 22:09:57.826281', 30688, '2024-02-11 22:09:57.826281'), (30003, 'Jack Khan', 'Male', 'Rural practice surveyor', 0, 30192, 'emellor@example.org', 753207198, 'Flat 3\\nGill dale\\nWest Melaniehaven\\nIM73 9RX', 20013, '1997-11-25', 26, '18 - 30', 'Young Adults', '2024-02-26 02:54:07.294415', 114959, 'mid', 19, 30103, '2024-02-14 14:50:52.837862', 30104, '2024-02-25 14:50:52.837862'), (30004, 'Judith Johnston', 'Female', 'Public relations officer', 0, 30975, 'scarroll@example.net', 509125029, 'Studio 7\\nHunt wells\\nRosieville\\nE4A 9UU', 20023, '1978-09-08', 45, '31 - 60', 'Mid Adults', '2024-02-16 13:13:33.197661', 83476, 'mid', 12, 30514, '2024-02-09 15:16:47.629496', 30515, '2024-02-10 15:16:47.629496'), (30005, 'Jay Bennett-Foster', 'Female', 'Games developer', 0, 30999, 'pooleanne@example.org', 998856637, 'Flat 7\\nBarber mount\\nPort Josephinetown\\nBT3Y 4FR', 20008, '1992-11-28', 31, '31 - 60', 'Mid Adults', '2024-02-08 04:24:44.908998', 147495, 'high', 16, 30556, '2024-02-12 23:05:26.470209', 30557, '2024-03-09 23:05:26.470209'), (30006, 'Susan Rose', 'Female', 'Scientist, research (life sciences)', 0, 30186, 'eleanor32@example.com', 946485652, '34 Smith spring\\nLake Lindseymouth\\nW47 1PZ', 20019, '2003-03-16', 20, '18 - 30', 'Young Adults', '2024-02-25 02:53:26.565750', 109299, 'mid', 4, 30935, '2024-02-23 11:45:23.713797', 30936, '2024-03-10 11:45:23.713797'), (30007, 'Conor Taylor', 'Female', 'Research scientist (maths)', 1, 30548, 'thompsonfrank@example.com', 239462839, 'Studio 74\\nJemma wells\\nPetersfurt\\nNG86 6JN', 20024, '1976-08-24', 47, '31 - 60', 'Mid Adults', '2024-02-19 15:13:59.652263', 89126, 'mid', 3, 30027, '2024-02-05 16:32:03.383247', 30028, '2024-02-08 16:32:03.383247'), (30008, 'Vincent Morris', 'Female', 'Stage manager', 0, 30275, 'uedwards@example.com', 473721978, 'Studio 82\\nCarpenter route\\nDaleton\\nS0 6UL', 20007, '2002-10-13', 21, '18 - 30', 'Young Adults', '2024-02-06 20:50:45.001735', 70418, 'low', 8, 30074, '2024-02-28 16:39:47.665638', 30075, '2024-03-13 16:39:47.665638'), (30009, 'Dorothy Butcher-Tucker', 'Female', 'Investment banker, corporate', 0, 30084, 'mark15@example.org', 863980149, '9 Fisher alley\\nLake Geraldine\\nL6H 3NX', 20010, '1971-03-19', 52, '31 - 60', 'Mid Adults', '2024-02-21 11:05:03.717365', 115651, 'mid', 1, 30544, '2024-02-06 09:33:39.136626', 30545, '2024-02-23 09:33:39.136626')]\n"
          ]
        }
      ]
    },
    {
      "cell_type": "code",
      "source": [
        "# execute the command to fetch all the data from the table emp\n",
        "cursor.execute(\"SELECT * FROM department limit 25\")\n",
        "\n",
        "# store all the fetched data in the ans variable\n",
        "ans = cursor.fetchall()\n",
        "\n",
        "# Since we have already selected all the data entries\n",
        "# using the \"SELECT *\" SQL command and stored them in\n",
        "# the ans variable, all we need to do now is to print\n",
        "# out the ans variable\n",
        "\n",
        "for i in ans:\n",
        "\tprint(i)\n",
        "\n",
        "print(ans)"
      ],
      "metadata": {
        "colab": {
          "base_uri": "https://localhost:8080/"
        },
        "id": "eW3WCuWXN30Y",
        "outputId": "642bca78-3c6e-4a16-e92a-0aefee265fb3"
      },
      "execution_count": 7,
      "outputs": [
        {
          "output_type": "stream",
          "name": "stdout",
          "text": [
            "(20000, 'IT Services', 'Alias voluptatibus quo beatae est repellat.', 10784, 30275, '2024-02-11 11:14:43.157341', 30276, '2024-02-22 11:14:43.157341')\n",
            "(20001, 'Software Development', 'Placeat ab nam impedit at et officiis occaecati.', 10887, 30873, '2024-02-06 22:21:33.182402', 30874, '2024-02-20 22:21:33.182402')\n",
            "(20002, 'Network Infrastructure', 'Veritatis provident aliquam dolorum ut officia ducimus.', 10850, 30830, '2024-02-22 04:01:05.588528', 30831, '2024-03-09 04:01:05.588528')\n",
            "(20003, 'Data Science', 'Totam et ad illum dolorem nihil nobis.', 10060, 30512, '2024-02-29 16:09:43.820608', 30513, '2024-03-08 16:09:43.820608')\n",
            "(20004, 'Cybersecurity', 'Quae necessitatibus sunt quae earum error.', 10680, 30329, '2024-02-19 08:29:30.823421', 30330, '2024-03-06 08:29:30.823421')\n",
            "(20005, 'Database Management', 'Vero esse accusamus totam placeat minus.', 10112, 30499, '2024-02-05 03:07:09.976116', 30500, '2024-02-06 03:07:09.976116')\n",
            "(20006, 'Quality Assurance', 'Quidem aperiam delectus nisi ratione deserunt.', 10867, 30652, '2024-02-25 08:11:12.469945', 30653, '2024-03-23 08:11:12.469945')\n",
            "(20007, 'Project Management', 'Repellat aut quod rem sit.', 10034, 30674, '2024-02-22 00:47:00.394568', 30675, '2024-03-12 00:47:00.394568')\n",
            "(20008, 'Technical Support', 'Accusantium tempora natus beatae unde consequuntur.', 10794, 30034, '2024-02-25 11:23:28.654065', 30035, '2024-03-12 11:23:28.654065')\n",
            "(20009, 'Cloud Computing', 'Alias quidem dicta animi temporibus dolore.', 10317, 30947, '2024-02-25 18:13:32.932029', 30948, '2024-03-15 18:13:32.932029')\n",
            "(20010, 'Web Development', 'Ab ex ad dicta consequatur libero.', 10845, 30260, '2024-02-20 03:22:35.312076', 30261, '2024-03-09 03:22:35.312076')\n",
            "(20011, 'Mobile App Development', 'Repellendus quo error cum odio itaque.', 10634, 30468, '2024-02-22 22:02:48.954876', 30469, '2024-02-27 22:02:48.954876')\n",
            "(20012, 'Systems Architecture', 'Sint dolorem cumque asperiores repudiandae magnam.', 10741, 30445, '2024-02-15 22:23:58.181339', 30446, '2024-03-09 22:23:58.181339')\n",
            "(20013, 'Business Intelligence', 'Fuga eos magni quas totam tenetur minima quas.', 10701, 30440, '2024-02-11 01:08:17.185795', 30441, '2024-03-05 01:08:17.185795')\n",
            "(20014, 'IT Operations', 'Labore numquam et reprehenderit.', 10821, 30851, '2024-02-18 18:07:20.828933', 30852, '2024-02-25 18:07:20.828933')\n",
            "(20015, 'Information Security', 'Qui beatae nostrum nam impedit tempore.', 10146, 30732, '2024-02-10 04:57:55.147345', 30733, '2024-02-24 04:57:55.147345')\n",
            "(20016, 'User Experience (UX)', 'Quam laboriosam reprehenderit cupiditate.', 10397, 30427, '2024-03-01 15:48:20.074235', 30428, '2024-03-10 15:48:20.074235')\n",
            "(20017, 'IT Consulting', 'Velit quidem dolores aspernatur numquam odio.', 10957, 30894, '2024-02-14 15:27:32.074204', 30895, '2024-02-22 15:27:32.074204')\n",
            "(20018, 'Enterprise Solutions', 'Ipsum repudiandae sint tempora magnam.', 10836, 30181, '2024-02-24 07:58:10.274903', 30182, '2024-03-06 07:58:10.274903')\n",
            "(20019, 'DevOps', 'Dolorum aperiam quisquam nemo quo.', 10649, 30849, '2024-02-08 04:47:17.349724', 30850, '2024-02-17 04:47:17.349724')\n",
            "(20020, 'Artificial Intelligence', 'Qui cum quidem laudantium nemo enim iusto.', 10986, 30106, '2024-02-03 13:24:53.887412', 30107, '2024-03-03 13:24:53.887412')\n",
            "(20021, 'Machine Learning', 'Et facilis quae quis voluptates ea.', 10620, 30649, '2024-02-12 17:49:01.293936', 30650, '2024-03-09 17:49:01.293936')\n",
            "(20022, 'Digital Transformation', 'Cupiditate maiores tempora vero vero.', 10115, 30358, '2024-02-02 05:20:15.961289', 30359, '2024-02-03 05:20:15.961289')\n",
            "(20023, 'IT Governance', 'Facere quaerat temporibus in.', 10774, 30609, '2024-02-19 18:26:59.402678', 30610, '2024-03-09 18:26:59.402678')\n",
            "(20024, 'IT Strategy', 'Exercitationem possimus occaecati repudiandae deserunt aliquam sapiente.', 10401, 30197, '2024-02-16 06:32:04.528070', 30198, '2024-03-10 06:32:04.528070')\n",
            "[(20000, 'IT Services', 'Alias voluptatibus quo beatae est repellat.', 10784, 30275, '2024-02-11 11:14:43.157341', 30276, '2024-02-22 11:14:43.157341'), (20001, 'Software Development', 'Placeat ab nam impedit at et officiis occaecati.', 10887, 30873, '2024-02-06 22:21:33.182402', 30874, '2024-02-20 22:21:33.182402'), (20002, 'Network Infrastructure', 'Veritatis provident aliquam dolorum ut officia ducimus.', 10850, 30830, '2024-02-22 04:01:05.588528', 30831, '2024-03-09 04:01:05.588528'), (20003, 'Data Science', 'Totam et ad illum dolorem nihil nobis.', 10060, 30512, '2024-02-29 16:09:43.820608', 30513, '2024-03-08 16:09:43.820608'), (20004, 'Cybersecurity', 'Quae necessitatibus sunt quae earum error.', 10680, 30329, '2024-02-19 08:29:30.823421', 30330, '2024-03-06 08:29:30.823421'), (20005, 'Database Management', 'Vero esse accusamus totam placeat minus.', 10112, 30499, '2024-02-05 03:07:09.976116', 30500, '2024-02-06 03:07:09.976116'), (20006, 'Quality Assurance', 'Quidem aperiam delectus nisi ratione deserunt.', 10867, 30652, '2024-02-25 08:11:12.469945', 30653, '2024-03-23 08:11:12.469945'), (20007, 'Project Management', 'Repellat aut quod rem sit.', 10034, 30674, '2024-02-22 00:47:00.394568', 30675, '2024-03-12 00:47:00.394568'), (20008, 'Technical Support', 'Accusantium tempora natus beatae unde consequuntur.', 10794, 30034, '2024-02-25 11:23:28.654065', 30035, '2024-03-12 11:23:28.654065'), (20009, 'Cloud Computing', 'Alias quidem dicta animi temporibus dolore.', 10317, 30947, '2024-02-25 18:13:32.932029', 30948, '2024-03-15 18:13:32.932029'), (20010, 'Web Development', 'Ab ex ad dicta consequatur libero.', 10845, 30260, '2024-02-20 03:22:35.312076', 30261, '2024-03-09 03:22:35.312076'), (20011, 'Mobile App Development', 'Repellendus quo error cum odio itaque.', 10634, 30468, '2024-02-22 22:02:48.954876', 30469, '2024-02-27 22:02:48.954876'), (20012, 'Systems Architecture', 'Sint dolorem cumque asperiores repudiandae magnam.', 10741, 30445, '2024-02-15 22:23:58.181339', 30446, '2024-03-09 22:23:58.181339'), (20013, 'Business Intelligence', 'Fuga eos magni quas totam tenetur minima quas.', 10701, 30440, '2024-02-11 01:08:17.185795', 30441, '2024-03-05 01:08:17.185795'), (20014, 'IT Operations', 'Labore numquam et reprehenderit.', 10821, 30851, '2024-02-18 18:07:20.828933', 30852, '2024-02-25 18:07:20.828933'), (20015, 'Information Security', 'Qui beatae nostrum nam impedit tempore.', 10146, 30732, '2024-02-10 04:57:55.147345', 30733, '2024-02-24 04:57:55.147345'), (20016, 'User Experience (UX)', 'Quam laboriosam reprehenderit cupiditate.', 10397, 30427, '2024-03-01 15:48:20.074235', 30428, '2024-03-10 15:48:20.074235'), (20017, 'IT Consulting', 'Velit quidem dolores aspernatur numquam odio.', 10957, 30894, '2024-02-14 15:27:32.074204', 30895, '2024-02-22 15:27:32.074204'), (20018, 'Enterprise Solutions', 'Ipsum repudiandae sint tempora magnam.', 10836, 30181, '2024-02-24 07:58:10.274903', 30182, '2024-03-06 07:58:10.274903'), (20019, 'DevOps', 'Dolorum aperiam quisquam nemo quo.', 10649, 30849, '2024-02-08 04:47:17.349724', 30850, '2024-02-17 04:47:17.349724'), (20020, 'Artificial Intelligence', 'Qui cum quidem laudantium nemo enim iusto.', 10986, 30106, '2024-02-03 13:24:53.887412', 30107, '2024-03-03 13:24:53.887412'), (20021, 'Machine Learning', 'Et facilis quae quis voluptates ea.', 10620, 30649, '2024-02-12 17:49:01.293936', 30650, '2024-03-09 17:49:01.293936'), (20022, 'Digital Transformation', 'Cupiditate maiores tempora vero vero.', 10115, 30358, '2024-02-02 05:20:15.961289', 30359, '2024-02-03 05:20:15.961289'), (20023, 'IT Governance', 'Facere quaerat temporibus in.', 10774, 30609, '2024-02-19 18:26:59.402678', 30610, '2024-03-09 18:26:59.402678'), (20024, 'IT Strategy', 'Exercitationem possimus occaecati repudiandae deserunt aliquam sapiente.', 10401, 30197, '2024-02-16 06:32:04.528070', 30198, '2024-03-10 06:32:04.528070')]\n"
          ]
        }
      ]
    },
    {
      "cell_type": "code",
      "source": [
        "# execute the command to fetch all the data from the table emp\n",
        "cursor.execute(\"SELECT * FROM login limit 25\")\n",
        "\n",
        "# store all the fetched data in the ans variable\n",
        "ans = cursor.fetchall()\n",
        "\n",
        "# Since we have already selected all the data entries\n",
        "# using the \"SELECT *\" SQL command and stored them in\n",
        "# the ans variable, all we need to do now is to print\n",
        "# out the ans variable\n",
        "\n",
        "for i in ans:\n",
        "\tprint(i)\n",
        "\n",
        "print(ans)"
      ],
      "metadata": {
        "colab": {
          "base_uri": "https://localhost:8080/"
        },
        "id": "ewAqHj5wN5b6",
        "outputId": "cc072958-829a-4c37-ab74-3026578512c5"
      },
      "execution_count": 8,
      "outputs": [
        {
          "output_type": "stream",
          "name": "stdout",
          "text": [
            "(101, 31558, 10697, '2024-02-23 11:49:59.011151', 10697, '2024-02-23 21:49:59.011151', 30569, '2024-03-01 01:16:53.347273', 30570, '2024-03-13 01:16:53.347273')\n",
            "(102, 30499, 10421, '2024-02-28 05:44:09.322767', 10421, '2024-02-28 13:44:09.322767', 30015, '2024-02-19 19:45:11.470531', 30016, '2024-02-26 19:45:11.470531')\n",
            "(103, 30746, 10043, '2024-02-02 03:28:10.748336', 10043, '2024-02-02 14:28:10.748336', 30719, '2024-02-27 10:15:46.362006', 30720, '2024-03-19 10:15:46.362006')\n",
            "(104, 30808, 10886, '2024-02-09 13:43:43.356827', 10886, '2024-02-10 02:43:43.356827', 30236, '2024-02-12 23:43:25.556458', 30237, '2024-02-15 23:43:25.556458')\n",
            "(105, 31719, 10317, '2024-02-15 16:34:57.684381', 10317, '2024-02-15 23:34:57.684381', 30444, '2024-02-16 19:16:54.871986', 30445, '2024-03-13 19:16:54.871986')\n",
            "(106, 30482, 10349, '2024-02-16 10:34:29.234668', 10349, '2024-02-16 17:34:29.234668', 30372, '2024-02-13 06:39:49.909734', 30373, '2024-02-29 06:39:49.909734')\n",
            "(107, 30746, 10873, '2024-02-16 10:38:55.567066', 10873, '2024-02-16 20:38:55.567066', 30777, '2024-02-04 17:58:59.605834', 30778, '2024-02-09 17:58:59.605834')\n",
            "(108, 31257, 10362, '2024-02-28 01:35:18.871846', 10362, '2024-02-28 10:35:18.871846', 30061, '2024-02-26 10:21:16.068738', 30062, '2024-03-16 10:21:16.068738')\n",
            "(109, 30938, 10504, '2024-02-17 05:57:53.609953', 10504, '2024-02-17 14:57:53.609953', 30263, '2024-02-20 03:05:57.410087', 30264, '2024-03-07 03:05:57.410087')\n",
            "(110, 30893, 10474, '2024-02-15 06:36:11.971660', 10474, '2024-02-15 21:36:11.971660', 30157, '2024-02-04 13:10:21.606074', 30158, '2024-03-01 13:10:21.606074')\n",
            "(111, 30253, 10697, '2024-02-08 19:15:02.733176', 10697, '2024-02-09 04:15:02.733176', 30977, '2024-02-02 15:19:58.462519', 30978, '2024-02-29 15:19:58.462519')\n",
            "(112, 30195, 10675, '2024-02-27 21:42:19.218475', 10675, '2024-02-28 07:42:19.218475', 30798, '2024-02-13 22:00:14.150711', 30799, '2024-02-16 22:00:14.150711')\n",
            "(113, 31279, 10469, '2024-02-11 15:42:23.956554', 10469, '2024-02-11 21:42:23.956554', 30158, '2024-02-19 10:20:24.858756', 30159, '2024-02-21 10:20:24.858756')\n",
            "(114, 31196, 10014, '2024-02-28 00:14:59.751097', 10014, '2024-02-28 13:14:59.751097', 30483, '2024-02-26 21:14:57.292376', 30484, '2024-03-03 21:14:57.292376')\n",
            "(115, 31796, 10779, '2024-02-05 19:59:08.136955', 10779, '2024-02-06 09:59:08.136955', 30177, '2024-02-27 02:12:57.381630', 30178, '2024-03-28 02:12:57.381630')\n",
            "(116, 30544, 10693, '2024-02-19 08:34:45.133940', 10693, '2024-02-19 21:34:45.133940', 30939, '2024-02-19 05:30:03.516128', 30940, '2024-03-12 05:30:03.516128')\n",
            "(117, 30403, 10772, '2024-02-18 00:42:06.196167', 10772, '2024-02-18 11:42:06.196167', 30697, '2024-02-03 09:55:48.107408', 30698, '2024-02-17 09:55:48.107408')\n",
            "(118, 31756, 10924, '2024-02-12 22:11:23.804794', 10924, '2024-02-13 13:11:23.804794', 30552, '2024-02-06 01:27:05.833907', 30553, '2024-02-14 01:27:05.833907')\n",
            "(119, 30811, 10993, '2024-02-20 01:17:12.357452', 10993, '2024-02-20 08:17:12.357452', 30317, '2024-02-04 11:52:00.734739', 30318, '2024-02-05 11:52:00.734739')\n",
            "(120, 31358, 10742, '2024-02-03 07:01:17.445142', 10742, '2024-02-03 13:01:17.445142', 30474, '2024-02-15 13:07:54.471828', 30475, '2024-03-15 13:07:54.471828')\n",
            "(121, 30432, 10288, '2024-02-08 13:55:08.646337', 10288, '2024-02-09 02:55:08.646337', 30282, '2024-02-27 20:57:04.482715', 30283, '2024-03-28 20:57:04.482715')\n",
            "(122, 30823, 10535, '2024-02-16 18:46:59.381450', 10535, '2024-02-17 00:46:59.381450', 30472, '2024-02-09 14:36:01.382981', 30473, '2024-02-19 14:36:01.382981')\n",
            "(123, 30323, 10792, '2024-02-08 09:29:15.718736', 10792, '2024-02-08 23:29:15.718736', 30812, '2024-02-05 10:14:58.812431', 30813, '2024-02-20 10:14:58.812431')\n",
            "(124, 30476, 10800, '2024-02-11 14:34:27.336020', 10800, '2024-02-11 21:34:27.336020', 30014, '2024-02-16 08:08:02.400779', 30015, '2024-02-27 08:08:02.400779')\n",
            "(125, 30785, 10620, '2024-02-25 19:44:17.318315', 10620, '2024-02-26 06:44:17.318315', 30638, '2024-02-19 10:35:18.128052', 30639, '2024-03-09 10:35:18.128052')\n",
            "[(101, 31558, 10697, '2024-02-23 11:49:59.011151', 10697, '2024-02-23 21:49:59.011151', 30569, '2024-03-01 01:16:53.347273', 30570, '2024-03-13 01:16:53.347273'), (102, 30499, 10421, '2024-02-28 05:44:09.322767', 10421, '2024-02-28 13:44:09.322767', 30015, '2024-02-19 19:45:11.470531', 30016, '2024-02-26 19:45:11.470531'), (103, 30746, 10043, '2024-02-02 03:28:10.748336', 10043, '2024-02-02 14:28:10.748336', 30719, '2024-02-27 10:15:46.362006', 30720, '2024-03-19 10:15:46.362006'), (104, 30808, 10886, '2024-02-09 13:43:43.356827', 10886, '2024-02-10 02:43:43.356827', 30236, '2024-02-12 23:43:25.556458', 30237, '2024-02-15 23:43:25.556458'), (105, 31719, 10317, '2024-02-15 16:34:57.684381', 10317, '2024-02-15 23:34:57.684381', 30444, '2024-02-16 19:16:54.871986', 30445, '2024-03-13 19:16:54.871986'), (106, 30482, 10349, '2024-02-16 10:34:29.234668', 10349, '2024-02-16 17:34:29.234668', 30372, '2024-02-13 06:39:49.909734', 30373, '2024-02-29 06:39:49.909734'), (107, 30746, 10873, '2024-02-16 10:38:55.567066', 10873, '2024-02-16 20:38:55.567066', 30777, '2024-02-04 17:58:59.605834', 30778, '2024-02-09 17:58:59.605834'), (108, 31257, 10362, '2024-02-28 01:35:18.871846', 10362, '2024-02-28 10:35:18.871846', 30061, '2024-02-26 10:21:16.068738', 30062, '2024-03-16 10:21:16.068738'), (109, 30938, 10504, '2024-02-17 05:57:53.609953', 10504, '2024-02-17 14:57:53.609953', 30263, '2024-02-20 03:05:57.410087', 30264, '2024-03-07 03:05:57.410087'), (110, 30893, 10474, '2024-02-15 06:36:11.971660', 10474, '2024-02-15 21:36:11.971660', 30157, '2024-02-04 13:10:21.606074', 30158, '2024-03-01 13:10:21.606074'), (111, 30253, 10697, '2024-02-08 19:15:02.733176', 10697, '2024-02-09 04:15:02.733176', 30977, '2024-02-02 15:19:58.462519', 30978, '2024-02-29 15:19:58.462519'), (112, 30195, 10675, '2024-02-27 21:42:19.218475', 10675, '2024-02-28 07:42:19.218475', 30798, '2024-02-13 22:00:14.150711', 30799, '2024-02-16 22:00:14.150711'), (113, 31279, 10469, '2024-02-11 15:42:23.956554', 10469, '2024-02-11 21:42:23.956554', 30158, '2024-02-19 10:20:24.858756', 30159, '2024-02-21 10:20:24.858756'), (114, 31196, 10014, '2024-02-28 00:14:59.751097', 10014, '2024-02-28 13:14:59.751097', 30483, '2024-02-26 21:14:57.292376', 30484, '2024-03-03 21:14:57.292376'), (115, 31796, 10779, '2024-02-05 19:59:08.136955', 10779, '2024-02-06 09:59:08.136955', 30177, '2024-02-27 02:12:57.381630', 30178, '2024-03-28 02:12:57.381630'), (116, 30544, 10693, '2024-02-19 08:34:45.133940', 10693, '2024-02-19 21:34:45.133940', 30939, '2024-02-19 05:30:03.516128', 30940, '2024-03-12 05:30:03.516128'), (117, 30403, 10772, '2024-02-18 00:42:06.196167', 10772, '2024-02-18 11:42:06.196167', 30697, '2024-02-03 09:55:48.107408', 30698, '2024-02-17 09:55:48.107408'), (118, 31756, 10924, '2024-02-12 22:11:23.804794', 10924, '2024-02-13 13:11:23.804794', 30552, '2024-02-06 01:27:05.833907', 30553, '2024-02-14 01:27:05.833907'), (119, 30811, 10993, '2024-02-20 01:17:12.357452', 10993, '2024-02-20 08:17:12.357452', 30317, '2024-02-04 11:52:00.734739', 30318, '2024-02-05 11:52:00.734739'), (120, 31358, 10742, '2024-02-03 07:01:17.445142', 10742, '2024-02-03 13:01:17.445142', 30474, '2024-02-15 13:07:54.471828', 30475, '2024-03-15 13:07:54.471828'), (121, 30432, 10288, '2024-02-08 13:55:08.646337', 10288, '2024-02-09 02:55:08.646337', 30282, '2024-02-27 20:57:04.482715', 30283, '2024-03-28 20:57:04.482715'), (122, 30823, 10535, '2024-02-16 18:46:59.381450', 10535, '2024-02-17 00:46:59.381450', 30472, '2024-02-09 14:36:01.382981', 30473, '2024-02-19 14:36:01.382981'), (123, 30323, 10792, '2024-02-08 09:29:15.718736', 10792, '2024-02-08 23:29:15.718736', 30812, '2024-02-05 10:14:58.812431', 30813, '2024-02-20 10:14:58.812431'), (124, 30476, 10800, '2024-02-11 14:34:27.336020', 10800, '2024-02-11 21:34:27.336020', 30014, '2024-02-16 08:08:02.400779', 30015, '2024-02-27 08:08:02.400779'), (125, 30785, 10620, '2024-02-25 19:44:17.318315', 10620, '2024-02-26 06:44:17.318315', 30638, '2024-02-19 10:35:18.128052', 30639, '2024-03-09 10:35:18.128052')]\n"
          ]
        }
      ]
    },
    {
      "cell_type": "code",
      "source": [
        "# execute the command to fetch all the data from the table emp\n",
        "cursor.execute(\"SELECT * FROM location limit 25\")\n",
        "\n",
        "# store all the fetched data in the ans variable\n",
        "ans = cursor.fetchall()\n",
        "\n",
        "# Since we have already selected all the data entries\n",
        "# using the \"SELECT *\" SQL command and stored them in\n",
        "# the ans variable, all we need to do now is to print\n",
        "# out the ans variable\n",
        "\n",
        "for i in ans:\n",
        "\tprint(i)\n",
        "\n",
        "print(ans)"
      ],
      "metadata": {
        "colab": {
          "base_uri": "https://localhost:8080/"
        },
        "id": "j_Fae2qvN6F7",
        "outputId": "67af817a-4ec3-435f-af9a-48a7aad68e6e"
      },
      "execution_count": 9,
      "outputs": [
        {
          "output_type": "stream",
          "name": "stdout",
          "text": [
            "(10000, 'Connolly-Lowe', 'Studio 0\\nHenry estates\\nIanmouth\\nL0S 1QP', 17, 13, 0, 25, 30740, '2024-02-25 21:58:16.629448', 30741, '2024-03-10 21:58:16.629448')\n",
            "(10001, 'Leonard-Garner', 'Studio 92l\\nCross neck\\nEast Abigailchester\\nS6G 4DY', 8, 83, 1, 21, 30028, '2024-02-04 08:44:50.069550', 30029, '2024-03-02 08:44:50.069550')\n",
            "(10002, 'Miller, Hall and Pickering', '47 Ward via\\nWest Leannefurt\\nTA87 6AJ', 14, 49, 0, 17, 30743, '2024-02-12 13:31:58.721218', 30744, '2024-02-26 13:31:58.721218')\n",
            "(10003, 'Stephenson LLC', 'Studio 70\\nGary crescent\\nAnnafort\\nM8 3WT', 7, 80, 1, 18, 30757, '2024-02-11 02:28:00.474061', 30758, '2024-02-22 02:28:00.474061')\n",
            "(10004, 'Davies, Dickinson and Martin', '538 Jasmine springs\\nNorth Zoeville\\nE8U 0ZN', 12, 89, 1, 23, 31931, '2024-02-16 04:56:25.320074', 31932, '2024-02-17 04:56:25.320074')\n",
            "(10005, 'Ward LLC', 'Studio 42\\nGordon flat\\nJamesbury\\nPO2R 2JR', 13, 34, 1, 28, 31750, '2024-02-04 13:53:03.364138', 31751, '2024-02-17 13:53:03.364138')\n",
            "(10006, 'Kirk, Macdonald and Roberts', 'Flat 4\\nPage drive\\nMiahfort\\nSA5B 0HJ', 5, 48, 1, 21, 30646, '2024-02-17 04:36:00.813642', 30647, '2024-02-25 04:36:00.813642')\n",
            "(10007, 'Hayes and Sons', 'Flat 81\\nLee motorway\\nRaymondland\\nPL9 7SR', 17, 31, 0, 22, 31665, '2024-02-07 10:45:00.779327', 31666, '2024-02-29 10:45:00.779327')\n",
            "(10008, 'Blake-Nash', 'Studio 7\\nCameron trail\\nNew Kevin\\nNR18 8AA', 1, 55, 1, 17, 30580, '2024-02-02 12:55:51.704827', 30581, '2024-02-15 12:55:51.704827')\n",
            "(10009, 'Jarvis, White and Walker', '129 Thompson corners\\nHunterland\\nSG8P 8JJ', 1, 4, 1, 23, 30517, '2024-02-18 19:06:40.756073', 30518, '2024-03-06 19:06:40.756073')\n",
            "(10010, \"Parker, Pritchard and O'Neill\", '8 Gilbert centers\\nNorth Gail\\nIG09 5ZU', 6, 45, 1, 21, 31777, '2024-02-20 16:50:58.471224', 31778, '2024-03-13 16:50:58.471224')\n",
            "(10011, 'Doherty LLC', '007 Abdul fords\\nPort Dorothyville\\nB6T 2AD', 10, 63, 0, 17, 31758, '2024-02-28 13:17:45.612181', 31759, '2024-03-28 13:17:45.612181')\n",
            "(10012, 'Cooper, Hall and Edwards', '56 Leach hollow\\nNew Joannaton\\nBH0 6TB', 0, 17, 0, 23, 31353, '2024-03-01 00:40:46.905762', 31354, '2024-03-22 00:40:46.905762')\n",
            "(10013, 'Smith-Johnson', 'Flat 78\\nMoss knoll\\nBruceside\\nE95 8TQ', 11, 45, 1, 16, 31076, '2024-02-24 05:16:36.103454', 31077, '2024-03-20 05:16:36.103454')\n",
            "(10014, 'Wells, Bates and Quinn', 'Studio 2\\nGerard parkways\\nGriffinside\\nG3 1SH', 13, 17, 1, 18, 30624, '2024-02-29 01:19:46.181902', 30625, '2024-03-09 01:19:46.181902')\n",
            "(10015, 'Lord-Williams', '94 Dominic fields\\nNew Stacey\\nN76 5ZY', 13, 33, 1, 15, 31440, '2024-02-14 16:30:18.823307', 31441, '2024-03-01 16:30:18.823307')\n",
            "(10016, 'Barnett and Sons', 'Flat 11\\nGraeme circles\\nNew Dawnborough\\nE4 7FD', 9, 10, 1, 20, 30740, '2024-02-26 11:54:50.172261', 30741, '2024-02-29 11:54:50.172261')\n",
            "(10017, 'Parker and Sons', 'Flat 71\\nRoberts manors\\nMichaeltown\\nW0K 2TB', 20, 38, 0, 18, 31400, '2024-02-11 11:53:26.021561', 31401, '2024-03-05 11:53:26.021561')\n",
            "(10018, 'Johnston-Jordan', 'Flat 6\\nKatherine radial\\nRosieborough\\nRH0 6YD', 8, 5, 1, 23, 31342, '2024-02-10 03:14:25.983108', 31343, '2024-02-26 03:14:25.983108')\n",
            "(10019, 'Shaw Ltd', 'Flat 9\\nVincent lakes\\nWest Frederick\\nB9J 8UJ', 19, 97, 0, 25, 31984, '2024-02-11 23:11:30.605656', 31985, '2024-02-27 23:11:30.605656')\n",
            "(10020, 'Brown LLC', 'Studio 67\\nKarl plains\\nPort Simonport\\nWS05 4RT', 14, 62, 1, 21, 31844, '2024-03-01 03:55:27.604144', 31845, '2024-03-15 03:55:27.604144')\n",
            "(10021, 'Townsend-Barker', '400 Green orchard\\nNorth Louise\\nN0S 0PD', 6, 24, 1, 27, 30660, '2024-02-12 01:08:30.632354', 30661, '2024-03-07 01:08:30.632354')\n",
            "(10022, 'Gregory Ltd', '60 Colin track\\nLewisshire\\nS22 4FW', 14, 53, 1, 16, 31049, '2024-02-19 21:25:55.936508', 31050, '2024-03-16 21:25:55.936508')\n",
            "(10023, 'Phillips and Sons', 'Flat 89G\\nCharlene point\\nMurphyland\\nL9K 6EE', 11, 8, 0, 26, 30103, '2024-02-22 06:48:00.348421', 30104, '2024-03-22 06:48:00.348421')\n",
            "(10024, 'Smith-Johnston', 'Flat 6\\nWebb road\\nWest Martynborough\\nM22 7WS', 2, 48, 0, 17, 30594, '2024-02-22 17:22:42.485266', 30595, '2024-03-15 17:22:42.485266')\n",
            "[(10000, 'Connolly-Lowe', 'Studio 0\\nHenry estates\\nIanmouth\\nL0S 1QP', 17, 13, 0, 25, 30740, '2024-02-25 21:58:16.629448', 30741, '2024-03-10 21:58:16.629448'), (10001, 'Leonard-Garner', 'Studio 92l\\nCross neck\\nEast Abigailchester\\nS6G 4DY', 8, 83, 1, 21, 30028, '2024-02-04 08:44:50.069550', 30029, '2024-03-02 08:44:50.069550'), (10002, 'Miller, Hall and Pickering', '47 Ward via\\nWest Leannefurt\\nTA87 6AJ', 14, 49, 0, 17, 30743, '2024-02-12 13:31:58.721218', 30744, '2024-02-26 13:31:58.721218'), (10003, 'Stephenson LLC', 'Studio 70\\nGary crescent\\nAnnafort\\nM8 3WT', 7, 80, 1, 18, 30757, '2024-02-11 02:28:00.474061', 30758, '2024-02-22 02:28:00.474061'), (10004, 'Davies, Dickinson and Martin', '538 Jasmine springs\\nNorth Zoeville\\nE8U 0ZN', 12, 89, 1, 23, 31931, '2024-02-16 04:56:25.320074', 31932, '2024-02-17 04:56:25.320074'), (10005, 'Ward LLC', 'Studio 42\\nGordon flat\\nJamesbury\\nPO2R 2JR', 13, 34, 1, 28, 31750, '2024-02-04 13:53:03.364138', 31751, '2024-02-17 13:53:03.364138'), (10006, 'Kirk, Macdonald and Roberts', 'Flat 4\\nPage drive\\nMiahfort\\nSA5B 0HJ', 5, 48, 1, 21, 30646, '2024-02-17 04:36:00.813642', 30647, '2024-02-25 04:36:00.813642'), (10007, 'Hayes and Sons', 'Flat 81\\nLee motorway\\nRaymondland\\nPL9 7SR', 17, 31, 0, 22, 31665, '2024-02-07 10:45:00.779327', 31666, '2024-02-29 10:45:00.779327'), (10008, 'Blake-Nash', 'Studio 7\\nCameron trail\\nNew Kevin\\nNR18 8AA', 1, 55, 1, 17, 30580, '2024-02-02 12:55:51.704827', 30581, '2024-02-15 12:55:51.704827'), (10009, 'Jarvis, White and Walker', '129 Thompson corners\\nHunterland\\nSG8P 8JJ', 1, 4, 1, 23, 30517, '2024-02-18 19:06:40.756073', 30518, '2024-03-06 19:06:40.756073'), (10010, \"Parker, Pritchard and O'Neill\", '8 Gilbert centers\\nNorth Gail\\nIG09 5ZU', 6, 45, 1, 21, 31777, '2024-02-20 16:50:58.471224', 31778, '2024-03-13 16:50:58.471224'), (10011, 'Doherty LLC', '007 Abdul fords\\nPort Dorothyville\\nB6T 2AD', 10, 63, 0, 17, 31758, '2024-02-28 13:17:45.612181', 31759, '2024-03-28 13:17:45.612181'), (10012, 'Cooper, Hall and Edwards', '56 Leach hollow\\nNew Joannaton\\nBH0 6TB', 0, 17, 0, 23, 31353, '2024-03-01 00:40:46.905762', 31354, '2024-03-22 00:40:46.905762'), (10013, 'Smith-Johnson', 'Flat 78\\nMoss knoll\\nBruceside\\nE95 8TQ', 11, 45, 1, 16, 31076, '2024-02-24 05:16:36.103454', 31077, '2024-03-20 05:16:36.103454'), (10014, 'Wells, Bates and Quinn', 'Studio 2\\nGerard parkways\\nGriffinside\\nG3 1SH', 13, 17, 1, 18, 30624, '2024-02-29 01:19:46.181902', 30625, '2024-03-09 01:19:46.181902'), (10015, 'Lord-Williams', '94 Dominic fields\\nNew Stacey\\nN76 5ZY', 13, 33, 1, 15, 31440, '2024-02-14 16:30:18.823307', 31441, '2024-03-01 16:30:18.823307'), (10016, 'Barnett and Sons', 'Flat 11\\nGraeme circles\\nNew Dawnborough\\nE4 7FD', 9, 10, 1, 20, 30740, '2024-02-26 11:54:50.172261', 30741, '2024-02-29 11:54:50.172261'), (10017, 'Parker and Sons', 'Flat 71\\nRoberts manors\\nMichaeltown\\nW0K 2TB', 20, 38, 0, 18, 31400, '2024-02-11 11:53:26.021561', 31401, '2024-03-05 11:53:26.021561'), (10018, 'Johnston-Jordan', 'Flat 6\\nKatherine radial\\nRosieborough\\nRH0 6YD', 8, 5, 1, 23, 31342, '2024-02-10 03:14:25.983108', 31343, '2024-02-26 03:14:25.983108'), (10019, 'Shaw Ltd', 'Flat 9\\nVincent lakes\\nWest Frederick\\nB9J 8UJ', 19, 97, 0, 25, 31984, '2024-02-11 23:11:30.605656', 31985, '2024-02-27 23:11:30.605656'), (10020, 'Brown LLC', 'Studio 67\\nKarl plains\\nPort Simonport\\nWS05 4RT', 14, 62, 1, 21, 31844, '2024-03-01 03:55:27.604144', 31845, '2024-03-15 03:55:27.604144'), (10021, 'Townsend-Barker', '400 Green orchard\\nNorth Louise\\nN0S 0PD', 6, 24, 1, 27, 30660, '2024-02-12 01:08:30.632354', 30661, '2024-03-07 01:08:30.632354'), (10022, 'Gregory Ltd', '60 Colin track\\nLewisshire\\nS22 4FW', 14, 53, 1, 16, 31049, '2024-02-19 21:25:55.936508', 31050, '2024-03-16 21:25:55.936508'), (10023, 'Phillips and Sons', 'Flat 89G\\nCharlene point\\nMurphyland\\nL9K 6EE', 11, 8, 0, 26, 30103, '2024-02-22 06:48:00.348421', 30104, '2024-03-22 06:48:00.348421'), (10024, 'Smith-Johnston', 'Flat 6\\nWebb road\\nWest Martynborough\\nM22 7WS', 2, 48, 0, 17, 30594, '2024-02-22 17:22:42.485266', 30595, '2024-03-15 17:22:42.485266')]\n"
          ]
        }
      ]
    }
  ]
}