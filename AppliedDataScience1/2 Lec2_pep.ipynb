{
 "cells": [
  {
   "cell_type": "markdown",
   "metadata": {},
   "source": [
    "\n",
    "\n",
    "# Good programming style: PEP-8 coding standards\n",
    "\n",
    "\n",
    "- Writing clean and consistent code is good practice.\n",
    "- It is important so that *others* can read and understand your code. It is of utmost importance when you work in a coding team.\n",
    "- Be aware that *others* can also be you after a few weeks.\n",
    "- You will be assessed on the quality of your coding.\n",
    "- We will follow the PEP-8 recommendations. (Document 8 of the Python Enhancement Proposals - Style Guide for Python code). \n",
    "- Link: [PEP-8](https://www.python.org/dev/peps/pep-0008/). Have a look and take on board recommendations relvant for your coding.\n",
    "\n"
   ]
  },
  {
   "cell_type": "markdown",
   "metadata": {},
   "source": [
    "### Code layout\n",
    "#### White spaces\n",
    "\n",
    "- White spaces can make a code more readable. \n",
    "- But do not overdo it.\n",
    "\n",
    "\n",
    "One white space after commas\n"
   ]
  },
  {
   "cell_type": "code",
   "execution_count": 1,
   "metadata": {},
   "outputs": [],
   "source": [
    "# do this\n",
    "a = [1, 2, 3]\n",
    "\n",
    "# not this\n",
    "a = [ 1 , 2 , 3]\n",
    "# and not this\n",
    "a = [1,2,3]"
   ]
  },
  {
   "cell_type": "markdown",
   "metadata": {},
   "source": [
    "One white space to follow a colon, none to proceed it."
   ]
  },
  {
   "cell_type": "code",
   "execution_count": null,
   "metadata": {},
   "outputs": [],
   "source": [
    "# do this\n",
    "if condition: do_something()\n",
    "    \n",
    "# not this\n",
    "if condition : do_something()\n",
    "    \n",
    "# exception: slicing\n",
    "my_sub_list = my_list[2:5]\n"
   ]
  },
  {
   "cell_type": "markdown",
   "metadata": {},
   "source": [
    "Surround assignment `=` with one space on each side. "
   ]
  },
  {
   "cell_type": "code",
   "execution_count": null,
   "metadata": {},
   "outputs": [],
   "source": [
    "# do this\n",
    "a = b+c\n",
    "\n",
    "# not this\n",
    "a=b+c\n",
    "a =b+c"
   ]
  },
  {
   "cell_type": "markdown",
   "metadata": {},
   "source": [
    "The same rule applies to comparison operators: `<, >, <=, >=, ==, !=` "
   ]
  },
  {
   "cell_type": "code",
   "execution_count": null,
   "metadata": {},
   "outputs": [],
   "source": [
    "# do this\n",
    "if a+b**3 < a*b:\n",
    "    do something"
   ]
  },
  {
   "cell_type": "markdown",
   "metadata": {},
   "source": [
    "**One or no** white space before and after binary operators (`+, -, \\*, /, \\*\\*). \n",
    "\n",
    "This can be used to make the priority of calculations visible,"
   ]
  },
  {
   "cell_type": "code",
   "execution_count": null,
   "metadata": {},
   "outputs": [],
   "source": [
    "# padding of binary operators\n",
    "# do this\n",
    "z = x * y\n",
    "\n",
    "# or this\n",
    "z = x*y\n",
    "\n",
    "# not this\n",
    "z = x *y\n",
    "\n",
    "# structuring of formula putting no white space around highest priority operator\n",
    "z = x * y**2\n",
    "s = 3.0 + a*t**2"
   ]
  },
  {
   "cell_type": "markdown",
   "metadata": {},
   "source": [
    "No white spaces around `=` signs for keyword arguments"
   ]
  },
  {
   "cell_type": "code",
   "execution_count": null,
   "metadata": {},
   "outputs": [],
   "source": [
    "result = my_function(x, y, one_arg=324, another_arg=\"Title\")"
   ]
  },
  {
   "cell_type": "markdown",
   "metadata": {},
   "source": [
    "#### Indentations\n",
    "\n",
    "Python uses indentations to define blocks of code, e.g.,\n",
    "- in a loop\n",
    "- following a conditional statement (if ... elif ... else blocks)\n",
    "- function definitions\n",
    "\n",
    "The PEP-8 recommendation is to use **spaces** not **tabs**. Four spaces per indent level.\n",
    "\n",
    "Example\n",
    "\n",
    "`for i in iterator:`\n",
    "\n",
    "`....print(i)`   # every dot represents one space\n",
    "\n",
    "\n",
    "`....for j in another_iterator:`\n",
    "\n",
    "`........print(j)`\n",
    "\n",
    "By default in `Spyder` four spaces are inserted when the `tab` key is hit.\n",
    "\n",
    "- Note that you **can not** mix tabs and spaces in Python code\n",
    "- If you start working on code given to you using tabs continue doing so.\n"
   ]
  },
  {
   "cell_type": "markdown",
   "metadata": {},
   "source": [
    "#### Continuation lines\n",
    "\n",
    "- Often you will have very long lines of code. This is hard to read. PEP-8 recommends to limit the line length to 79 characters (shown in spyder). \n",
    "- Use continuation lines for longer lines."
   ]
  },
  {
   "cell_type": "code",
   "execution_count": null,
   "metadata": {},
   "outputs": [],
   "source": [
    "result = some_function(arg1, arg2, arg3, arg4, arg5, arg6, arg7, arg8, arg9, arg10, arg11, arg12)"
   ]
  },
  {
   "cell_type": "markdown",
   "metadata": {},
   "source": [
    "We can split these over multiple lines like"
   ]
  },
  {
   "cell_type": "code",
   "execution_count": null,
   "metadata": {},
   "outputs": [],
   "source": [
    "result = some_function(arg1, arg2, arg3, arg4, arg5, arg6, \n",
    "                       arg7, arg8, arg9, arg10, arg11, arg12)"
   ]
  },
  {
   "cell_type": "markdown",
   "metadata": {},
   "source": [
    "Note the second line is vertially aligned with the character following the opening bracket.\n",
    "\n",
    "- Python will treat lines below an open bracket and quote as continuation lines.\n",
    "- Often convenient, but can also lead to hard to debug errors some lines down the code. *If you get a mysterious error message look above for open brackets or quotes*.\n",
    "- For code in general one can use a backslash (`\\`) to continue a line.\n",
    "\n",
    "Another approach is hanging indentations"
   ]
  },
  {
   "cell_type": "code",
   "execution_count": null,
   "metadata": {},
   "outputs": [],
   "source": [
    "result = some_function(\n",
    "    arg1, arg2, arg3, arg4, arg5, arg6, \n",
    "    arg7, arg8, arg9, arg10, arg11, arg12)"
   ]
  },
  {
   "cell_type": "markdown",
   "metadata": {},
   "source": [
    "- Here the indent is just four spaces. \n",
    "- Care must be taken in function definitions because it can cause confusion. Example"
   ]
  },
  {
   "cell_type": "code",
   "execution_count": null,
   "metadata": {},
   "outputs": [],
   "source": [
    "result = some_function(\n",
    "    arg1, arg2, arg3, arg4, arg5, arg6, \n",
    "    arg7, arg8, arg9, arg10, arg11, arg12)\n",
    "    return arg1+arg2+arg3"
   ]
  },
  {
   "cell_type": "markdown",
   "metadata": {},
   "source": [
    "Solution: add another indent level and/or insert an empty line."
   ]
  },
  {
   "cell_type": "code",
   "execution_count": null,
   "metadata": {},
   "outputs": [],
   "source": [
    "result = some_function(\n",
    "        arg1, arg2, arg3, arg4, arg5, arg6, \n",
    "        arg7, arg8, arg9, arg10, arg11, arg12)\n",
    "    return arg1+arg2+arg3"
   ]
  },
  {
   "cell_type": "markdown",
   "metadata": {},
   "source": [
    "Two good solutions if you need continuation lines for logical test for `if` statements."
   ]
  },
  {
   "cell_type": "code",
   "execution_count": null,
   "metadata": {},
   "outputs": [],
   "source": [
    "# extra indent\n",
    "if very_long_expression_for_condition1 and      \\\n",
    "        very_long_expression_for_condition2:\n",
    "    do_this()\n",
    "\n",
    "\n",
    "if very_long_expression_for_condition1 and     \\\n",
    "    very_long_expression_for_condition2:\n",
    "    # A comment or an empty line to break up the code block\n",
    "    do_this()\n"
   ]
  },
  {
   "cell_type": "markdown",
   "metadata": {},
   "source": [
    "Empty lines are also a good way of structuring code.\n",
    "\n",
    "If you want to put the closing bracket on its own line\n",
    "- align with the first non-space character on previous line\n",
    "- or align with the first character of the first line\n",
    "\n",
    "There are many ways to indent continuations lines. We leave most of this to your taste. Only two rules\n",
    "- continuation lines need to be indented\n",
    "- differentiate continuation lines from other parts of the program (as above)"
   ]
  },
  {
   "cell_type": "markdown",
   "metadata": {},
   "source": [
    "Line breaks of binary operators should be *before* the operator"
   ]
  },
  {
   "cell_type": "code",
   "execution_count": null,
   "metadata": {},
   "outputs": [],
   "source": [
    "some_result = (a       # brackets are used to make continuation lines\n",
    "               + b\n",
    "               + c\n",
    "               + d)\n",
    "\n",
    "# alternative\n",
    "some_result = a \\\n",
    "               + b \\\n",
    "               + c \\\n",
    "               + d\n"
   ]
  },
  {
   "cell_type": "markdown",
   "metadata": {},
   "source": [
    "Make good use of empty lines, but do not overdo it.\n",
    "- They can be used to indicate coherent sections (e.g. carrying out one task)\n",
    "- Two empty lines before and after definitions of functions and classes (more on classes later this semester)"
   ]
  },
  {
   "cell_type": "markdown",
   "metadata": {},
   "source": [
    "#### Import of modules\n",
    "\n",
    "Modules are used to import added functionallity into a program and its namespace. They are made available through import lines *at the start of the program*. Often it is best practice to use the dot notation."
   ]
  },
  {
   "cell_type": "code",
   "execution_count": null,
   "metadata": {},
   "outputs": [],
   "source": [
    "import numpy    # powerful mathematics module\n",
    "\n",
    "x = numpy.pi / 2.0\n",
    "y = numpy.sin(x)   # reminder trigonometric function use radians\n",
    "print (x, y)"
   ]
  },
  {
   "cell_type": "markdown",
   "metadata": {},
   "source": [
    "Module names can be modified"
   ]
  },
  {
   "cell_type": "code",
   "execution_count": null,
   "metadata": {},
   "outputs": [],
   "source": [
    "import numpy as np\n",
    "\n",
    "x = np.pi / 2.0\n",
    "y = np.sin(x)\n",
    "print (x, y)"
   ]
  },
  {
   "cell_type": "markdown",
   "metadata": {},
   "source": [
    "An alternative is to import specific functions and constants from a module"
   ]
  },
  {
   "cell_type": "code",
   "execution_count": null,
   "metadata": {},
   "outputs": [],
   "source": [
    "from numpy import sin, cos, tan, pi\n",
    "\n",
    "x = pi / 2.0\n",
    "y = sin(x)\n",
    "print (x, y)"
   ]
  },
  {
   "cell_type": "markdown",
   "metadata": {},
   "source": [
    "A wildcard `from` import is a **no-no**. It makes programs very confusing because it is not clear what names are in the namespace. An import from one module can overwrite names from a previous import."
   ]
  },
  {
   "cell_type": "code",
   "execution_count": null,
   "metadata": {},
   "outputs": [],
   "source": [
    "# DON'T do this at home\n",
    "from numpy import *"
   ]
  },
  {
   "cell_type": "markdown",
   "metadata": {},
   "source": [
    "Do one import per line"
   ]
  },
  {
   "cell_type": "code",
   "execution_count": null,
   "metadata": {},
   "outputs": [],
   "source": [
    "import numpy as np\n",
    "import os   # a module to make commands of the operating system available"
   ]
  },
  {
   "cell_type": "markdown",
   "metadata": {},
   "source": [
    "Group module imports together separated by blanks.Order them\n",
    "1. Standard libraries (coming with anaconda)\n",
    "2. Third party libraries/local libraries/your own custom made modules"
   ]
  },
  {
   "cell_type": "code",
   "execution_count": null,
   "metadata": {},
   "outputs": [],
   "source": [
    "import os   # a module to interact with the operating system\n",
    "import sys  # another module for interacting\n",
    "\n",
    "import numpy as np\n",
    "\n",
    "import my_class as mcl"
   ]
  },
  {
   "cell_type": "markdown",
   "metadata": {},
   "source": [
    "#### Naming conventions\n",
    "\n",
    "- How you chose names for variables and functions is important.\n",
    "- Good variable names contribute to a well commented program\n",
    "- Better use `velocity` not `v` and definitely not `a, b, c, d, e, ......x, y, z`\n",
    "- A variety of styles is acceptable. Important: *consistency*.\n",
    "\n",
    "- `lowercasewithoutunderscores`\n",
    "- `lowercase_with_underscores`. (My preferred one). Note that this can be mixed with simple names without underscores).\n",
    "- `UPPERCASEWITHOUTUNDERSCORES` (beloved by Fortran programmers)\n",
    "- `UPPERCASE_WITH_UNDERSCORES`. (can also be mixed with simple names)\n",
    "- `CamelCase`  (because of the bumpy nature of the names)\n",
    "- ` mixedCase` (note initial lower case)\n",
    "- `Capitalised_With_Underscores`\n",
    "\n",
    "Really bad: combine use of upper case and lower case of the same name, e.g. `ABC` and `abc`. These are *different* names for a *Python interpreter* but often not for *humans*\n",
    "\n",
    "Special conventions:\n",
    "- function names should be lowercase even if you use uppercase etc.\n",
    "- module names should be short and lowercase\n",
    "- class names should be CamelCase."
   ]
  },
  {
   "cell_type": "markdown",
   "metadata": {},
   "source": [
    "#### Comments\n",
    "\n",
    "- Comments are an important part of every program.\n",
    "- Start a a comment with a hash tag\n",
    "\n",
    "Three types of comments:\n",
    "1. Inline comments\n",
    "2. Block comments\n",
    "3. Doc strings"
   ]
  },
  {
   "cell_type": "code",
   "execution_count": null,
   "metadata": {},
   "outputs": [],
   "source": [
    "print(\"Hello World!\")    # An inline comment"
   ]
  },
  {
   "cell_type": "markdown",
   "metadata": {},
   "source": [
    "Inline comments can clutter the code if used too extensively. Make sure they are well separated from the code.\n",
    "\n",
    "If more/longer comments are needed use block comments"
   ]
  },
  {
   "cell_type": "code",
   "execution_count": null,
   "metadata": {},
   "outputs": [],
   "source": [
    "for i in range(20):\n",
    "    # This is a block comment.\n",
    "    # Notice how it is at the same level of\n",
    "    # indentation as the code it refers to.\n",
    "    print(i)"
   ]
  },
  {
   "cell_type": "markdown",
   "metadata": {},
   "source": [
    "Alternative you can use a docstring for a block comments - note that this is not its main purpose."
   ]
  },
  {
   "cell_type": "code",
   "execution_count": null,
   "metadata": {},
   "outputs": [],
   "source": [
    "for i in range(20):\n",
    "    \"\"\" This is a block commen.\n",
    "    Notice how it is at the same level of\n",
    "    indentation as the code it refers to.\n",
    "    \"\"\"\n",
    "    print(i)"
   ]
  },
  {
   "cell_type": "markdown",
   "metadata": {},
   "source": [
    "Docstrings are the comment of choice at the start of a function or a module. Every function should have a docstring at their start.\n"
   ]
  },
  {
   "cell_type": "code",
   "execution_count": null,
   "metadata": {},
   "outputs": [],
   "source": [
    "def print_my_name():\n",
    "    \"\"\" This function simply \n",
    "    prints my name\n",
    "    \"\"\"\n",
    "    \n",
    "    print (\"Ralf\")"
   ]
  },
  {
   "cell_type": "markdown",
   "metadata": {},
   "source": [
    "This docstring can be accessed by using the `help` function."
   ]
  },
  {
   "cell_type": "code",
   "execution_count": null,
   "metadata": {},
   "outputs": [],
   "source": [
    "help(print_my_name)"
   ]
  },
  {
   "cell_type": "code",
   "execution_count": null,
   "metadata": {},
   "outputs": [],
   "source": [
    "import numpy as np\n",
    "\n",
    "help (np.sin)\n"
   ]
  },
  {
   "cell_type": "markdown",
   "metadata": {},
   "source": [
    "What should a good docstring contain?\n",
    "\n",
    "- Information on the purpose of the function. The method used if appropriate.\n",
    "- Arguments of the function. Information on the type expected if required.\n",
    "- Values returned\n",
    "- Refer to [PEP-257](https://www.python.org/dev/peps/pep-0257/) \"Docstring Conventions\" for more guidance."
   ]
  },
  {
   "cell_type": "markdown",
   "metadata": {},
   "source": [
    "#### Summary of the most important rules\n",
    "[Good coding style guide](https://herts.instructure.com/files/7797387/download?download_frd=1)"
   ]
  },
  {
   "cell_type": "code",
   "execution_count": null,
   "metadata": {},
   "outputs": [],
   "source": []
  }
 ],
 "metadata": {
  "kernelspec": {
   "display_name": "Python 3 (ipykernel)",
   "language": "python",
   "name": "python3"
  },
  "language_info": {
   "codemirror_mode": {
    "name": "ipython",
    "version": 3
   },
   "file_extension": ".py",
   "mimetype": "text/x-python",
   "name": "python",
   "nbconvert_exporter": "python",
   "pygments_lexer": "ipython3",
   "version": "3.9.13"
  },
  "name": "_merged_merged_merged_merged_merged"
 },
 "nbformat": 4,
 "nbformat_minor": 1
}
