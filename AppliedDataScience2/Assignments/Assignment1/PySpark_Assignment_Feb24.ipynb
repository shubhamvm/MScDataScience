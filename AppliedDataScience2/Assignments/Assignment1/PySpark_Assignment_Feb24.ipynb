{
  "nbformat": 4,
  "nbformat_minor": 0,
  "metadata": {
    "colab": {
      "provenance": []
    },
    "kernelspec": {
      "name": "python3",
      "display_name": "Python 3"
    },
    "language_info": {
      "name": "python"
    }
  },
  "cells": [
    {
      "cell_type": "markdown",
      "source": [
        "# CW1 - Amazon Bestsellers Analysis with PySpark\n",
        "\n",
        "\n",
        "In this assignment you will be tasked with exploring a dataset containing the Top 50 best-selling books from Amazon between 2009-2019. You should complete the exercises presented in the Google Colab Notebook below. This assignment will be graded using CodeGrade.\n",
        "\n",
        "Exercise 1 (5 Marks): Find the authors with the most entries in the bestseller’s lists, find the number of unique titles for each, the average rating, total number of reviews, and highest position in the ranking.\n",
        "\n",
        "Exercise 2 (5 Marks): For fiction and non-fiction books, find the average and total number of reviews for the top 10, 25, and 50 of the bestsellers lists, in each year.\n",
        "\n",
        "Exercise 3 (10 Marks): For each year, find the average price of a fiction and non-fiction book in the top 10, 25 and 50 of the bestsellers lists.\n",
        "\n",
        "Exercise 4 (10 Marks): For free books—where the price is zero—fine the number of unique titles and authors. Compare the average rating and number of reviews in each year between free and priced books.\n"
      ],
      "metadata": {
        "id": "04k66G6XOD3o"
      }
    },
    {
      "cell_type": "code",
      "execution_count": null,
      "metadata": {
        "id": "I6b460JnN-7H"
      },
      "outputs": [],
      "source": [
        "# CodeGrade Tag Init1\n",
        "\n",
        "from google.colab import drive\n",
        "drive.mount('/content/drive')"
      ]
    },
    {
      "cell_type": "code",
      "source": [
        "# CodeGrade Tag Init2\n",
        "\n",
        "# Apache Spark uses Java, so first we must install that\n",
        "!apt-get install openjdk-8-jdk-headless -qq > /dev/null\n",
        "\n",
        "# Unpack Spark from google drive\n",
        "!tar xzf /content/drive/MyDrive/spark-3.3.0-bin-hadoop3.tgz\n",
        "\n",
        "# Set up environment variables\n",
        "import os\n",
        "os.environ[\"JAVA_HOME\"] = \"/usr/lib/jvm/java-8-openjdk-amd64\"\n",
        "os.environ[\"SPARK_HOME\"] = \"spark-3.3.0-bin-hadoop3\"\n",
        "\n",
        "# Install findspark, which helps python locate the psyspark module files\n",
        "!pip install -q findspark\n",
        "import findspark\n",
        "findspark.init()"
      ],
      "metadata": {
        "id": "Ya7WJUs2PwZF"
      },
      "execution_count": null,
      "outputs": []
    },
    {
      "cell_type": "code",
      "source": [
        "# Finally, we initialse a \"SparkSession\", which handles the computations\n",
        "from pyspark.sql import SparkSession\n",
        "spark = SparkSession.builder\\\n",
        "        .master(\"local\")\\\n",
        "        .appName(\"Colab\")\\\n",
        "        .config('spark.ui.port', '4050')\\\n",
        "        .getOrCreate()\n",
        "\n",
        "from pyspark.sql import functions as F"
      ],
      "metadata": {
        "id": "qoS2qInhP_jy"
      },
      "execution_count": null,
      "outputs": []
    },
    {
      "cell_type": "code",
      "source": [
        "# Load the AmazonBooks.csv file into your notebook as a pyspark dataframe\n",
        "\n",
        "CsvPath = '/content/AmazonBooks.csv'\n",
        "\n",
        "# Load .csv with header, ',' seperators and inferred schema\n",
        "BooksDF = spark.read\\\n",
        "                     .option('header', 'True')\\\n",
        "                     .option('sep', ',')\\\n",
        "                     .option('inferSchema', 'True')\\\n",
        "                     .csv(CsvPath)\n",
        "\n"
      ],
      "metadata": {
        "id": "u_sX_aYiGMrH"
      },
      "execution_count": null,
      "outputs": []
    },
    {
      "cell_type": "code",
      "source": [
        "# CodeGrade Tag Init3\n",
        "\n",
        "BooksDF.printSchema()\n",
        "BooksDF.show()"
      ],
      "metadata": {
        "id": "kS0QdyQjG8yK"
      },
      "execution_count": null,
      "outputs": []
    },
    {
      "cell_type": "code",
      "source": [
        "# pyspark.sql.functions countains all the transformations and actions you will\n",
        "# need\n",
        "from pyspark.sql import functions as F"
      ],
      "metadata": {
        "id": "TuAo0k6bG0Zq"
      },
      "execution_count": null,
      "outputs": []
    },
    {
      "cell_type": "markdown",
      "source": [
        "# Exercise 1\n",
        "\n",
        "Find the authors with the most entries in the bestsellers lists. Find the number of unique titles for each author, the average rating, total number of reviews and highest position in the ranking. Create a dataframe where the columns are:\n",
        "\n",
        "Author, Number of titles, Average Rating, Total Ratings, Highest Position\n",
        "\n",
        "Sort by the number of titles in descending order."
      ],
      "metadata": {
        "id": "nuSgzl6DZ33Z"
      }
    },
    {
      "cell_type": "code",
      "source": [
        "# CodeGrade Tag Ex1\n",
        "### Create a dataframe that contains, for each author, the number of unique\n",
        "### books, the average rating, the number of reviews and the highest rank reached\n",
        "\n"
      ],
      "metadata": {
        "id": "AzsBLIkNgdHm"
      },
      "execution_count": null,
      "outputs": []
    },
    {
      "cell_type": "markdown",
      "source": [
        "# Exercise 2\n",
        "\n",
        "For fiction and non-fiction books, find the average rating, the average number of reviews, the total number of reviews and the average price in the bestsellers list, for each year. Create a dataframe where the columns are:\n",
        "\n",
        "Year, Genre, Average Rating, Average Number of Reviews, Total Reviews, Average Price,\n",
        "\n",
        "Sort by the year in ascending order."
      ],
      "metadata": {
        "id": "l_DwW41dX9aT"
      }
    },
    {
      "cell_type": "code",
      "source": [
        "# CodeGrade Tag Ex2\n",
        "### Create a dataframe that shows the average user rating, average number of\n",
        "### reviews, total number of reviews and average price in each year of the\n",
        "### bestsellers list\n",
        "\n"
      ],
      "metadata": {
        "id": "Uu7Y9M_7fFM6"
      },
      "execution_count": null,
      "outputs": []
    },
    {
      "cell_type": "markdown",
      "source": [
        "# Exercise 1\n",
        "\n",
        "For each year, find the average price of fiction and non-fiction books in the top 10, 25 and 50 of the bestsellers list. Make a dataframe where the columns are:\n",
        "\n",
        "Year, Genre, Avg Price in Top 10, Avg Price in Top 25 and Avg Price in Top 50\n",
        "\n",
        "Sort by the year in ascending order."
      ],
      "metadata": {
        "id": "WIEZ21wyUn8g"
      }
    },
    {
      "cell_type": "code",
      "source": [
        "# CodeGrade Tag Ex3\n",
        "### Create a DataFrame that shows the average price for books in the top 10, 25\n",
        "### and 50 of the bestsellers list, for each year in the dataset\n",
        "\n"
      ],
      "metadata": {
        "id": "LHaC8-59G3Hr"
      },
      "execution_count": null,
      "outputs": []
    },
    {
      "cell_type": "markdown",
      "source": [
        "# Exercise 4\n",
        "\n",
        "For free books, find the total number of unique title and author, store these as variables called ```free_titles``` and ```free_authors```.\n",
        "\n",
        "Compare the average rating and number of reviews for free and priced books, in each year of the dataset. Create a dataframe where the columns are:\n",
        "\n",
        "Year, Avg Rating Free, Avg Rating Priced, Total Ratings Free, Total Ratings Priced\n",
        "\n",
        "Sort by the year in ascending order."
      ],
      "metadata": {
        "id": "ciUez_m4aYmO"
      }
    },
    {
      "cell_type": "code",
      "source": [
        "# CodeGrade Tag Ex4a\n",
        "### Find the number of free books in the dataset and the number of authors\n",
        "### who wrote them\n",
        "\n"
      ],
      "metadata": {
        "id": "VXReWf6GmhIw"
      },
      "execution_count": null,
      "outputs": []
    },
    {
      "cell_type": "code",
      "source": [
        "# CodeGrade Tag Exb\n",
        "### Create a dataframe that has, for each year, the average rating and number of\n",
        "### user reviews for free books and priced books\n",
        "\n"
      ],
      "metadata": {
        "id": "shnUw1VXhbCJ"
      },
      "execution_count": null,
      "outputs": []
    }
  ]
}