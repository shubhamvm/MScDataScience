{
  "cells": [
    {
      "cell_type": "markdown",
      "metadata": {
        "id": "nQrpKRkEIBB5"
      },
      "source": [
        "# Applied Data Science 2 - Keras Assignment - 2023A\n",
        "\n",
        "In this assignment you will be building a script to classify movie posters. The assignment is broken up into sections and you need to complete each section successively. The sections are:\n",
        "\n",
        "1. Data Processing\n",
        "2. Model Definition\n",
        "3. Model Training\n",
        "4. Model Evaluation\n",
        "\n",
        "In addition to this coding exercise, you will also need to write a 1-2 page report analysing and critically evaluating you models results."
      ]
    },
    {
      "cell_type": "code",
      "execution_count": null,
      "metadata": {
        "id": "eBNRzib8voMm"
      },
      "outputs": [],
      "source": [
        "# Enter your module imports here, some modules are already provided\n",
        "\n",
        "import numpy as np\n",
        "import matplotlib.pyplot as plt\n",
        "import tensorflow as tf\n",
        "from tensorflow import keras\n",
        "import os\n",
        "import pathlib\n",
        "import pandas as pd\n",
        "from sklearn import model_selection"
      ]
    },
    {
      "cell_type": "code",
      "execution_count": null,
      "metadata": {
        "id": "MGHk085OWCT_"
      },
      "outputs": [],
      "source": [
        "# CodeGrade Tag Init1\n",
        "# Do not edit, remove, or copy this cell\n",
        "\n",
        "from google.colab import drive\n",
        "drive.mount('/content/drive')"
      ]
    },
    {
      "cell_type": "markdown",
      "metadata": {
        "id": "PN-7QYYKKCOH"
      },
      "source": [
        "# Data Processing\n",
        "\n"
      ]
    },
    {
      "cell_type": "code",
      "source": [
        "# CodeGrade Tag Init2\n",
        "# Do not edit, remove, or copy this cell\n",
        "\n",
        "# This code will copy the images from your google drive into the colab file\n",
        "# storage. Make sure the dataset is unzipped in your drive folder.\n",
        "! mkdir /tmp/Multi_Label_dataset\n",
        "! rsync -ah --info=progress2 /content/drive/MyDrive/Multi_Label_dataset/Images /tmp/Multi_Label_dataset/"
      ],
      "metadata": {
        "id": "lpBXZd1pRXs2"
      },
      "execution_count": null,
      "outputs": []
    },
    {
      "cell_type": "code",
      "execution_count": null,
      "metadata": {
        "id": "9yWqczq8KGI6"
      },
      "outputs": [],
      "source": [
        "# CodeGrade Tag DataProc\n",
        "# Do not edit, remove, or copy this cell\n",
        "\n",
        "# Load the csv with the sample IDs and genres\n",
        "csv_loc = \"/content/drive/MyDrive/Multi_Label_dataset/train.csv\"\n",
        "dataset = pd.read_csv(\"/content/drive/MyDrive/Multi_Label_dataset/train.csv\")\n",
        "\n",
        "# Split the dataset into training and testing\n",
        "data_train, data_test = model_selection.train_test_split(dataset, test_size=0.2)\n",
        "\n",
        "# Convert the labels to arrays\n",
        "labels_train = np.array(data_train.drop(['Id', 'Genre'],axis=1)).astype('float32')\n",
        "labels_test = np.array(data_test.drop(['Id', 'Genre'],axis=1)).astype('float32')\n",
        "\n",
        "# List of the genre names\n",
        "genres = np.array(data_train.drop(['Id', 'Genre'],axis=1).columns)\n",
        "\n",
        "# Build the file locations for the images\n",
        "img_loc = \"/tmp/Multi_Label_dataset/Images\"\n",
        "\n",
        "img_locs_train = np.array([[img_loc + '/' + id + '.jpg' for id in data_train['Id']]])\n",
        "img_locs_test = [[img_loc + '/' + id + '.jpg' for id in data_test['Id']]]\n",
        "\n",
        "\n",
        "# This function is provided to read in the image files from the folder\n",
        "def parse_image(filename, label):\n",
        "  image = tf.io.read_file(filename)\n",
        "  image = tf.io.decode_jpeg(image)\n",
        "  return image, label\n",
        "\n",
        "# Create the initial datasets\n",
        "train_list_ds = tf.data.Dataset.from_tensor_slices((img_locs_train[0], labels_train))\n",
        "test_list_ds = tf.data.Dataset.from_tensor_slices((img_locs_test[0], labels_test))"
      ]
    },
    {
      "cell_type": "markdown",
      "metadata": {
        "id": "q3hIMuVQM4AN"
      },
      "source": [
        "**Create a function called \"img_process\" converts the images to float32 datatype and resizes them to 64x64 pixels.**"
      ]
    },
    {
      "cell_type": "code",
      "execution_count": null,
      "metadata": {
        "id": "BxtGcsAWM3gs"
      },
      "outputs": [],
      "source": [
        "# CodeGrade Tag Ex1a\n",
        "### Write a function called img_process, which takes in the image and label as\n",
        "### inputs, converts the data type of the image to tf.float32, resizes the\n",
        "### image to (64, 64), and finally returns the image and labels.\n"
      ]
    },
    {
      "cell_type": "markdown",
      "metadata": {
        "id": "G51UPu0fNmNf"
      },
      "source": [
        "**Using the tf.data API, load in the training and validation data. Be mindful of efficient data processing good practice to minimise the time it takes to load the data.**"
      ]
    },
    {
      "cell_type": "code",
      "execution_count": null,
      "metadata": {
        "id": "VNUS8p98Ph5L"
      },
      "outputs": [],
      "source": [
        "# CodeGrade Tag Ex1b\n",
        "### Use the parse_image and img_process functions to construct the training and\n",
        "### validation datasets. You should utilise good practice in optimising the\n",
        "### dataset loading. Use a batch size of 64. Use techniques like caching and\n",
        "### prefetching to efficiently load the data.\n",
        "\n"
      ]
    },
    {
      "cell_type": "markdown",
      "metadata": {
        "id": "86Uo36n_KGYb"
      },
      "source": [
        "# Model Definition\n",
        "\n",
        "**Using the Keras Functional API, create a convolutional neural network with the architecture show in the model summary below.**\n",
        "\n",
        "**A few important points to consider:**\n",
        "\n",
        "* Call the convolutional layers and the first dense layer should have ReLU activation functions. The output layer should have a Sigmoid activation function.\n",
        "* Pay attention to the output shapes and the number of partmeters for each layer, as these give indications as to the correct settings for the number of filters, kernel size, stride length and padding.\n",
        "* Use the layer names provided in the summary in your model.\n",
        "* For the dropout layers, use a dropout rate of 0.2 after the convolutional layers and 0.5 after the dense layers."
      ]
    },
    {
      "cell_type": "markdown",
      "metadata": {
        "id": "hBSBfH-QP6M0"
      },
      "source": [
        "\n",
        "```\n",
        "# Model Summary\n",
        "\n",
        "Model: \"model\"\n",
        "_________________________________________________________________\n",
        " Layer (type)                Output Shape              Param #   \n",
        "=================================================================\n",
        " Input (InputLayer)          [(None, 64, 64, 3)]       0         \n",
        "                                                                 \n",
        " Conv0 (Conv2D)              (None, 32, 32, 16)        448       \n",
        "                                                                 \n",
        " Drop1 (Dropout)             (None, 32, 32, 16)        0         \n",
        "                                                                 \n",
        " Conv1 (Conv2D)              (None, 32, 32, 32)        4640      \n",
        "                                                                 \n",
        " Conv2 (Conv2D)              (None, 32, 32, 32)        9248      \n",
        "                                                                 \n",
        " Drop2 (Dropout)             (None, 32, 32, 32)        0         \n",
        "                                                                 \n",
        " Pool1 (MaxPooling2D)        (None, 16, 16, 32)        0         \n",
        "                                                                 \n",
        " Conv3 (Conv2D)              (None, 16, 16, 64)        18496     \n",
        "                                                                 \n",
        " Conv4 (Conv2D)              (None, 16, 16, 64)        36928     \n",
        "                                                                 \n",
        " Drop3 (Dropout)             (None, 16, 16, 64)        0         \n",
        "                                                                 \n",
        " Pool2 (MaxPooling2D)        (None, 8, 8, 64)          0         \n",
        "                                                                 \n",
        " Conv5 (Conv2D)              (None, 8, 8, 128)         73856     \n",
        "                                                                 \n",
        " Conv6 (Conv2D)              (None, 8, 8, 128)         147584    \n",
        "                                                                 \n",
        " Drop4 (Dropout)             (None, 8, 8, 128)         0         \n",
        "                                                                 \n",
        " Pool3 (MaxPooling2D)        (None, 4, 4, 128)         0         \n",
        "                                                                 \n",
        " Flat (Flatten)              (None, 2048)              0         \n",
        "                                                                 \n",
        " FC1 (Dense)                 (None, 1024)              2098176   \n",
        "                                                                 \n",
        " Drop5 (Dropout)             (None, 1024)              0         \n",
        "                                                                 \n",
        " FC2 (Dense)                 (None, 1024)              1049600   \n",
        "                                                                 \n",
        " Drop6 (Dropout)             (None, 1024)              0         \n",
        "                                                                 \n",
        " Output (Dense)              (None, 25)                25625     \n",
        "                                                                 \n",
        "=================================================================\n",
        "Total params: 3464601 (13.22 MB)\n",
        "Trainable params: 3464601 (13.22 MB)\n",
        "Non-trainable params: 0 (0.00 Byte)\n",
        "_________________________________________________________________\n",
        "\n",
        "\n",
        "```\n",
        "\n"
      ]
    },
    {
      "cell_type": "code",
      "execution_count": null,
      "metadata": {
        "id": "im9qipCiKJMK"
      },
      "outputs": [],
      "source": [
        "# CodeGrade Tag Ex2a\n",
        "### Define the model using the Keras Functional API. Use the summary above as a\n",
        "### guide for the model parameters. You will need to define the filters/units of\n",
        "### the layers correctly, as well as the kernel size, stride length and padding\n",
        "### of the convolutional layers.\n",
        "\n"
      ]
    },
    {
      "cell_type": "code",
      "execution_count": null,
      "metadata": {
        "id": "4ogeFQCqnz06"
      },
      "outputs": [],
      "source": [
        "# CodeGrade Tag Ex2b\n",
        "### Print the model summary and confirm is has the same architecture as the one\n",
        "### provided.\n",
        "\n"
      ]
    },
    {
      "cell_type": "markdown",
      "metadata": {
        "id": "7Q4qQnsuP-CM"
      },
      "source": [
        "**Compile the model using the Adam Optimizer with a learning rate of ```1e-4``` and ```binary crossentropy``` loss function. For the metrics, use the ``Precision`` and ``Recall`` functions.**"
      ]
    },
    {
      "cell_type": "code",
      "execution_count": null,
      "metadata": {
        "id": "qndXNKsyQl2G"
      },
      "outputs": [],
      "source": [
        "# CodeGrade Tag Ex2c\n",
        "### Compile the model using the Adam Optimizer, binary crossentropy loss, and\n",
        "### precision and recall metrics.\n"
      ]
    },
    {
      "cell_type": "markdown",
      "metadata": {
        "id": "4G9gILWpKJXP"
      },
      "source": [
        "# Model Training\n",
        "\n",
        "**Create a Model Checkpoint Callback that saves the weights of the best performing epoch, based on the validation accuracy.**"
      ]
    },
    {
      "cell_type": "code",
      "execution_count": null,
      "metadata": {
        "id": "ulXjHaiZKLLZ"
      },
      "outputs": [],
      "source": [
        "# CodeGrade Tag Ex3a\n",
        "### Create a ModelCheckpoint callback to store the bext weights from the model,\n",
        "### based on the validation accuracy. Call this callback \"checkpoint_callback\"\n",
        "\n",
        "checkpoint_filepath = '/content/checkpoint'\n",
        "\n"
      ]
    },
    {
      "cell_type": "markdown",
      "metadata": {
        "id": "9iUsL966RQMJ"
      },
      "source": [
        "**Create a Learning Rate Scheduler Callback that utilises the provided function to decrease the learning rate during training.**"
      ]
    },
    {
      "cell_type": "code",
      "execution_count": null,
      "metadata": {
        "id": "5jhC3C7qRX1B"
      },
      "outputs": [],
      "source": [
        "# CodeGrade Tag Ex3b\n",
        "### Using the function provided, create a LearningRateScheduler callback, call\n",
        "### it \"lr_callback\"\n",
        "\n",
        "def scheduler(epoch, lr):\n",
        "    if epoch < 10:\n",
        "        return lr\n",
        "    else:\n",
        "        return lr * tf.math.exp(-0.01)\n",
        "\n"
      ]
    },
    {
      "cell_type": "markdown",
      "metadata": {
        "id": "zQbqwZNjRYIC"
      },
      "source": [
        "**Train the model for 40 epochs, using the callbacks you made previously. Store the losses and metrics to use later.**"
      ]
    },
    {
      "cell_type": "code",
      "execution_count": null,
      "metadata": {
        "id": "05qEIpORRfr8"
      },
      "outputs": [],
      "source": [
        "# CodeGrade Tag Ex3c\n",
        "### Train the model for 40 epochs, using the callbacks you have created. Store\n",
        "### the losses and metrics in a history object.\n",
        "\n"
      ]
    },
    {
      "cell_type": "markdown",
      "metadata": {
        "id": "hkaP8sRwKLYn"
      },
      "source": [
        "# Model Evaluation\n",
        "\n",
        "**Create plots using the losses and metrics. In your report, discuss these results and critically evaluate the models performance.**"
      ]
    },
    {
      "cell_type": "code",
      "execution_count": null,
      "metadata": {
        "id": "V-zTj4ZZKQ2p"
      },
      "outputs": [],
      "source": [
        "# CodeGrade Tag Ex4a\n",
        "\n"
      ]
    },
    {
      "cell_type": "markdown",
      "metadata": {
        "id": "be9li89iSP6E"
      },
      "source": [
        "**Load the best weights from your model checkpoint, and create plots demonstrating the classification perfomnce of the model. Be sure to demonstrate the results of the multi-label classification, comparing the top three most probable genres predicted with the ground truth genres for each poster. Include these plots in your report, and critically evaluate on the performance of the model across the classes.**"
      ]
    },
    {
      "cell_type": "code",
      "execution_count": null,
      "metadata": {
        "id": "x7BtdNrsSlai"
      },
      "outputs": [],
      "source": [
        "# CodeGrade Tag Ex4b\n"
      ]
    }
  ],
  "metadata": {
    "accelerator": "GPU",
    "colab": {
      "gpuType": "T4",
      "provenance": []
    },
    "kernelspec": {
      "display_name": "Python 3",
      "name": "python3"
    },
    "language_info": {
      "name": "python"
    }
  },
  "nbformat": 4,
  "nbformat_minor": 0
}