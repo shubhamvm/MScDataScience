{
  "nbformat": 4,
  "nbformat_minor": 0,
  "metadata": {
    "colab": {
      "provenance": []
    },
    "kernelspec": {
      "name": "python3",
      "display_name": "Python 3"
    },
    "language_info": {
      "name": "python"
    },
    "accelerator": "GPU"
  },
  "cells": [
    {
      "cell_type": "markdown",
      "metadata": {
        "id": "IFn01UrTj1YS"
      },
      "source": [
        "# Tutorial 3 - Basic Neural Nets with Keras\n",
        "\n",
        "In this tutorial, we will explore how to construct basic neural networks using the tf.keras package. Initially we will show how a very simple network can be constructed to perform a basic binary classification."
      ]
    },
    {
      "cell_type": "code",
      "source": [
        "import numpy as np\n",
        "import tensorflow as tf\n",
        "from tensorflow import keras\n",
        "import sklearn.datasets as datasets\n",
        "import matplotlib.pyplot as plt"
      ],
      "metadata": {
        "id": "XqlPZRDQiAtN"
      },
      "execution_count": null,
      "outputs": []
    },
    {
      "cell_type": "markdown",
      "source": [
        "# Exercise 1\n",
        "\n",
        "First, create a simple dataset using the sklearn `make_blobs` function we saw in tutorial 1. It should have 2 centres, with 1000 data points, and a center box of `(-1,1)`. Plot the data in a scatter plot, using the labels to assign colours to the points. You want a dataset that has a small amount of overlap between the blobs, so if they are too seperated or too mixed together, try rerunning the code (You can also increase the size of the center box)."
      ],
      "metadata": {
        "id": "dhYEmqnUSBz0"
      }
    },
    {
      "cell_type": "code",
      "source": [
        "### Create a blob dataset (see tutorial 1) with 1000 data points, 2 centers\n",
        "### and center_box=(-1,1). Plot the data in a scatter plot with the labels\n",
        "### as the data point colours.\n",
        "# datasets.make_blobs, plt.scatter\n",
        "\n",
        "x_train, y_train = "
      ],
      "metadata": {
        "id": "CGIVB1FbZtAi"
      },
      "execution_count": null,
      "outputs": []
    },
    {
      "cell_type": "markdown",
      "source": [
        "# Exercise 2\n",
        "\n",
        "Before we construct a full model, it is useful to look at the individual components of a neural network, the layers. Using the `tf.kers.layers` create a `Dense` layer with 10 units, a `sigmoid` activation function, and an input shape of `(2,)`. The layer needs to be \"built\" so that we can fully inspect it. Call the `layer.build` method with input shape `(2,)`.\n",
        "\n",
        "A `Dense` layer is a collection of fully connected neurons. Each neuron has a weight and a bias, which are stored inside the `layer.variables` attribute. Inspect the shape of the weights and bias variables of your layer. How do those shapes relate to the settings used to create the layer? What shape will the output of the layer have? Check if you are correct by printing the output of the `layer.compute_output_shape` method, with the input shape of `(None, 2)`. (This `None` axis represents the batches of data.)"
      ],
      "metadata": {
        "id": "BR-dhQa0TKqL"
      }
    },
    {
      "cell_type": "code",
      "source": [
        "### Create a Dense layer with 10 units, sigmoid activation and input shape\n",
        "### (2,)\n",
        "# keras.layers.Dense\n",
        "\n",
        "layer = \n",
        "\n",
        "### Use the layer.build method to set up the layer weights\n",
        "# layer.build\n",
        "\n"
      ],
      "metadata": {
        "id": "AqbMsBlfaOmq"
      },
      "execution_count": null,
      "outputs": []
    },
    {
      "cell_type": "code",
      "source": [
        "### Inspect the shapes of the weights and bias of the layer\n",
        "# layer.variables\n",
        "\n"
      ],
      "metadata": {
        "id": "G7KxYqNei-9E"
      },
      "execution_count": null,
      "outputs": []
    },
    {
      "cell_type": "code",
      "source": [
        "### Try to work out what the output shape will be, then check if you are correct\n",
        "### by using the layer.compute_output_shape method\n",
        "# layer.compute_output_shape\n",
        "\n"
      ],
      "metadata": {
        "id": "ZPRXZ6ZijEP6"
      },
      "execution_count": null,
      "outputs": []
    },
    {
      "cell_type": "markdown",
      "source": [
        "# Exercise 3\n",
        "\n",
        "Next, you will construct a simple neural network using the \"Sequential API\". This creates a keras model which is composed of a single linear stack of layers. There are multiple ways to create a Sequential model, here you will use the keras.Sequential class, and provide a list of layers.\n",
        "\n",
        "Your model will be composed of two `Dense` layers, one with 10 units, and one with 1 unit.\n",
        "\n",
        "You can check the properties of your model with the `model.summary()` method. (Note, this only works if you define the input shape of the first layer.) How many traininable variables are there? How is this number calculated?"
      ],
      "metadata": {
        "id": "bSon6XNxUwKS"
      }
    },
    {
      "cell_type": "code",
      "source": [
        "### Create a sequential model with two Dense layers. The first layer should have\n",
        "### 10 units, sigmoid activation and an input shape of (2,). The seocnd layer \n",
        "### should have 1 unit and sigmoid activation.\n",
        "# keras.Sequential, keras.layers.Dense\n",
        "\n",
        "model = keras.Sequential(layers = [])"
      ],
      "metadata": {
        "id": "TUsybLSsceuo"
      },
      "execution_count": null,
      "outputs": []
    },
    {
      "cell_type": "code",
      "source": [
        "### Inspect the model summary. How is the number of trainable variables calculated?\n",
        "# model.summary\n"
      ],
      "metadata": {
        "id": "_QhYgGCMjqpb"
      },
      "execution_count": null,
      "outputs": []
    },
    {
      "cell_type": "markdown",
      "source": [
        "# Exercise 4\n",
        "\n",
        "We need to train our model to correctly predict the class label for our dataset. To do that, the model must be compiled with an `optimizer` and `loss`. Use the `model.compile` method to set the `optimizer` to `\"SGD\"` and the `loss` to `\"binary_crossentropy\"`. You can also include `metrics=[\"accuracy\"]` to measure the performance of the model.\n",
        "\n",
        "You can then use the `model.fit` method to train the model. Train your model for 15-30 epochs (check to see if the accuracy stops improving), providing the blob data points as the `x` argument and the labels as the `y` argument."
      ],
      "metadata": {
        "id": "6MvfqLepWgQt"
      }
    },
    {
      "cell_type": "code",
      "source": [
        "### Compile the model with \"RMSprop\" optimizer, \"binary_crossentropy\" loss, and\n",
        "### [\"accuracy\"] metric.\n",
        "# model.compile\n",
        "\n",
        "model.compile(optimizer=\"\", loss=\"\", metrics=[\"\"])"
      ],
      "metadata": {
        "id": "bv5V4q2FdItf"
      },
      "execution_count": null,
      "outputs": []
    },
    {
      "cell_type": "code",
      "source": [
        "### Train the model for 15 epochs, using the blob data points and labels\n",
        "# model.fit\n",
        "\n",
        "model.fit(x=, y=, epochs=)"
      ],
      "metadata": {
        "id": "y_1Hm6n9kSQn"
      },
      "execution_count": null,
      "outputs": []
    },
    {
      "cell_type": "markdown",
      "source": [
        "# Exercise 5\n",
        "\n",
        "We can now predict what the model thinks the label is for each of our data points. Use the `model.predict` method to calculate the model outputs for each of the data points. What do these numbers represent?\n",
        "\n",
        "Plot the data points again, but this time use the predicted labels to assign the colours. Compare this plot with the true labels. What has the model learned from the data? Why does it fail to predict the data labels perfectly?"
      ],
      "metadata": {
        "id": "mBGb93rfYsPM"
      }
    },
    {
      "cell_type": "code",
      "source": [
        "### Use the model.predict method to calculate the outputs of the model.\n",
        "### Print a subset of the results, what do these numbers represent?\n",
        "### How would we relate them to the labels?\n",
        "# model.predict\n",
        "\n",
        "y_pred = \n"
      ],
      "metadata": {
        "id": "4utgIClBdUoo"
      },
      "execution_count": null,
      "outputs": []
    },
    {
      "cell_type": "code",
      "source": [
        "### Plot the data points in a scatter plot, using the predicted output of the\n",
        "### model for the colours. How does this differ from the ground truth?\n",
        "# plt.scatter\n",
        "\n"
      ],
      "metadata": {
        "id": "X70MaA7Dhf7r"
      },
      "execution_count": null,
      "outputs": []
    }
  ]
}