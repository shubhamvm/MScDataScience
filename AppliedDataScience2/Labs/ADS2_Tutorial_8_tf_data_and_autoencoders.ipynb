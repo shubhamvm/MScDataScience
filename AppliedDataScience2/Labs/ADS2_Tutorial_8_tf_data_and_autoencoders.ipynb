{
  "nbformat": 4,
  "nbformat_minor": 0,
  "metadata": {
    "colab": {
      "name": "ADS2 - Tutorial 7 - tf.data and autoencoders.ipynb",
      "provenance": []
    },
    "kernelspec": {
      "name": "python3",
      "display_name": "Python 3"
    },
    "language_info": {
      "name": "python"
    },
    "accelerator": "GPU"
  },
  "cells": [
    {
      "cell_type": "markdown",
      "source": [
        "# Tutorial 7 - tf.data and autoencoders\n",
        "\n",
        "In this tutorial, you will use the tf.data functions to create a tensorflow dataset. You will then construct an autoencoder model, and use the dataset as the training input to the model. Finally, you will explore the properties of the model, in relation to the image labels."
      ],
      "metadata": {
        "id": "srAqRCbBMvq9"
      }
    },
    {
      "cell_type": "code",
      "execution_count": null,
      "metadata": {
        "id": "PlvFPDin88Py"
      },
      "outputs": [],
      "source": [
        "import tensorflow as tf\n",
        "import numpy as np\n",
        "import matplotlib.pyplot as plt"
      ]
    },
    {
      "cell_type": "markdown",
      "source": [
        "# Exercise 1\n",
        "\n",
        "Begin by loading the fashion MNIST dataset. Create a function called \"preprocessing\" that takes in an image, and performs the following steps:\n",
        "\n",
        "\n",
        "1.   Add a channels axis to the image\n",
        "2.   Randomly applies a left/right flip to the image\n",
        "3.   Converts the image to `dtype='float32'`\n",
        "4.   IMPORTANT: returns the same image TWICE\n",
        "\n",
        "Use the `.from_tensor_slices` function to create a dataset from the training images. Use dataset methods to shuffle the images, batch them and then apply the preprocessing function.\n",
        "\n",
        "Check the output of the dataset. It should return a tuple with 2 entries, each containing a batch of images with shapes:\n",
        "\n",
        "`(batch_size, 28, 28, 1)`"
      ],
      "metadata": {
        "id": "fqBRP_z1PT6U"
      }
    },
    {
      "cell_type": "code",
      "source": [
        "### Load the fashion mnist dataset from keras.datasets\n",
        "\n"
      ],
      "metadata": {
        "id": "AhWaH7jR9-j4"
      },
      "execution_count": null,
      "outputs": []
    },
    {
      "cell_type": "code",
      "source": [
        "### Create the preprocessing function, as described\n",
        "# tf.expand_dims/tf.reshape, tf.image.random_flip_left_right,\n",
        "# tf.image.convert_image_dtype\n",
        "\n",
        "def preprocessing(image):\n",
        "    \"\"\"\n",
        "    An image preprocessing function to prepare data for the autoencoder\n",
        "\n",
        "    Arguments:\n",
        "        image (tf.Tensor) — uint8 datatype, shape (height, width)\n",
        "\n",
        "    Performs the following transformations:\n",
        "        Add a channels axis to the image\n",
        "        Randomly applies a left/right flip to the image\n",
        "        Converts the image to `dtype='float32'`\n",
        "        IMPORTANT: returns the same image TWICE\n",
        "\n",
        "    \"\"\"\n",
        "\n",
        "\n",
        "    return "
      ],
      "metadata": {
        "id": "sEFQgpVq_PH2"
      },
      "execution_count": null,
      "outputs": []
    },
    {
      "cell_type": "code",
      "source": [
        "### Create a dataset using the training images\n",
        "# tf.data.Dataset.from_tensor_slices\n",
        "\n"
      ],
      "metadata": {
        "id": "aeiIohf2-Soz"
      },
      "execution_count": null,
      "outputs": []
    },
    {
      "cell_type": "code",
      "source": [
        "### Prepare the dataset for training\n",
        "# .shuffle, .batch, .map\n",
        "\n"
      ],
      "metadata": {
        "id": "EEgIfnkcALcP"
      },
      "execution_count": null,
      "outputs": []
    },
    {
      "cell_type": "markdown",
      "source": [
        "# Exercise 2\n",
        "\n",
        "Using the functional model API, construct the autoencoder.\n",
        "\n",
        "Starting with the encoder model, with the layers:\n",
        "```\n",
        "enc_in, Input, shape=(28,28,1), dtype='float32'\n",
        "flat, Flatten\n",
        "dense_1, Dense, 256 units, 'relu' activation\n",
        "encoded, Dense, 2 units, no activation\n",
        "```\n",
        "\n",
        "The decoder model should have the layers:\n",
        "```\n",
        "dec_in, Input, shape=(2,), dtype='float32'\n",
        "dense_2, Dense, units=256, activation='relu'\n",
        "dense_3, Dense, units=784, activation='relu'\n",
        "decoded, Reshape, shape=(28,28,1), no activation\n",
        "```\n",
        "\n",
        "To assemble the autoencoder, use the encoder input layer as the model inputs. To get the outputs, you need to nest calls of the encoder and decoder, like so:\n",
        "```\n",
        "decoder(encoder(enc_in))\n",
        "```\n",
        "\n",
        "Print the summaries of all three models."
      ],
      "metadata": {
        "id": "X25AVoC1RKo9"
      }
    },
    {
      "cell_type": "code",
      "source": [
        "from tensorflow.keras import layers, models, losses, metrics, optimizers"
      ],
      "metadata": {
        "id": "1MtWcyDwFino"
      },
      "execution_count": null,
      "outputs": []
    },
    {
      "cell_type": "code",
      "source": [
        "### Define Encoder model\n",
        "# layers.Input, layers.Flatten, layers.Dense, models.Model, .summary\n",
        "# Functional model means to call a layer with a tensor:\n",
        "# Layer(layer arguments)(tensor)\n",
        "\n",
        "enc_in = layers.Input(shape=(28,28,1), dtype='float32')\n"
      ],
      "metadata": {
        "colab": {
          "base_uri": "https://localhost:8080/"
        },
        "id": "hpjXC8RcCwFD",
        "outputId": "4bd86c90-6a08-42d0-c8c0-5d7402b64fd0"
      },
      "execution_count": null,
      "outputs": [
        {
          "output_type": "stream",
          "name": "stdout",
          "text": [
            "Model: \"encoder\"\n",
            "_________________________________________________________________\n",
            " Layer (type)                Output Shape              Param #   \n",
            "=================================================================\n",
            " input_1 (InputLayer)        [(None, 28, 28, 1)]       0         \n",
            "                                                                 \n",
            " flatten (Flatten)           (None, 784)               0         \n",
            "                                                                 \n",
            " dense_1 (Dense)             (None, 256)               200960    \n",
            "                                                                 \n",
            " latents (Dense)             (None, 2)                 514       \n",
            "                                                                 \n",
            "=================================================================\n",
            "Total params: 201,474\n",
            "Trainable params: 201,474\n",
            "Non-trainable params: 0\n",
            "_________________________________________________________________\n"
          ]
        }
      ]
    },
    {
      "cell_type": "code",
      "source": [
        "### Define Decoder Model\n",
        "# layers.Input, layers.Dense, layers.Reshape, models.Model, .summary\n",
        "\n",
        "dec_in = layers.Input(shape=(2,), dtype='float32')\n"
      ],
      "metadata": {
        "id": "uQS2FS_iEkI_"
      },
      "execution_count": null,
      "outputs": []
    },
    {
      "cell_type": "code",
      "source": [
        "### Define Autoencoder Model\n",
        "# inputs = enc_in, outputs = decoder(encoder(enc_in))\n",
        "# models.Model, .summary\n",
        "\n"
      ],
      "metadata": {
        "colab": {
          "base_uri": "https://localhost:8080/"
        },
        "id": "3Xz1fV0EGg_0",
        "outputId": "d9616422-1329-47d7-e120-b3f00a0cf5fe"
      },
      "execution_count": null,
      "outputs": [
        {
          "output_type": "stream",
          "name": "stdout",
          "text": [
            "Model: \"autoencoder\"\n",
            "_________________________________________________________________\n",
            " Layer (type)                Output Shape              Param #   \n",
            "=================================================================\n",
            " input_1 (InputLayer)        [(None, 28, 28, 1)]       0         \n",
            "                                                                 \n",
            " encoder (Functional)        (None, 2)                 201474    \n",
            "                                                                 \n",
            " decoder (Functional)        (None, 28, 28, 1)         202256    \n",
            "                                                                 \n",
            "=================================================================\n",
            "Total params: 403,730\n",
            "Trainable params: 403,730\n",
            "Non-trainable params: 0\n",
            "_________________________________________________________________\n"
          ]
        }
      ]
    },
    {
      "cell_type": "markdown",
      "source": [
        "# Exercise 3\n",
        "\n",
        "Compile the autoencoder model with the Adam optimizer and Mean Squared Error loss. Fit the model using your dataset as the input, for 25 epochs."
      ],
      "metadata": {
        "id": "7elZ6fi7S8Y2"
      }
    },
    {
      "cell_type": "code",
      "source": [
        "### Compile the model with the Adam optimizer and mean squared error loss\n"
      ],
      "metadata": {
        "id": "3IZjcFxsJqe6"
      },
      "execution_count": null,
      "outputs": []
    },
    {
      "cell_type": "code",
      "source": [
        "### Fit the model for 25 epochs, using the preprocessed dataset as input\n"
      ],
      "metadata": {
        "colab": {
          "base_uri": "https://localhost:8080/"
        },
        "id": "I4OBIKNeJyKo",
        "outputId": "b131c88a-e0aa-49c5-bd8e-e9907c2f3043"
      },
      "execution_count": null,
      "outputs": [
        {
          "output_type": "stream",
          "name": "stdout",
          "text": [
            "Epoch 1/25\n",
            "1875/1875 [==============================] - 12s 6ms/step - loss: 0.0595\n",
            "Epoch 2/25\n",
            "1875/1875 [==============================] - 9s 5ms/step - loss: 0.0505\n",
            "Epoch 3/25\n",
            "1875/1875 [==============================] - 6s 3ms/step - loss: 0.0475\n",
            "Epoch 4/25\n",
            "1875/1875 [==============================] - 6s 3ms/step - loss: 0.0455\n",
            "Epoch 5/25\n",
            "1875/1875 [==============================] - 6s 3ms/step - loss: 0.0429\n",
            "Epoch 6/25\n",
            "1875/1875 [==============================] - 7s 3ms/step - loss: 0.0410\n",
            "Epoch 7/25\n",
            "1875/1875 [==============================] - 7s 3ms/step - loss: 0.0405\n",
            "Epoch 8/25\n",
            "1875/1875 [==============================] - 7s 4ms/step - loss: 0.0398\n",
            "Epoch 9/25\n",
            "1875/1875 [==============================] - 6s 3ms/step - loss: 0.0394\n",
            "Epoch 10/25\n",
            "1875/1875 [==============================] - 7s 3ms/step - loss: 0.0391\n",
            "Epoch 11/25\n",
            "1875/1875 [==============================] - 6s 3ms/step - loss: 0.0387\n",
            "Epoch 12/25\n",
            "1875/1875 [==============================] - 9s 5ms/step - loss: 0.0381\n",
            "Epoch 13/25\n",
            "1875/1875 [==============================] - 9s 5ms/step - loss: 0.0377\n",
            "Epoch 14/25\n",
            "1875/1875 [==============================] - 7s 3ms/step - loss: 0.0373\n",
            "Epoch 15/25\n",
            "1875/1875 [==============================] - 6s 3ms/step - loss: 0.0373\n",
            "Epoch 16/25\n",
            "1875/1875 [==============================] - 7s 4ms/step - loss: 0.0371\n",
            "Epoch 17/25\n",
            "1875/1875 [==============================] - 7s 4ms/step - loss: 0.0368\n",
            "Epoch 18/25\n",
            "1875/1875 [==============================] - 6s 3ms/step - loss: 0.0366\n",
            "Epoch 19/25\n",
            "1875/1875 [==============================] - 6s 3ms/step - loss: 0.0365\n",
            "Epoch 20/25\n",
            "1875/1875 [==============================] - 6s 3ms/step - loss: 0.0364\n",
            "Epoch 21/25\n",
            "1875/1875 [==============================] - 7s 4ms/step - loss: 0.0363\n",
            "Epoch 22/25\n",
            "1875/1875 [==============================] - 7s 4ms/step - loss: 0.0362\n",
            "Epoch 23/25\n",
            "1875/1875 [==============================] - 7s 3ms/step - loss: 0.0360\n",
            "Epoch 24/25\n",
            "1875/1875 [==============================] - 7s 3ms/step - loss: 0.0356\n",
            "Epoch 25/25\n",
            "1875/1875 [==============================] - 7s 4ms/step - loss: 0.0353\n"
          ]
        },
        {
          "output_type": "execute_result",
          "data": {
            "text/plain": [
              "<keras.callbacks.History at 0x7fc870a73510>"
            ]
          },
          "metadata": {},
          "execution_count": 11
        }
      ]
    },
    {
      "cell_type": "markdown",
      "source": [
        "# Exercise 4\n",
        "\n",
        "Use the test images with the `.predict` method of the autoencoder model—don't forget to scale the pixel ranges—to generate the image reconstructions. Create a plot that compares the original test images and the reconstructions—for an extra challenge, plot a sample of images from each of the 10 classes with their reconstructions.\n",
        "\n",
        "The encoder model compresses the images into a 2-D \"latent space\". Call the encoder, using the test images as input, to produce encoded vectors of each image. Plot these encodings on a scatter plot, using the image labels as the colour for the markers."
      ],
      "metadata": {
        "id": "km1pTkzyUYQQ"
      }
    },
    {
      "cell_type": "code",
      "source": [
        "### Predict the reconstructed images for the test images\n",
        "# .predict\n"
      ],
      "metadata": {
        "id": "y6qplI2GKkld"
      },
      "execution_count": null,
      "outputs": []
    },
    {
      "cell_type": "code",
      "source": [
        "### Create a plot that compares the original test images and the reconstructions\n",
        "### For an extra challenge, plot a sample of images from each of the 10 classes\n",
        "### with their reconstructions.\n",
        "\n"
      ],
      "metadata": {
        "colab": {
          "base_uri": "https://localhost:8080/",
          "height": 227
        },
        "id": "MmaS0W19K58K",
        "outputId": "6778c508-184f-430c-dba5-40e54d304a62"
      },
      "execution_count": null,
      "outputs": [
        {
          "output_type": "display_data",
          "data": {
            "text/plain": [
              "<Figure size 432x288 with 10 Axes>"
            ],
            "image/png": "[encoded data removed]"
          },
          "metadata": {
            "needs_background": "light"
          }
        }
      ]
    },
    {
      "cell_type": "code",
      "source": [
        "### Encoder the test images by calling the encoder model with the images as an\n",
        "### argument\n",
        "\n"
      ],
      "metadata": {
        "id": "mxn507msLGDw"
      },
      "execution_count": null,
      "outputs": []
    },
    {
      "cell_type": "code",
      "source": [
        "### Create a scatter plot of the encoded images, using the image labels as the\n",
        "### marker colours\n",
        "\n"
      ],
      "metadata": {
        "id": "B7z060hoNUBE"
      },
      "execution_count": null,
      "outputs": []
    },
    {
      "cell_type": "markdown",
      "source": [
        "# Exercise 5\n",
        "\n",
        "Save your model using the `.save` method. Reload the model, using a different variable name, using `models.load_model`. Test that the loaded model works by repeating the steps to create the plotted images and reconstructions, above."
      ],
      "metadata": {
        "id": "sE_nAAgnZS0d"
      }
    },
    {
      "cell_type": "code",
      "source": [
        "### Save the model.\n",
        "# .save\n",
        "\n"
      ],
      "metadata": {
        "colab": {
          "base_uri": "https://localhost:8080/"
        },
        "id": "3UvWUoVOU8XT",
        "outputId": "b6d4aa31-1ca3-4444-d743-93b28d4037cf"
      },
      "execution_count": null,
      "outputs": [
        {
          "output_type": "stream",
          "name": "stdout",
          "text": [
            "INFO:tensorflow:Assets written to: Autoencoder_model/assets\n"
          ]
        }
      ]
    },
    {
      "cell_type": "code",
      "source": [
        "### Reload the model, use a different variable name\n",
        "# models.load_model\n",
        "\n"
      ],
      "metadata": {
        "id": "hiBC8RJyZhzL"
      },
      "execution_count": null,
      "outputs": []
    },
    {
      "cell_type": "code",
      "source": [
        "### Repeat the steps to produce the comparison plot of the test images and\n",
        "### reconstructions, using the loaded model to predict the reconstructions\n",
        "\n"
      ],
      "metadata": {
        "id": "Xzvn04wwZnTP"
      },
      "execution_count": null,
      "outputs": []
    }
  ]
}