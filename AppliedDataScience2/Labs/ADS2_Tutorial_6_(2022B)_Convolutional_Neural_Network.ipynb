{
  "nbformat": 4,
  "nbformat_minor": 0,
  "metadata": {
    "colab": {
      "provenance": []
    },
    "kernelspec": {
      "name": "python3",
      "display_name": "Python 3"
    },
    "language_info": {
      "name": "python"
    },
    "accelerator": "GPU"
  },
  "cells": [
    {
      "cell_type": "markdown",
      "metadata": {
        "id": "IFn01UrTj1YS"
      },
      "source": [
        "# Tutorial 4 - Convolutional Neural Networks\n",
        "\n",
        "In this tutorial, we will build a convolutional neural network for predicting the label of images which contain handwritten digits. The MNIST dataset is a widely used benchmarking dataset in the ML community, and consists of 70,000, 28x28 pixel images."
      ]
    },
    {
      "cell_type": "code",
      "metadata": {
        "id": "Qb2HPdzPjO3I"
      },
      "source": [
        "# Import tensorflow and load the MNIST image dataset\n",
        "\n",
        "import tensorflow as tf\n",
        "\n",
        "# Dataset is split into 60,000 training images and 10,000 testing images\n",
        "# Each image is given a label from (0,9), corresponding to the class\n",
        "(x_train, y_train), (x_test, y_test) = tf.keras.datasets.\\\n",
        "                                                mnist.load_data()\n"
      ],
      "execution_count": null,
      "outputs": []
    },
    {
      "cell_type": "markdown",
      "source": [
        "# Exercise 1\n",
        "\n",
        "Check the data by plotting some of the images, using their class labels as image titles. Use subplots to display 10 of the images from the training set.\n",
        "\n",
        "Convert the images to `dtype=\"float32\"` and scale the pixels to a range of (0,255)."
      ],
      "metadata": {
        "id": "RbgQeV0B4ZeS"
      }
    },
    {
      "cell_type": "code",
      "metadata": {
        "id": "SZfOGI37nB-O"
      },
      "source": [
        "### Plot 10 of the training images in a (2,5) grid of subplots\n",
        "### Use the image labels as titles on the subplots\n",
        "# plt.subplots, axis.imshow, axis.set_title\n",
        "import matplotlib.pyplot as plt\n",
        "\n"
      ],
      "execution_count": null,
      "outputs": []
    },
    {
      "cell_type": "code",
      "metadata": {
        "id": "VLh69IDQns2M"
      },
      "source": [
        "### Convert the images to floats and scale the pixel to a range of\n",
        "### (0,1). Reshape the images to shape (-1, 28, 28, 1).\n",
        "# array.astype, np.reshape\n",
        "\n"
      ],
      "execution_count": null,
      "outputs": []
    },
    {
      "cell_type": "markdown",
      "metadata": {
        "id": "fAk9cmUTrWVT"
      },
      "source": [
        "# Exercise 2\n",
        "\n",
        "A Convolutional Neural Network utilises convolutional layers to identify salient features within images—such as edges, curves, changes in brightness. Complete the following Keras Seuqential model so that it has these layers:\n",
        "\n",
        "```\n",
        "Input Layer - Shape = (28,28,1), dtype='float32'\n",
        "Convoltuonal Layer - 32 filters, (1,1) stride, (3,3) kernel, 'relu' activation, 'same' padding\n",
        "Max Pooling Layer - (2,2) pool size\n",
        "Convoltuonal Layer - 32 filters, (1,1) stride, (3,3) kernel, 'relu' activation, 'same' padding\n",
        "Max Pooling Layer - (2,2) pool size\n",
        "Flattent Layer\n",
        "Dense Layer - 64 units, 'relu' activation\n",
        "Dense Layer - 10 units\n",
        "```\n",
        "\n",
        "Print the model summary.\n"
      ]
    },
    {
      "cell_type": "code",
      "source": [
        "### Create the layers for the CNN model, using the Functional API\n",
        "# Input, Conv2D, MaxPool2D, Flatten, Dense\n",
        "\n",
        "from tensorflow.keras import layers, models\n",
        "\n",
        "Inp = layers.Input((28,28,1), dtype='float32', name='Model_Input')\n",
        "Conv1 = layers.Conv2D(32, (3,3), activation='relu',\n",
        "                      padding='same', name='conv_1')(Inp)\n",
        "Pool1 = layers.MaxPool2D(pool_size=(2,2),\n",
        "                         name='pool_1')(Conv1)\n",
        "Conv2 = ...\n",
        "\n"
      ],
      "metadata": {
        "id": "izoOK1_b5fkR"
      },
      "execution_count": null,
      "outputs": []
    },
    {
      "cell_type": "code",
      "source": [
        "### Create the model, using the input and output tensors you have define above.\n",
        "# models.Model\n",
        "\n",
        "mnist_model = ..."
      ],
      "metadata": {
        "id": "jiO_5Wd7Wh8p"
      },
      "execution_count": null,
      "outputs": []
    },
    {
      "cell_type": "markdown",
      "source": [
        "# Exercise 3\n",
        "\n",
        "Now we must prepare the model for training. Compile the model using the Adam Optimizer, Sparse Categorical Crossentropy loss `(from_logits=True)`, and the accuracy metric."
      ],
      "metadata": {
        "id": "hrehA_em-fVW"
      }
    },
    {
      "cell_type": "code",
      "metadata": {
        "id": "y-1gZgTc3Hxw"
      },
      "source": [
        "### Compile the model with the Adam optimizer, Sparse Categorical Crossentropy\n",
        "### loss (from_logits=True), and the accuracy metric\n",
        "# optimizers.Adam, losses.SparseCategoricalCrossentropy\n",
        "from tensorflow.keras import losses, optimizers\n",
        "\n",
        "mnist_model.compile()"
      ],
      "execution_count": null,
      "outputs": []
    },
    {
      "cell_type": "markdown",
      "source": [
        "# Exercise 4\n",
        "\n",
        "Train the model on the training data using the `.fit` method. Train for 25 epochs. Use the testing data for validation. Store the losses and metrics in the history object.\n",
        "\n",
        "Plot the losses and metrics for the training and validation data. What do these plots tell us about the model performance? Why is the model better at classifying the training images? Has the model reached an optimal solution?"
      ],
      "metadata": {
        "id": "b3ITrF-SAs7p"
      }
    },
    {
      "cell_type": "code",
      "metadata": {
        "id": "JWMt1lp576xW"
      },
      "source": [
        "### Train the model for 25 epochs on the training images and labels\n",
        "### Using the test images and labels as validation data\n",
        "\n",
        "history = mnist_model.fit(x=, y=, epochs=25,\n",
        "                          validation_data=())\n",
        "\n",
        "# Keys inside the history dictionary.\n",
        "print(history.history.keys)"
      ],
      "execution_count": null,
      "outputs": []
    },
    {
      "cell_type": "code",
      "source": [
        "### Plot the losses and metrics for the training and validation data.\n",
        "### These values are stored inside the history.history dictionary object.\n",
        "### You should make two plots, one for the losses, and one for the metrics.\n",
        "\n"
      ],
      "metadata": {
        "id": "1OzA1nBFXdsT"
      },
      "execution_count": null,
      "outputs": []
    },
    {
      "cell_type": "markdown",
      "metadata": {
        "id": "o2EL3e8tVLcL"
      },
      "source": [
        "# Exercise 5\n",
        "\n",
        "Currently, the output of our model is in the form of \"logits\", these are raw predictions that we can map to a probability for each of the 10 classes in our data. To do so, create a sequential model, where the first layer is the model you just trained—models can in fact be treated as layers in a higher level model—and the second layer is ```layers.Softmax()```."
      ]
    },
    {
      "cell_type": "code",
      "metadata": {
        "id": "8M8sFVIfV4F5"
      },
      "source": [
        "### Add a softmax activation layer by creating a new seuqential model that\n",
        "### takes the original model as the first layer in the list\n",
        "# models.Sequential, layers.Softmax\n",
        "import numpy as np\n",
        "\n",
        "prediction_model = models.Sequential([])"
      ],
      "execution_count": null,
      "outputs": []
    },
    {
      "cell_type": "markdown",
      "metadata": {
        "id": "uGufQuzhWsAq"
      },
      "source": [
        "The output of the model is now a 10-element vector for each image, which represents the probability distribution of the class labels.\n",
        "\n",
        "Use the `.predict` method to calculate the probabilities of the images in the test sample.\n",
        "\n",
        "Use the numpy function `argmax()` to find the highest probability class for the images."
      ]
    },
    {
      "cell_type": "code",
      "metadata": {
        "id": "RAF6qKOMWtZ_"
      },
      "source": [
        "### Use the .predict method to find the probabilities of each test image being\n",
        "### within each of the 10 classes. Then find the highest probability class for\n",
        "### each test image\n",
        "# .predict, np.argmax\n"
      ],
      "execution_count": null,
      "outputs": []
    },
    {
      "cell_type": "markdown",
      "source": [
        "# Exercise 6\n",
        "\n",
        "Create a plot which displays images in a (5,5) grid, and show the ground truth and predicted class labels for each image as a title. (Extra challenge, choose the images at random, not in the order of the test set. Extra EXTRA challenge, create plots which have only images that are correctly or incorrectly predicted.)"
      ],
      "metadata": {
        "id": "waN0sKBbQbjq"
      }
    },
    {
      "cell_type": "code",
      "metadata": {
        "id": "gPJhI4ODZYdd"
      },
      "source": [
        "### Create a plot which displays images in a (5,5) grid, and show the ground\n",
        "### truth and predicted class labels for each image as a title.\n"
      ],
      "execution_count": null,
      "outputs": []
    }
  ]
}