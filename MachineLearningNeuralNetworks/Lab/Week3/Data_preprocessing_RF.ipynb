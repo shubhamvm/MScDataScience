{
  "nbformat": 4,
  "nbformat_minor": 0,
  "metadata": {
    "colab": {
      "provenance": []
    },
    "kernelspec": {
      "name": "python3",
      "display_name": "Python 3"
    },
    "language_info": {
      "name": "python"
    }
  },
  "cells": [
    {
      "cell_type": "code",
      "source": [
        "import pandas as pd\n",
        "from sklearn.ensemble import RandomForestRegressor\n",
        "from sklearn.ensemble import RandomForestClassifier\n",
        "from sklearn.model_selection import train_test_split\n",
        "from sklearn.metrics import mean_squared_error\n",
        "from sklearn.preprocessing import LabelEncoder, KBinsDiscretizer\n",
        "import matplotlib.pyplot as plt\n",
        "from sklearn.metrics import accuracy_score, confusion_matrix"
      ],
      "metadata": {
        "id": "epTz-2kOHxuu"
      },
      "execution_count": null,
      "outputs": []
    },
    {
      "cell_type": "code",
      "execution_count": null,
      "metadata": {
        "id": "vqaDo6SH9BUq"
      },
      "outputs": [],
      "source": [
        "# Load the Titanic dataset\n",
        "titanic = pd.read_csv('https://raw.githubusercontent.com/datasciencedojo/datasets/master/titanic.csv')\n",
        "\n",
        "# Drop rows with missing values and convert categorical data to numeric\n",
        "titanic.dropna(inplace=True)\n",
        "le = LabelEncoder()\n",
        "titanic['Sex'] = le.fit_transform(titanic['Sex'])"
      ]
    },
    {
      "cell_type": "code",
      "source": [
        "# Define our features and target\n",
        "features = ['Pclass', 'Sex', 'Age', 'Fare']\n",
        "target = 'Survived'\n",
        "\n",
        "# Split the data into training and test sets\n",
        "X_train, X_test, y_train, y_test = train_test_split(titanic[features], titanic[target], test_size=0.2, random_state=42)\n",
        "\n",
        "# Train a Random Forest Regressor model and calculate MSE\n",
        "model = RandomForestRegressor(n_estimators=1000, random_state=42)\n",
        "model.fit(X_train, y_train)\n",
        "predictions = model.predict(X_test)"
      ],
      "metadata": {
        "id": "-3xXkh3N3AFv"
      },
      "execution_count": null,
      "outputs": []
    },
    {
      "cell_type": "code",
      "source": [
        "mse = mean_squared_error(y_test, predictions)\n",
        "print(f'MSE without feature engineering: {mse}')"
      ],
      "metadata": {
        "colab": {
          "base_uri": "https://localhost:8080/"
        },
        "id": "_GUegoXiVqui",
        "outputId": "c5f7c1b3-87f6-41c0-c72a-6c799dd38a8d"
      },
      "execution_count": null,
      "outputs": [
        {
          "output_type": "stream",
          "name": "stdout",
          "text": [
            "MSE without feature engineering: 0.16670186486486488\n"
          ]
        }
      ]
    },
    {
      "cell_type": "code",
      "source": [
        "# Train a Random Forest Regressor model and calculate MSE\n",
        "model = RandomForestClassifier(n_estimators=1000, random_state=42)\n",
        "model.fit(X_train, y_train)\n",
        "predictions = model.predict(X_test)\n",
        "accuracy = accuracy_score(y_test, predictions)\n",
        "print(f'Accuracy without feature engineering: {accuracy}')"
      ],
      "metadata": {
        "colab": {
          "base_uri": "https://localhost:8080/"
        },
        "id": "8IT5nOHGWhsJ",
        "outputId": "9f5b007c-28ed-4a23-bc83-66ddded6e50e"
      },
      "execution_count": null,
      "outputs": [
        {
          "output_type": "stream",
          "name": "stdout",
          "text": [
            "Accuracy without feature engineering: 0.7297297297297297\n"
          ]
        }
      ]
    },
    {
      "cell_type": "code",
      "source": [
        "conf_matrix = confusion_matrix(y_test, predictions)\n",
        "print(f'Confusion matrix:\\n{conf_matrix}')"
      ],
      "metadata": {
        "colab": {
          "base_uri": "https://localhost:8080/"
        },
        "id": "TVA562qcXdh0",
        "outputId": "3c971d80-bd77-4d76-e138-396fc13727bc"
      },
      "execution_count": null,
      "outputs": [
        {
          "output_type": "stream",
          "name": "stdout",
          "text": [
            "Confusion matrix:\n",
            "[[ 9  5]\n",
            " [ 5 18]]\n"
          ]
        }
      ]
    },
    {
      "cell_type": "code",
      "source": [
        "plt.hist(titanic['Fare'], bins=50, color='blue', alpha=0.7)\n",
        "plt.title('Fare Distribution')\n",
        "plt.xlabel('Fare')\n",
        "plt.ylabel('Frequency')\n",
        "plt.grid(True)\n",
        "plt.show()"
      ],
      "metadata": {
        "colab": {
          "base_uri": "https://localhost:8080/",
          "height": 472
        },
        "id": "UC9GTJZjHkTP",
        "outputId": "834ae39e-7736-4b3e-a91b-58af89e88f65"
      },
      "execution_count": null,
      "outputs": [
        {
          "output_type": "display_data",
          "data": {
            "text/plain": [
              "<Figure size 640x480 with 1 Axes>"
            ],
            "image/png": "[encoded data removed]"
          },
          "metadata": {}
        }
      ]
    },
    {
      "cell_type": "code",
      "source": [
        "plt.hist(np.log1p(titanic['Fare']), bins=50, color='blue', alpha=0.7)\n",
        "plt.title('Fare Distribution')\n",
        "plt.xlabel('Fare')\n",
        "plt.ylabel('Frequency')\n",
        "plt.grid(True)\n",
        "plt.show()"
      ],
      "metadata": {
        "colab": {
          "base_uri": "https://localhost:8080/",
          "height": 472
        },
        "id": "A76v_EyvH8ff",
        "outputId": "1ed9e023-e7e7-4d29-8b89-16732cc4a85b"
      },
      "execution_count": null,
      "outputs": [
        {
          "output_type": "display_data",
          "data": {
            "text/plain": [
              "<Figure size 640x480 with 1 Axes>"
            ],
            "image/png": "[encoded data removed]"
          },
          "metadata": {}
        }
      ]
    },
    {
      "cell_type": "code",
      "source": [
        "import numpy as np\n",
        "# Feature engineering steps\n",
        "\n",
        "# Cut 'Age' into ranges\n",
        "titanic['Age_Range'] = pd.cut(titanic['Age'], bins=[0,25,100],\n",
        "                              labels=[\"Child\",\"Adult\"])\n",
        "\n",
        "titanic['Age_Range'] = le.fit_transform(titanic['Age_Range'])\n",
        "titanic['LogFare'] = np.log1p(titanic['Fare'])\n",
        "\n",
        "# Redefine our features and target to include the new features\n",
        "features = ['Pclass', 'Sex', 'Age', 'LogFare']\n",
        "\n",
        "# Split the data into training and test sets\n",
        "X_train, X_test, y_train, y_test = train_test_split(titanic[features], titanic[target], test_size=0.2, random_state=42)\n",
        "\n",
        "# Train a Random Forest Regressor model and calculate MSE\n",
        "model = RandomForestRegressor(n_estimators=1000, random_state=42)\n",
        "model.fit(X_train, y_train)\n",
        "predictions = model.predict(X_test)\n",
        "mse = mean_squared_error(y_test, predictions)\n",
        "print(f'MSE with feature engineering: {mse}')"
      ],
      "metadata": {
        "colab": {
          "base_uri": "https://localhost:8080/"
        },
        "id": "S-JTjfy8BM7o",
        "outputId": "b435e60f-6637-4df0-b50b-c929c259aca8"
      },
      "execution_count": null,
      "outputs": [
        {
          "output_type": "stream",
          "name": "stdout",
          "text": [
            "MSE with feature engineering: 0.16420610810810812\n"
          ]
        }
      ]
    },
    {
      "cell_type": "code",
      "source": [
        "# Train a Random Forest Regressor model and calculate MSE\n",
        "model = RandomForestClassifier(n_estimators=1000, random_state=42)\n",
        "model.fit(X_train, y_train)\n",
        "predictions = model.predict(X_test)\n",
        "accuracy = accuracy_score(y_test, predictions)\n",
        "print(f'Accuracy with feature engineering: {accuracy}')"
      ],
      "metadata": {
        "colab": {
          "base_uri": "https://localhost:8080/"
        },
        "id": "UVZ3LGpiXGOt",
        "outputId": "7e9b1c5f-7d02-413f-f31b-c3e0a46948ac"
      },
      "execution_count": null,
      "outputs": [
        {
          "output_type": "stream",
          "name": "stdout",
          "text": [
            "Accuracy with feature engineering: 0.7297297297297297\n"
          ]
        }
      ]
    },
    {
      "cell_type": "code",
      "source": [
        "conf_matrix = confusion_matrix(y_test, predictions)\n",
        "print(f'Confusion matrix:\\n{conf_matrix}')"
      ],
      "metadata": {
        "colab": {
          "base_uri": "https://localhost:8080/"
        },
        "id": "afOdHI0FXXIh",
        "outputId": "ddc83346-6c8f-4d0d-c863-6d3da3fc5264"
      },
      "execution_count": null,
      "outputs": [
        {
          "output_type": "stream",
          "name": "stdout",
          "text": [
            "Confusion matrix:\n",
            "[[ 9  5]\n",
            " [ 5 18]]\n"
          ]
        }
      ]
    }
  ]
}